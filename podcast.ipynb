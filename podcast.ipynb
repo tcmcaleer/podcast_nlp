{
 "metadata": {
  "language_info": {
   "codemirror_mode": {
    "name": "ipython",
    "version": 3
   },
   "file_extension": ".py",
   "mimetype": "text/x-python",
   "name": "python",
   "nbconvert_exporter": "python",
   "pygments_lexer": "ipython3",
   "version": "3.8.5-final"
  },
  "orig_nbformat": 2,
  "kernelspec": {
   "name": "python3",
   "display_name": "Python 3",
   "language": "python"
  }
 },
 "nbformat": 4,
 "nbformat_minor": 2,
 "cells": [
  {
   "cell_type": "code",
   "execution_count": 1,
   "metadata": {},
   "outputs": [],
   "source": [
    "# Imports. Nothing to see here.\n",
    "\n",
    "import matplotlib.pyplot as plt\n",
    "import numpy as np\n",
    "import pandas as pd\n",
    "import seaborn as sns\n",
    "import string\n",
    "\n",
    "from imblearn.over_sampling import SMOTE\n",
    "from gensim.models import Word2Vec\n",
    "from collections import Counter\n",
    "\n",
    "import nltk\n",
    "from nltk.stem import WordNetLemmatizer\n",
    "from nltk.corpus import stopwords\n",
    "from nltk import FreqDist, word_tokenize\n",
    "from nltk.tokenize import RegexpTokenizer\n",
    "\n",
    "from sklearn.feature_extraction.text import CountVectorizer, TfidfVectorizer\n",
    "from sklearn.model_selection import train_test_split\n",
    "from sklearn.linear_model import LogisticRegression\n",
    "from sklearn.metrics import accuracy_score, f1_score, precision_score, recall_score, classification_report, plot_confusion_matrix, confusion_matrix\n",
    "from sklearn.ensemble import RandomForestClassifier\n",
    "from sklearn.model_selection import GridSearchCV\n",
    "from sklearn.naive_bayes import MultinomialNB\n",
    "import random\n",
    "\n",
    "import sqlite3"
   ]
  },
  {
   "cell_type": "code",
   "execution_count": 2,
   "metadata": {},
   "outputs": [],
   "source": [
    "# databases within ['categories', 'podcasts', 'reviews', 'runs']\n",
    "\n",
    "cnx = sqlite3.connect('D:\\Flatiron\\Capstone\\database.sqlite')\n",
    "\n",
    "podcast = pd.read_sql_query(\"SELECT * FROM podcasts\", cnx)\n",
    "\n",
    "categories = pd.read_sql_query(\"SELECT * FROM categories\", cnx)\n",
    "\n",
    "runs = pd.read_sql_query(\"SELECT * FROM runs\", cnx)\n",
    "\n",
    "reviews = pd.read_sql_query(\"SELECT * FROM reviews\", cnx)"
   ]
  },
  {
   "cell_type": "code",
   "execution_count": 3,
   "metadata": {},
   "outputs": [
    {
     "output_type": "execute_result",
     "data": {
      "text/plain": [
       "                             podcast_id  AVG(rating)\n",
       "0      a0004b1ef445af9dc84dad1e7821b1e3     1.000000\n",
       "1      a00c300fce2e20fe832f5f5e6148987c     4.444444\n",
       "2      a00cb09b7a0e02c88a2c26ab08236296     4.200000\n",
       "3      a00d083d9ad46e4a014a9903c046d544     4.925170\n",
       "4      a00e38f15aac723b046dcbffc21aca27     4.710526\n",
       "...                                 ...          ...\n",
       "46660  fffdfb5b49d0d47943e09f6213a346e5     5.000000\n",
       "46661  fffe308414050768d3ce3782aa503b7d     5.000000\n",
       "46662  fffe3f208a56dfecfaf6d0a7f8399d63     5.000000\n",
       "46663  ffff66f98c1adfc8d0d6c41bb8facfd0     5.000000\n",
       "46664  ffff923482740bc21a0fe184865ec2e2     5.000000\n",
       "\n",
       "[46665 rows x 2 columns]"
      ],
      "text/html": "<div>\n<style scoped>\n    .dataframe tbody tr th:only-of-type {\n        vertical-align: middle;\n    }\n\n    .dataframe tbody tr th {\n        vertical-align: top;\n    }\n\n    .dataframe thead th {\n        text-align: right;\n    }\n</style>\n<table border=\"1\" class=\"dataframe\">\n  <thead>\n    <tr style=\"text-align: right;\">\n      <th></th>\n      <th>podcast_id</th>\n      <th>AVG(rating)</th>\n    </tr>\n  </thead>\n  <tbody>\n    <tr>\n      <th>0</th>\n      <td>a0004b1ef445af9dc84dad1e7821b1e3</td>\n      <td>1.000000</td>\n    </tr>\n    <tr>\n      <th>1</th>\n      <td>a00c300fce2e20fe832f5f5e6148987c</td>\n      <td>4.444444</td>\n    </tr>\n    <tr>\n      <th>2</th>\n      <td>a00cb09b7a0e02c88a2c26ab08236296</td>\n      <td>4.200000</td>\n    </tr>\n    <tr>\n      <th>3</th>\n      <td>a00d083d9ad46e4a014a9903c046d544</td>\n      <td>4.925170</td>\n    </tr>\n    <tr>\n      <th>4</th>\n      <td>a00e38f15aac723b046dcbffc21aca27</td>\n      <td>4.710526</td>\n    </tr>\n    <tr>\n      <th>...</th>\n      <td>...</td>\n      <td>...</td>\n    </tr>\n    <tr>\n      <th>46660</th>\n      <td>fffdfb5b49d0d47943e09f6213a346e5</td>\n      <td>5.000000</td>\n    </tr>\n    <tr>\n      <th>46661</th>\n      <td>fffe308414050768d3ce3782aa503b7d</td>\n      <td>5.000000</td>\n    </tr>\n    <tr>\n      <th>46662</th>\n      <td>fffe3f208a56dfecfaf6d0a7f8399d63</td>\n      <td>5.000000</td>\n    </tr>\n    <tr>\n      <th>46663</th>\n      <td>ffff66f98c1adfc8d0d6c41bb8facfd0</td>\n      <td>5.000000</td>\n    </tr>\n    <tr>\n      <th>46664</th>\n      <td>ffff923482740bc21a0fe184865ec2e2</td>\n      <td>5.000000</td>\n    </tr>\n  </tbody>\n</table>\n<p>46665 rows × 2 columns</p>\n</div>"
     },
     "metadata": {},
     "execution_count": 3
    }
   ],
   "source": [
    "explore = pd.read_sql_query('''SELECT p.podcast_id, AVG(rating) \n",
    "                            FROM podcasts p \n",
    "                            JOIN categories c \n",
    "                            ON p.podcast_id = c.podcast_id \n",
    "                            JOIN reviews r \n",
    "                            ON p.podcast_id = r.podcast_id \n",
    "                            GROUP BY p.podcast_id\n",
    "                            ORDER BY rating\n",
    "                            ''', cnx)\n",
    "explore\n"
   ]
  },
  {
   "cell_type": "code",
   "execution_count": 4,
   "metadata": {},
   "outputs": [],
   "source": [
    "data = pd.read_sql_query(\"SELECT * FROM podcasts p JOIN categories c ON p.podcast_id = c.podcast_id JOIN reviews r ON p.podcast_id = r.podcast_id\", cnx)"
   ]
  },
  {
   "cell_type": "code",
   "execution_count": 5,
   "metadata": {},
   "outputs": [],
   "source": [
    "data.drop(['itunes_url','itunes_id', 'created_at', 'title', 'podcast_id'], axis=1, inplace=True)"
   ]
  },
  {
   "cell_type": "code",
   "execution_count": 6,
   "metadata": {},
   "outputs": [
    {
     "output_type": "stream",
     "name": "stdout",
     "text": [
      "slug        0\ncategory    0\ncontent     0\nrating      0\ndtype: int64\n"
     ]
    }
   ],
   "source": [
    "print(data.isna().sum())"
   ]
  },
  {
   "cell_type": "code",
   "execution_count": 7,
   "metadata": {},
   "outputs": [
    {
     "output_type": "stream",
     "name": "stdout",
     "text": [
      "# Number of duplicate rows dropped: 2968\n"
     ]
    }
   ],
   "source": [
    "# Check for duplicated rows and preserve unique entries.\n",
    "\n",
    "a = len(data)\n",
    "data = data.drop_duplicates()\n",
    "b = len(data)\n",
    "print('# Number of duplicate rows dropped: {}'.format(a-b))"
   ]
  },
  {
   "cell_type": "code",
   "execution_count": 8,
   "metadata": {},
   "outputs": [
    {
     "output_type": "stream",
     "name": "stdout",
     "text": [
      "<class 'pandas.core.frame.DataFrame'>\nInt64Index: 1422197 entries, 0 to 1425164\nData columns (total 4 columns):\n #   Column    Non-Null Count    Dtype \n---  ------    --------------    ----- \n 0   slug      1422197 non-null  object\n 1   category  1422197 non-null  object\n 2   content   1422197 non-null  object\n 3   rating    1422197 non-null  int64 \ndtypes: int64(1), object(3)\nmemory usage: 54.3+ MB\n"
     ]
    }
   ],
   "source": [
    "data.info()"
   ]
  },
  {
   "cell_type": "code",
   "execution_count": 9,
   "metadata": {},
   "outputs": [
    {
     "output_type": "execute_result",
     "data": {
      "text/plain": [
       "(1422197, 4)"
      ]
     },
     "metadata": {},
     "execution_count": 9
    }
   ],
   "source": [
    "data.shape"
   ]
  },
  {
   "cell_type": "code",
   "execution_count": 10,
   "metadata": {},
   "outputs": [
    {
     "output_type": "execute_result",
     "data": {
      "text/plain": [
       "array(['arts', 'arts-performing-arts', 'music', 'arts-design',\n",
       "       'education', 'society-culture', 'arts-visual-arts', 'technology',\n",
       "       'arts-food', 'society-culture-personal-journals', 'comedy',\n",
       "       'arts-fashion-beauty', 'tv-film', 'society-culture-places-travel',\n",
       "       'kids-family', 'religion-spirituality', 'business',\n",
       "       'society-culture-philosophy', 'spirituality', 'business-careers',\n",
       "       'christianity', 'hinduism', 'business-investing', 'judaism',\n",
       "       'islam', 'buddhism'], dtype=object)"
      ]
     },
     "metadata": {},
     "execution_count": 10
    }
   ],
   "source": [
    "data['category'].unique()"
   ]
  },
  {
   "cell_type": "code",
   "execution_count": 11,
   "metadata": {},
   "outputs": [],
   "source": [
    "tokenizer = RegexpTokenizer(r'\\w+')\n",
    "\n",
    "stops = stopwords.words('english')\n",
    "stops += list(string.punctuation)"
   ]
  },
  {
   "cell_type": "code",
   "execution_count": 12,
   "metadata": {},
   "outputs": [
    {
     "output_type": "execute_result",
     "data": {
      "text/plain": [
       "                                                      slug  \\\n",
       "0                               backstage-at-tilles-center   \n",
       "1                               backstage-at-tilles-center   \n",
       "2                               backstage-at-tilles-center   \n",
       "3                               backstage-at-tilles-center   \n",
       "4                               backstage-at-tilles-center   \n",
       "...                                                    ...   \n",
       "1425160                     what-if-world-stories-for-kids   \n",
       "1425161  inbox-besties-w-kate-doster-email-marketing-po...   \n",
       "1425162                                         the-trypod   \n",
       "1425163                                         the-trypod   \n",
       "1425164     root-evil-true-story-hodel-family-black-dahlia   \n",
       "\n",
       "                     category  \\\n",
       "0                        arts   \n",
       "1        arts-performing-arts   \n",
       "2                       music   \n",
       "3                        arts   \n",
       "4        arts-performing-arts   \n",
       "...                       ...   \n",
       "1425160           kids-family   \n",
       "1425161              business   \n",
       "1425162                comedy   \n",
       "1425163                comedy   \n",
       "1425164       society-culture   \n",
       "\n",
       "                                                   content  rating  \n",
       "0        Thanks for providing these insights.  Really e...       5  \n",
       "1        Thanks for providing these insights.  Really e...       5  \n",
       "2        Thanks for providing these insights.  Really e...       5  \n",
       "3        Super excited to see this podcast grow. So man...       5  \n",
       "4        Super excited to see this podcast grow. So man...       5  \n",
       "...                                                    ...     ...  \n",
       "1425160  I made this so all you guys that listen to thi...       5  \n",
       "1425161  I just discovered Kate Doster and the hype is ...       5  \n",
       "1425162  This podcast as well as the “you can sit with ...       1  \n",
       "1425163  Really crappy ep 2/4. I guess they can’t all b...       1  \n",
       "1425164  Very well presented story! Sad to have happene...       5  \n",
       "\n",
       "[1422197 rows x 4 columns]"
      ],
      "text/html": "<div>\n<style scoped>\n    .dataframe tbody tr th:only-of-type {\n        vertical-align: middle;\n    }\n\n    .dataframe tbody tr th {\n        vertical-align: top;\n    }\n\n    .dataframe thead th {\n        text-align: right;\n    }\n</style>\n<table border=\"1\" class=\"dataframe\">\n  <thead>\n    <tr style=\"text-align: right;\">\n      <th></th>\n      <th>slug</th>\n      <th>category</th>\n      <th>content</th>\n      <th>rating</th>\n    </tr>\n  </thead>\n  <tbody>\n    <tr>\n      <th>0</th>\n      <td>backstage-at-tilles-center</td>\n      <td>arts</td>\n      <td>Thanks for providing these insights.  Really e...</td>\n      <td>5</td>\n    </tr>\n    <tr>\n      <th>1</th>\n      <td>backstage-at-tilles-center</td>\n      <td>arts-performing-arts</td>\n      <td>Thanks for providing these insights.  Really e...</td>\n      <td>5</td>\n    </tr>\n    <tr>\n      <th>2</th>\n      <td>backstage-at-tilles-center</td>\n      <td>music</td>\n      <td>Thanks for providing these insights.  Really e...</td>\n      <td>5</td>\n    </tr>\n    <tr>\n      <th>3</th>\n      <td>backstage-at-tilles-center</td>\n      <td>arts</td>\n      <td>Super excited to see this podcast grow. So man...</td>\n      <td>5</td>\n    </tr>\n    <tr>\n      <th>4</th>\n      <td>backstage-at-tilles-center</td>\n      <td>arts-performing-arts</td>\n      <td>Super excited to see this podcast grow. So man...</td>\n      <td>5</td>\n    </tr>\n    <tr>\n      <th>...</th>\n      <td>...</td>\n      <td>...</td>\n      <td>...</td>\n      <td>...</td>\n    </tr>\n    <tr>\n      <th>1425160</th>\n      <td>what-if-world-stories-for-kids</td>\n      <td>kids-family</td>\n      <td>I made this so all you guys that listen to thi...</td>\n      <td>5</td>\n    </tr>\n    <tr>\n      <th>1425161</th>\n      <td>inbox-besties-w-kate-doster-email-marketing-po...</td>\n      <td>business</td>\n      <td>I just discovered Kate Doster and the hype is ...</td>\n      <td>5</td>\n    </tr>\n    <tr>\n      <th>1425162</th>\n      <td>the-trypod</td>\n      <td>comedy</td>\n      <td>This podcast as well as the “you can sit with ...</td>\n      <td>1</td>\n    </tr>\n    <tr>\n      <th>1425163</th>\n      <td>the-trypod</td>\n      <td>comedy</td>\n      <td>Really crappy ep 2/4. I guess they can’t all b...</td>\n      <td>1</td>\n    </tr>\n    <tr>\n      <th>1425164</th>\n      <td>root-evil-true-story-hodel-family-black-dahlia</td>\n      <td>society-culture</td>\n      <td>Very well presented story! Sad to have happene...</td>\n      <td>5</td>\n    </tr>\n  </tbody>\n</table>\n<p>1422197 rows × 4 columns</p>\n</div>"
     },
     "metadata": {},
     "execution_count": 12
    }
   ],
   "source": [
    "data"
   ]
  },
  {
   "cell_type": "code",
   "execution_count": 13,
   "metadata": {},
   "outputs": [
    {
     "output_type": "execute_result",
     "data": {
      "text/plain": [
       "                                                      slug  category  \\\n",
       "0                               backstage at tilles center      arts   \n",
       "1                               backstage at tilles center      arts   \n",
       "2                               backstage at tilles center     music   \n",
       "3                               backstage at tilles center      arts   \n",
       "4                               backstage at tilles center      arts   \n",
       "...                                                    ...       ...   \n",
       "1425160                     what if world stories for kids      kids   \n",
       "1425161  inbox besties w kate doster email marketing po...  business   \n",
       "1425162                                         the trypod    comedy   \n",
       "1425163                                         the trypod    comedy   \n",
       "1425164     root evil true story hodel family black dahlia   society   \n",
       "\n",
       "                                                   content  rating  \n",
       "0        Thanks for providing these insights.  Really e...       5  \n",
       "1        Thanks for providing these insights.  Really e...       5  \n",
       "2        Thanks for providing these insights.  Really e...       5  \n",
       "3        Super excited to see this podcast grow. So man...       5  \n",
       "4        Super excited to see this podcast grow. So man...       5  \n",
       "...                                                    ...     ...  \n",
       "1425160  I made this so all you guys that listen to thi...       5  \n",
       "1425161  I just discovered Kate Doster and the hype is ...       5  \n",
       "1425162  This podcast as well as the “you can sit with ...       1  \n",
       "1425163  Really crappy ep 2/4. I guess they can’t all b...       1  \n",
       "1425164  Very well presented story! Sad to have happene...       5  \n",
       "\n",
       "[1422197 rows x 4 columns]"
      ],
      "text/html": "<div>\n<style scoped>\n    .dataframe tbody tr th:only-of-type {\n        vertical-align: middle;\n    }\n\n    .dataframe tbody tr th {\n        vertical-align: top;\n    }\n\n    .dataframe thead th {\n        text-align: right;\n    }\n</style>\n<table border=\"1\" class=\"dataframe\">\n  <thead>\n    <tr style=\"text-align: right;\">\n      <th></th>\n      <th>slug</th>\n      <th>category</th>\n      <th>content</th>\n      <th>rating</th>\n    </tr>\n  </thead>\n  <tbody>\n    <tr>\n      <th>0</th>\n      <td>backstage at tilles center</td>\n      <td>arts</td>\n      <td>Thanks for providing these insights.  Really e...</td>\n      <td>5</td>\n    </tr>\n    <tr>\n      <th>1</th>\n      <td>backstage at tilles center</td>\n      <td>arts</td>\n      <td>Thanks for providing these insights.  Really e...</td>\n      <td>5</td>\n    </tr>\n    <tr>\n      <th>2</th>\n      <td>backstage at tilles center</td>\n      <td>music</td>\n      <td>Thanks for providing these insights.  Really e...</td>\n      <td>5</td>\n    </tr>\n    <tr>\n      <th>3</th>\n      <td>backstage at tilles center</td>\n      <td>arts</td>\n      <td>Super excited to see this podcast grow. So man...</td>\n      <td>5</td>\n    </tr>\n    <tr>\n      <th>4</th>\n      <td>backstage at tilles center</td>\n      <td>arts</td>\n      <td>Super excited to see this podcast grow. So man...</td>\n      <td>5</td>\n    </tr>\n    <tr>\n      <th>...</th>\n      <td>...</td>\n      <td>...</td>\n      <td>...</td>\n      <td>...</td>\n    </tr>\n    <tr>\n      <th>1425160</th>\n      <td>what if world stories for kids</td>\n      <td>kids</td>\n      <td>I made this so all you guys that listen to thi...</td>\n      <td>5</td>\n    </tr>\n    <tr>\n      <th>1425161</th>\n      <td>inbox besties w kate doster email marketing po...</td>\n      <td>business</td>\n      <td>I just discovered Kate Doster and the hype is ...</td>\n      <td>5</td>\n    </tr>\n    <tr>\n      <th>1425162</th>\n      <td>the trypod</td>\n      <td>comedy</td>\n      <td>This podcast as well as the “you can sit with ...</td>\n      <td>1</td>\n    </tr>\n    <tr>\n      <th>1425163</th>\n      <td>the trypod</td>\n      <td>comedy</td>\n      <td>Really crappy ep 2/4. I guess they can’t all b...</td>\n      <td>1</td>\n    </tr>\n    <tr>\n      <th>1425164</th>\n      <td>root evil true story hodel family black dahlia</td>\n      <td>society</td>\n      <td>Very well presented story! Sad to have happene...</td>\n      <td>5</td>\n    </tr>\n  </tbody>\n</table>\n<p>1422197 rows × 4 columns</p>\n</div>"
     },
     "metadata": {},
     "execution_count": 13
    }
   ],
   "source": [
    "data ['slug'] = data['slug'].apply(lambda x: x.replace('-',' '))\n",
    "data ['category'] = data['category'].apply(lambda x: x.replace('-',' '))\n",
    "data ['category'] = data['category'].apply(lambda x: x.split()[0])\n",
    "data"
   ]
  },
  {
   "cell_type": "code",
   "execution_count": 14,
   "metadata": {},
   "outputs": [],
   "source": [
    "data['all'] = data['slug'] + ' ' + data['content']"
   ]
  },
  {
   "cell_type": "code",
   "execution_count": 15,
   "metadata": {},
   "outputs": [],
   "source": [
    "data['all'] = data['all'].apply(tokenizer.tokenize)\n",
    "\n",
    "data['all'] = data['all'].apply(lambda x: [word.lower() for word in x if word.lower() not in stops])"
   ]
  },
  {
   "cell_type": "code",
   "execution_count": 16,
   "metadata": {},
   "outputs": [],
   "source": [
    "data.drop(['slug', 'content'], axis = 1, inplace=True)"
   ]
  },
  {
   "cell_type": "code",
   "execution_count": 17,
   "metadata": {},
   "outputs": [
    {
     "output_type": "execute_result",
     "data": {
      "text/plain": [
       "         category  rating                                                all\n",
       "0            arts       5  [backstage, tilles, center, thanks, providing,...\n",
       "1            arts       5  [backstage, tilles, center, thanks, providing,...\n",
       "2           music       5  [backstage, tilles, center, thanks, providing,...\n",
       "3            arts       5  [backstage, tilles, center, super, excited, se...\n",
       "4            arts       5  [backstage, tilles, center, super, excited, se...\n",
       "...           ...     ...                                                ...\n",
       "1425160      kids       5  [world, stories, kids, made, guys, listen, pod...\n",
       "1425161  business       5  [inbox, besties, w, kate, doster, email, marke...\n",
       "1425162    comedy       1  [trypod, podcast, well, sit, us, podcast, turn...\n",
       "1425163    comedy       1  [trypod, really, crappy, ep, 2, 4, guess, winn...\n",
       "1425164   society       5  [root, evil, true, story, hodel, family, black...\n",
       "\n",
       "[1422197 rows x 3 columns]"
      ],
      "text/html": "<div>\n<style scoped>\n    .dataframe tbody tr th:only-of-type {\n        vertical-align: middle;\n    }\n\n    .dataframe tbody tr th {\n        vertical-align: top;\n    }\n\n    .dataframe thead th {\n        text-align: right;\n    }\n</style>\n<table border=\"1\" class=\"dataframe\">\n  <thead>\n    <tr style=\"text-align: right;\">\n      <th></th>\n      <th>category</th>\n      <th>rating</th>\n      <th>all</th>\n    </tr>\n  </thead>\n  <tbody>\n    <tr>\n      <th>0</th>\n      <td>arts</td>\n      <td>5</td>\n      <td>[backstage, tilles, center, thanks, providing,...</td>\n    </tr>\n    <tr>\n      <th>1</th>\n      <td>arts</td>\n      <td>5</td>\n      <td>[backstage, tilles, center, thanks, providing,...</td>\n    </tr>\n    <tr>\n      <th>2</th>\n      <td>music</td>\n      <td>5</td>\n      <td>[backstage, tilles, center, thanks, providing,...</td>\n    </tr>\n    <tr>\n      <th>3</th>\n      <td>arts</td>\n      <td>5</td>\n      <td>[backstage, tilles, center, super, excited, se...</td>\n    </tr>\n    <tr>\n      <th>4</th>\n      <td>arts</td>\n      <td>5</td>\n      <td>[backstage, tilles, center, super, excited, se...</td>\n    </tr>\n    <tr>\n      <th>...</th>\n      <td>...</td>\n      <td>...</td>\n      <td>...</td>\n    </tr>\n    <tr>\n      <th>1425160</th>\n      <td>kids</td>\n      <td>5</td>\n      <td>[world, stories, kids, made, guys, listen, pod...</td>\n    </tr>\n    <tr>\n      <th>1425161</th>\n      <td>business</td>\n      <td>5</td>\n      <td>[inbox, besties, w, kate, doster, email, marke...</td>\n    </tr>\n    <tr>\n      <th>1425162</th>\n      <td>comedy</td>\n      <td>1</td>\n      <td>[trypod, podcast, well, sit, us, podcast, turn...</td>\n    </tr>\n    <tr>\n      <th>1425163</th>\n      <td>comedy</td>\n      <td>1</td>\n      <td>[trypod, really, crappy, ep, 2, 4, guess, winn...</td>\n    </tr>\n    <tr>\n      <th>1425164</th>\n      <td>society</td>\n      <td>5</td>\n      <td>[root, evil, true, story, hodel, family, black...</td>\n    </tr>\n  </tbody>\n</table>\n<p>1422197 rows × 3 columns</p>\n</div>"
     },
     "metadata": {},
     "execution_count": 17
    }
   ],
   "source": [
    "data"
   ]
  },
  {
   "cell_type": "code",
   "execution_count": 18,
   "metadata": {},
   "outputs": [
    {
     "output_type": "execute_result",
     "data": {
      "text/plain": [
       "46665"
      ]
     },
     "metadata": {},
     "execution_count": 18
    }
   ],
   "source": [
    "podcast['podcast_id'].nunique()"
   ]
  },
  {
   "cell_type": "code",
   "execution_count": 19,
   "metadata": {},
   "outputs": [
    {
     "output_type": "execute_result",
     "data": {
      "text/plain": [
       "5    1265760\n",
       "1      60381\n",
       "4      41631\n",
       "3      29006\n",
       "2      25419\n",
       "Name: rating, dtype: int64"
      ]
     },
     "metadata": {},
     "execution_count": 19
    }
   ],
   "source": [
    "############################ Visualize this ##############################\n",
    "\n",
    "data['rating'].value_counts()"
   ]
  },
  {
   "source": [
    "# Functions"
   ],
   "cell_type": "markdown",
   "metadata": {}
  },
  {
   "cell_type": "code",
   "execution_count": 20,
   "metadata": {},
   "outputs": [],
   "source": [
    "# Count Vectorize or TF-IDF. Our first and most vital choice.\n",
    "def CV(X_train, X_test):\n",
    "    count_vectorizer = CountVectorizer()\n",
    "    X_train_counts = count_vectorizer.fit_transform(X_train)\n",
    "    X_test_counts = count_vectorizer.transform(X_test)\n",
    "    return X_train_counts, X_test_counts\n",
    "\n",
    "def tf_idf(X_train, X_test):\n",
    "    tfidf = TfidfVectorizer()\n",
    "    X_train_counts = tfidf.fit_transform(X_train)\n",
    "    X_test_counts = tfidf.transform(X_test)\n",
    "    return X_test_counts, X_train_counts\n"
   ]
  },
  {
   "cell_type": "code",
   "execution_count": 21,
   "metadata": {},
   "outputs": [],
   "source": [
    "# Lemmatizing will or won't happen. Two functions, one nested inside the other.\n",
    "def lemmatize_text(text):\n",
    "    lemmatizer = WordNetLemmatizer()\n",
    "    return [lemmatizer.lemmatize(w) for w in text]\n",
    "\n",
    "def lemmatize():\n",
    "    data['lemm'] = data['tokens'].apply(lemmatize_text)\n",
    "    data['lemm'] = data['lemm'].apply(lambda x: ' '.join(x))"
   ]
  },
  {
   "cell_type": "code",
   "execution_count": 22,
   "metadata": {},
   "outputs": [],
   "source": [
    "# SMOTE either will or will not run.\n",
    "def smote(X_train_counts, y_train):\n",
    "    smote = SMOTE()\n",
    "    X_train_counts, y_train = smote.fit_sample(X_train_counts, y_train)\n",
    "    return X_train_counts, y_train\n",
    "\n",
    "# Train Test Split. The col variable is important and will be different depending on whether we lemmatize.\n",
    "def TTS(col):\n",
    "    X_train, X_test, y_train, y_test = train_test_split(data[col], data['feelings'])\n",
    "    return X_train, X_test, y_train, y_test"
   ]
  },
  {
   "cell_type": "code",
   "execution_count": 23,
   "metadata": {},
   "outputs": [],
   "source": [
    "# SMOTE either will or will not run.\n",
    "def smote(X_train_counts, y_train):\n",
    "    smote = SMOTE()\n",
    "    X_train_counts, y_train = smote.fit_sample(X_train_counts, y_train)\n",
    "    return X_train_counts, y_train\n",
    "\n",
    "# Train Test Split. The col variable is important and will be different depending on whether we lemmatize.\n",
    "def TTS(col):\n",
    "    X_train, X_test, y_train, y_test = train_test_split(data[col], data['feelings'])\n",
    "    return X_train, X_test, y_train, y_test"
   ]
  },
  {
   "source": [
    "# Back to work"
   ],
   "cell_type": "markdown",
   "metadata": {}
  },
  {
   "cell_type": "code",
   "execution_count": 24,
   "metadata": {},
   "outputs": [
    {
     "output_type": "execute_result",
     "data": {
      "text/plain": [
       "                             podcast_id   itunes_id  \\\n",
       "0      a00018b54eb342567c94dacfb2a3e504  1313466221   \n",
       "1      a00043d34e734b09246d17dc5d56f63c   158973461   \n",
       "2      a0004b1ef445af9dc84dad1e7821b1e3   139076942   \n",
       "3      a00071f9aaae9ac725c3a586701abf4d  1332508972   \n",
       "4      a000aa69852b276565c4f5eb9cdd999b  1342447811   \n",
       "...                                 ...         ...   \n",
       "46660  fffe3f208a56dfecfaf6d0a7f8399d63  1420703219   \n",
       "46661  fffeb7d6d05f2b4c600fbebc828ca656  1220681898   \n",
       "46662  ffff5db4b5db2d860c49749e5de8a36d   384521934   \n",
       "46663  ffff66f98c1adfc8d0d6c41bb8facfd0  1435731839   \n",
       "46664  ffff923482740bc21a0fe184865ec2e2  1271277212   \n",
       "\n",
       "                                        slug  \\\n",
       "0                             scaling-global   \n",
       "1      cornerstone-baptist-church-of-orlando   \n",
       "2                mystery-dancing-in-the-dark   \n",
       "3                          kts-money-matters   \n",
       "4                            speedway-soccer   \n",
       "...                                      ...   \n",
       "46660        how-travel-writers-self-publish   \n",
       "46661   teddy-the-empress-cooking-the-queens   \n",
       "46662  frankenstein-or-the-modern-prometheus   \n",
       "46663                     whos-bringing-wine   \n",
       "46664                            tefl-waffle   \n",
       "\n",
       "                                              itunes_url  \\\n",
       "0      https://podcasts.apple.com/us/podcast/scaling-...   \n",
       "1      https://podcasts.apple.com/us/podcast/cornerst...   \n",
       "2      https://podcasts.apple.com/us/podcast/mystery-...   \n",
       "3      https://podcasts.apple.com/us/podcast/kts-mone...   \n",
       "4      https://podcasts.apple.com/us/podcast/speedway...   \n",
       "...                                                  ...   \n",
       "46660  https://podcasts.apple.com/us/podcast/how-trav...   \n",
       "46661  https://podcasts.apple.com/us/podcast/teddy-th...   \n",
       "46662  https://podcasts.apple.com/us/podcast/frankens...   \n",
       "46663  https://podcasts.apple.com/us/podcast/whos-bri...   \n",
       "46664  https://podcasts.apple.com/us/podcast/tefl-waf...   \n",
       "\n",
       "                                          title  \n",
       "0                                Scaling Global  \n",
       "1         Cornerstone Baptist Church of Orlando  \n",
       "2                  Mystery: Dancing in the Dark  \n",
       "3                             KTs Money Matters  \n",
       "4                               Speedway Soccer  \n",
       "...                                         ...  \n",
       "46660           How Travel Writers Self-Publish  \n",
       "46661  TEDDY & THE EMPRESS:  Cooking the Queens  \n",
       "46662    Frankenstein, or the Modern Prometheus  \n",
       "46663                      Who’s Bringing Wine?  \n",
       "46664                               TEFL Waffle  \n",
       "\n",
       "[46665 rows x 5 columns]"
      ],
      "text/html": "<div>\n<style scoped>\n    .dataframe tbody tr th:only-of-type {\n        vertical-align: middle;\n    }\n\n    .dataframe tbody tr th {\n        vertical-align: top;\n    }\n\n    .dataframe thead th {\n        text-align: right;\n    }\n</style>\n<table border=\"1\" class=\"dataframe\">\n  <thead>\n    <tr style=\"text-align: right;\">\n      <th></th>\n      <th>podcast_id</th>\n      <th>itunes_id</th>\n      <th>slug</th>\n      <th>itunes_url</th>\n      <th>title</th>\n    </tr>\n  </thead>\n  <tbody>\n    <tr>\n      <th>0</th>\n      <td>a00018b54eb342567c94dacfb2a3e504</td>\n      <td>1313466221</td>\n      <td>scaling-global</td>\n      <td>https://podcasts.apple.com/us/podcast/scaling-...</td>\n      <td>Scaling Global</td>\n    </tr>\n    <tr>\n      <th>1</th>\n      <td>a00043d34e734b09246d17dc5d56f63c</td>\n      <td>158973461</td>\n      <td>cornerstone-baptist-church-of-orlando</td>\n      <td>https://podcasts.apple.com/us/podcast/cornerst...</td>\n      <td>Cornerstone Baptist Church of Orlando</td>\n    </tr>\n    <tr>\n      <th>2</th>\n      <td>a0004b1ef445af9dc84dad1e7821b1e3</td>\n      <td>139076942</td>\n      <td>mystery-dancing-in-the-dark</td>\n      <td>https://podcasts.apple.com/us/podcast/mystery-...</td>\n      <td>Mystery: Dancing in the Dark</td>\n    </tr>\n    <tr>\n      <th>3</th>\n      <td>a00071f9aaae9ac725c3a586701abf4d</td>\n      <td>1332508972</td>\n      <td>kts-money-matters</td>\n      <td>https://podcasts.apple.com/us/podcast/kts-mone...</td>\n      <td>KTs Money Matters</td>\n    </tr>\n    <tr>\n      <th>4</th>\n      <td>a000aa69852b276565c4f5eb9cdd999b</td>\n      <td>1342447811</td>\n      <td>speedway-soccer</td>\n      <td>https://podcasts.apple.com/us/podcast/speedway...</td>\n      <td>Speedway Soccer</td>\n    </tr>\n    <tr>\n      <th>...</th>\n      <td>...</td>\n      <td>...</td>\n      <td>...</td>\n      <td>...</td>\n      <td>...</td>\n    </tr>\n    <tr>\n      <th>46660</th>\n      <td>fffe3f208a56dfecfaf6d0a7f8399d63</td>\n      <td>1420703219</td>\n      <td>how-travel-writers-self-publish</td>\n      <td>https://podcasts.apple.com/us/podcast/how-trav...</td>\n      <td>How Travel Writers Self-Publish</td>\n    </tr>\n    <tr>\n      <th>46661</th>\n      <td>fffeb7d6d05f2b4c600fbebc828ca656</td>\n      <td>1220681898</td>\n      <td>teddy-the-empress-cooking-the-queens</td>\n      <td>https://podcasts.apple.com/us/podcast/teddy-th...</td>\n      <td>TEDDY &amp; THE EMPRESS:  Cooking the Queens</td>\n    </tr>\n    <tr>\n      <th>46662</th>\n      <td>ffff5db4b5db2d860c49749e5de8a36d</td>\n      <td>384521934</td>\n      <td>frankenstein-or-the-modern-prometheus</td>\n      <td>https://podcasts.apple.com/us/podcast/frankens...</td>\n      <td>Frankenstein, or the Modern Prometheus</td>\n    </tr>\n    <tr>\n      <th>46663</th>\n      <td>ffff66f98c1adfc8d0d6c41bb8facfd0</td>\n      <td>1435731839</td>\n      <td>whos-bringing-wine</td>\n      <td>https://podcasts.apple.com/us/podcast/whos-bri...</td>\n      <td>Who’s Bringing Wine?</td>\n    </tr>\n    <tr>\n      <th>46664</th>\n      <td>ffff923482740bc21a0fe184865ec2e2</td>\n      <td>1271277212</td>\n      <td>tefl-waffle</td>\n      <td>https://podcasts.apple.com/us/podcast/tefl-waf...</td>\n      <td>TEFL Waffle</td>\n    </tr>\n  </tbody>\n</table>\n<p>46665 rows × 5 columns</p>\n</div>"
     },
     "metadata": {},
     "execution_count": 24
    }
   ],
   "source": [
    "podcast"
   ]
  },
  {
   "cell_type": "code",
   "execution_count": null,
   "metadata": {},
   "outputs": [],
   "source": []
  }
 ]
}