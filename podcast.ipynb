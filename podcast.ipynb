{
 "metadata": {
  "language_info": {
   "codemirror_mode": {
    "name": "ipython",
    "version": 3
   },
   "file_extension": ".py",
   "mimetype": "text/x-python",
   "name": "python",
   "nbconvert_exporter": "python",
   "pygments_lexer": "ipython3",
   "version": "3.8.5-final"
  },
  "orig_nbformat": 2,
  "kernelspec": {
   "name": "python3",
   "display_name": "Python 3",
   "language": "python"
  }
 },
 "nbformat": 4,
 "nbformat_minor": 2,
 "cells": [
  {
   "cell_type": "code",
   "execution_count": 1,
   "metadata": {},
   "outputs": [],
   "source": [
    "# Imports. Nothing to see here.\n",
    "\n",
    "import matplotlib.pyplot as plt\n",
    "import numpy as np\n",
    "import pandas as pd\n",
    "import seaborn as sns\n",
    "import string\n",
    "\n",
    "from imblearn.over_sampling import SMOTE\n",
    "from gensim.models import Word2Vec\n",
    "from collections import Counter\n",
    "\n",
    "import nltk\n",
    "from nltk.stem import WordNetLemmatizer\n",
    "from nltk.corpus import stopwords\n",
    "from nltk import FreqDist, word_tokenize\n",
    "from nltk.tokenize import RegexpTokenizer\n",
    "\n",
    "from sklearn.feature_extraction.text import CountVectorizer, TfidfVectorizer\n",
    "from sklearn.model_selection import train_test_split\n",
    "from sklearn.linear_model import LogisticRegression\n",
    "from sklearn.metrics import accuracy_score, f1_score, precision_score, recall_score, classification_report, plot_confusion_matrix, confusion_matrix\n",
    "from sklearn.ensemble import RandomForestClassifier\n",
    "from sklearn.model_selection import GridSearchCV\n",
    "from sklearn.naive_bayes import MultinomialNB\n",
    "\n",
    "import sqlite3"
   ]
  },
  {
   "cell_type": "code",
   "execution_count": 2,
   "metadata": {},
   "outputs": [],
   "source": [
    "# databases within ['categories', 'podcasts', 'reviews', 'runs']\n",
    "\n",
    "cnx = sqlite3.connect('database.sqlite')\n",
    "\n",
    "podcast = pd.read_sql_query(\"SELECT * FROM podcasts\", cnx)\n",
    "\n",
    "categories = pd.read_sql_query(\"SELECT * FROM categories\", cnx)\n",
    "\n",
    "runs = pd.read_sql_query(\"SELECT * FROM runs\", cnx)\n",
    "\n",
    "reviews = pd.read_sql_query(\"SELECT * FROM reviews\", cnx)"
   ]
  },
  {
   "cell_type": "code",
   "execution_count": 3,
   "metadata": {},
   "outputs": [
    {
     "output_type": "execute_result",
     "data": {
      "text/plain": [
       "                             podcast_id  AVG(rating)\n",
       "0      a0004b1ef445af9dc84dad1e7821b1e3     1.000000\n",
       "1      a00c300fce2e20fe832f5f5e6148987c     4.444444\n",
       "2      a00cb09b7a0e02c88a2c26ab08236296     4.200000\n",
       "3      a00d083d9ad46e4a014a9903c046d544     4.925170\n",
       "4      a00e38f15aac723b046dcbffc21aca27     4.710526\n",
       "...                                 ...          ...\n",
       "46660  fffdfb5b49d0d47943e09f6213a346e5     5.000000\n",
       "46661  fffe308414050768d3ce3782aa503b7d     5.000000\n",
       "46662  fffe3f208a56dfecfaf6d0a7f8399d63     5.000000\n",
       "46663  ffff66f98c1adfc8d0d6c41bb8facfd0     5.000000\n",
       "46664  ffff923482740bc21a0fe184865ec2e2     5.000000\n",
       "\n",
       "[46665 rows x 2 columns]"
      ],
      "text/html": "<div>\n<style scoped>\n    .dataframe tbody tr th:only-of-type {\n        vertical-align: middle;\n    }\n\n    .dataframe tbody tr th {\n        vertical-align: top;\n    }\n\n    .dataframe thead th {\n        text-align: right;\n    }\n</style>\n<table border=\"1\" class=\"dataframe\">\n  <thead>\n    <tr style=\"text-align: right;\">\n      <th></th>\n      <th>podcast_id</th>\n      <th>AVG(rating)</th>\n    </tr>\n  </thead>\n  <tbody>\n    <tr>\n      <th>0</th>\n      <td>a0004b1ef445af9dc84dad1e7821b1e3</td>\n      <td>1.000000</td>\n    </tr>\n    <tr>\n      <th>1</th>\n      <td>a00c300fce2e20fe832f5f5e6148987c</td>\n      <td>4.444444</td>\n    </tr>\n    <tr>\n      <th>2</th>\n      <td>a00cb09b7a0e02c88a2c26ab08236296</td>\n      <td>4.200000</td>\n    </tr>\n    <tr>\n      <th>3</th>\n      <td>a00d083d9ad46e4a014a9903c046d544</td>\n      <td>4.925170</td>\n    </tr>\n    <tr>\n      <th>4</th>\n      <td>a00e38f15aac723b046dcbffc21aca27</td>\n      <td>4.710526</td>\n    </tr>\n    <tr>\n      <th>...</th>\n      <td>...</td>\n      <td>...</td>\n    </tr>\n    <tr>\n      <th>46660</th>\n      <td>fffdfb5b49d0d47943e09f6213a346e5</td>\n      <td>5.000000</td>\n    </tr>\n    <tr>\n      <th>46661</th>\n      <td>fffe308414050768d3ce3782aa503b7d</td>\n      <td>5.000000</td>\n    </tr>\n    <tr>\n      <th>46662</th>\n      <td>fffe3f208a56dfecfaf6d0a7f8399d63</td>\n      <td>5.000000</td>\n    </tr>\n    <tr>\n      <th>46663</th>\n      <td>ffff66f98c1adfc8d0d6c41bb8facfd0</td>\n      <td>5.000000</td>\n    </tr>\n    <tr>\n      <th>46664</th>\n      <td>ffff923482740bc21a0fe184865ec2e2</td>\n      <td>5.000000</td>\n    </tr>\n  </tbody>\n</table>\n<p>46665 rows × 2 columns</p>\n</div>"
     },
     "metadata": {},
     "execution_count": 3
    }
   ],
   "source": [
    "explore = pd.read_sql_query('''SELECT p.podcast_id, AVG(rating) \n",
    "                            FROM podcasts p \n",
    "                            JOIN categories c \n",
    "                            ON p.podcast_id = c.podcast_id \n",
    "                            JOIN reviews r \n",
    "                            ON p.podcast_id = r.podcast_id \n",
    "                            GROUP BY p.podcast_id\n",
    "                            ORDER BY rating\n",
    "                            ''', cnx)\n",
    "explore\n"
   ]
  },
  {
   "cell_type": "code",
   "execution_count": 4,
   "metadata": {},
   "outputs": [],
   "source": [
    "data = pd.read_sql_query(\"SELECT * FROM podcasts p JOIN categories c ON p.podcast_id = c.podcast_id JOIN reviews r ON p.podcast_id = r.podcast_id\", cnx)"
   ]
  },
  {
   "cell_type": "code",
   "execution_count": 5,
   "metadata": {},
   "outputs": [],
   "source": [
    "data.drop(['itunes_url','itunes_id', 'created_at','title'], axis=1, inplace=True)"
   ]
  },
  {
   "cell_type": "code",
   "execution_count": 6,
   "metadata": {},
   "outputs": [
    {
     "output_type": "stream",
     "name": "stdout",
     "text": [
      "podcast_id    0\nslug          0\npodcast_id    0\ncategory      0\npodcast_id    0\ncontent       0\nrating        0\ndtype: int64\n"
     ]
    }
   ],
   "source": [
    "print(data.isna().sum())"
   ]
  },
  {
   "cell_type": "code",
   "execution_count": 7,
   "metadata": {},
   "outputs": [
    {
     "output_type": "stream",
     "name": "stdout",
     "text": [
      "# Number of duplicate rows dropped: 2967\n"
     ]
    }
   ],
   "source": [
    "# Check for duplicated rows and preserve unique entries.\n",
    "\n",
    "a = len(data)\n",
    "data = data.drop_duplicates()\n",
    "b = len(data)\n",
    "print('# Number of duplicate rows dropped: {}'.format(a-b))"
   ]
  },
  {
   "cell_type": "code",
   "execution_count": 23,
   "metadata": {},
   "outputs": [
    {
     "output_type": "stream",
     "name": "stdout",
     "text": [
      "<class 'pandas.core.frame.DataFrame'>\nInt64Index: 1422198 entries, 0 to 1425164\nData columns (total 7 columns):\n #   Column      Non-Null Count    Dtype \n---  ------      --------------    ----- \n 0   podcast_id  1422198 non-null  object\n 1   slug        1422198 non-null  object\n 2   podcast_id  1422198 non-null  object\n 3   category    1422198 non-null  object\n 4   podcast_id  1422198 non-null  object\n 5   content     1422198 non-null  object\n 6   rating      1422198 non-null  int64 \ndtypes: int64(1), object(6)\nmemory usage: 126.8+ MB\n"
     ]
    }
   ],
   "source": [
    "data.info()"
   ]
  },
  {
   "cell_type": "code",
   "execution_count": 8,
   "metadata": {},
   "outputs": [
    {
     "output_type": "execute_result",
     "data": {
      "text/plain": [
       "(1422198, 7)"
      ]
     },
     "metadata": {},
     "execution_count": 8
    }
   ],
   "source": [
    "data.shape"
   ]
  },
  {
   "cell_type": "code",
   "execution_count": 9,
   "metadata": {},
   "outputs": [
    {
     "output_type": "execute_result",
     "data": {
      "text/plain": [
       "array(['arts', 'arts-performing-arts', 'music', 'arts-design',\n",
       "       'education', 'society-culture', 'arts-visual-arts', 'technology',\n",
       "       'arts-food', 'society-culture-personal-journals', 'comedy',\n",
       "       'arts-fashion-beauty', 'tv-film', 'society-culture-places-travel',\n",
       "       'kids-family', 'religion-spirituality', 'business',\n",
       "       'society-culture-philosophy', 'spirituality', 'business-careers',\n",
       "       'christianity', 'hinduism', 'business-investing', 'judaism',\n",
       "       'islam', 'buddhism'], dtype=object)"
      ]
     },
     "metadata": {},
     "execution_count": 9
    }
   ],
   "source": [
    "data['category'].unique()"
   ]
  },
  {
   "cell_type": "code",
   "execution_count": 10,
   "metadata": {},
   "outputs": [],
   "source": [
    "tokenizer = RegexpTokenizer(r'\\w+')\n",
    "\n",
    "stops = stopwords.words('english')\n",
    "stops += list(string.punctuation)"
   ]
  },
  {
   "cell_type": "code",
   "execution_count": 11,
   "metadata": {},
   "outputs": [
    {
     "output_type": "execute_result",
     "data": {
      "text/plain": [
       "                               podcast_id  \\\n",
       "0        c61aa81c9b929a66f0c1db6cbe5d8548   \n",
       "1        c61aa81c9b929a66f0c1db6cbe5d8548   \n",
       "2        c61aa81c9b929a66f0c1db6cbe5d8548   \n",
       "3        c61aa81c9b929a66f0c1db6cbe5d8548   \n",
       "4        c61aa81c9b929a66f0c1db6cbe5d8548   \n",
       "...                                   ...   \n",
       "1425160  ddd451a18055f0108edf79f8c3c9bf15   \n",
       "1425161  a08a93f2ef58f847b263c84d96e891f5   \n",
       "1425162  f9255ade54a8e12df362cde70b49dff9   \n",
       "1425163  f9255ade54a8e12df362cde70b49dff9   \n",
       "1425164  cf6b01b278eaa01a3e7bdb607ebc3d66   \n",
       "\n",
       "                                                      slug  \\\n",
       "0                               backstage-at-tilles-center   \n",
       "1                               backstage-at-tilles-center   \n",
       "2                               backstage-at-tilles-center   \n",
       "3                               backstage-at-tilles-center   \n",
       "4                               backstage-at-tilles-center   \n",
       "...                                                    ...   \n",
       "1425160                     what-if-world-stories-for-kids   \n",
       "1425161  inbox-besties-w-kate-doster-email-marketing-po...   \n",
       "1425162                                         the-trypod   \n",
       "1425163                                         the-trypod   \n",
       "1425164     root-evil-true-story-hodel-family-black-dahlia   \n",
       "\n",
       "                               podcast_id              category  \\\n",
       "0        c61aa81c9b929a66f0c1db6cbe5d8548                  arts   \n",
       "1        c61aa81c9b929a66f0c1db6cbe5d8548  arts-performing-arts   \n",
       "2        c61aa81c9b929a66f0c1db6cbe5d8548                 music   \n",
       "3        c61aa81c9b929a66f0c1db6cbe5d8548                  arts   \n",
       "4        c61aa81c9b929a66f0c1db6cbe5d8548  arts-performing-arts   \n",
       "...                                   ...                   ...   \n",
       "1425160  ddd451a18055f0108edf79f8c3c9bf15           kids-family   \n",
       "1425161  a08a93f2ef58f847b263c84d96e891f5              business   \n",
       "1425162  f9255ade54a8e12df362cde70b49dff9                comedy   \n",
       "1425163  f9255ade54a8e12df362cde70b49dff9                comedy   \n",
       "1425164  cf6b01b278eaa01a3e7bdb607ebc3d66       society-culture   \n",
       "\n",
       "                               podcast_id  \\\n",
       "0        c61aa81c9b929a66f0c1db6cbe5d8548   \n",
       "1        c61aa81c9b929a66f0c1db6cbe5d8548   \n",
       "2        c61aa81c9b929a66f0c1db6cbe5d8548   \n",
       "3        c61aa81c9b929a66f0c1db6cbe5d8548   \n",
       "4        c61aa81c9b929a66f0c1db6cbe5d8548   \n",
       "...                                   ...   \n",
       "1425160  ddd451a18055f0108edf79f8c3c9bf15   \n",
       "1425161  a08a93f2ef58f847b263c84d96e891f5   \n",
       "1425162  f9255ade54a8e12df362cde70b49dff9   \n",
       "1425163  f9255ade54a8e12df362cde70b49dff9   \n",
       "1425164  cf6b01b278eaa01a3e7bdb607ebc3d66   \n",
       "\n",
       "                                                   content  rating  \n",
       "0        Thanks for providing these insights.  Really e...       5  \n",
       "1        Thanks for providing these insights.  Really e...       5  \n",
       "2        Thanks for providing these insights.  Really e...       5  \n",
       "3        Super excited to see this podcast grow. So man...       5  \n",
       "4        Super excited to see this podcast grow. So man...       5  \n",
       "...                                                    ...     ...  \n",
       "1425160  I made this so all you guys that listen to thi...       5  \n",
       "1425161  I just discovered Kate Doster and the hype is ...       5  \n",
       "1425162  This podcast as well as the “you can sit with ...       1  \n",
       "1425163  Really crappy ep 2/4. I guess they can’t all b...       1  \n",
       "1425164  Very well presented story! Sad to have happene...       5  \n",
       "\n",
       "[1422198 rows x 7 columns]"
      ],
      "text/html": "<div>\n<style scoped>\n    .dataframe tbody tr th:only-of-type {\n        vertical-align: middle;\n    }\n\n    .dataframe tbody tr th {\n        vertical-align: top;\n    }\n\n    .dataframe thead th {\n        text-align: right;\n    }\n</style>\n<table border=\"1\" class=\"dataframe\">\n  <thead>\n    <tr style=\"text-align: right;\">\n      <th></th>\n      <th>podcast_id</th>\n      <th>slug</th>\n      <th>podcast_id</th>\n      <th>category</th>\n      <th>podcast_id</th>\n      <th>content</th>\n      <th>rating</th>\n    </tr>\n  </thead>\n  <tbody>\n    <tr>\n      <th>0</th>\n      <td>c61aa81c9b929a66f0c1db6cbe5d8548</td>\n      <td>backstage-at-tilles-center</td>\n      <td>c61aa81c9b929a66f0c1db6cbe5d8548</td>\n      <td>arts</td>\n      <td>c61aa81c9b929a66f0c1db6cbe5d8548</td>\n      <td>Thanks for providing these insights.  Really e...</td>\n      <td>5</td>\n    </tr>\n    <tr>\n      <th>1</th>\n      <td>c61aa81c9b929a66f0c1db6cbe5d8548</td>\n      <td>backstage-at-tilles-center</td>\n      <td>c61aa81c9b929a66f0c1db6cbe5d8548</td>\n      <td>arts-performing-arts</td>\n      <td>c61aa81c9b929a66f0c1db6cbe5d8548</td>\n      <td>Thanks for providing these insights.  Really e...</td>\n      <td>5</td>\n    </tr>\n    <tr>\n      <th>2</th>\n      <td>c61aa81c9b929a66f0c1db6cbe5d8548</td>\n      <td>backstage-at-tilles-center</td>\n      <td>c61aa81c9b929a66f0c1db6cbe5d8548</td>\n      <td>music</td>\n      <td>c61aa81c9b929a66f0c1db6cbe5d8548</td>\n      <td>Thanks for providing these insights.  Really e...</td>\n      <td>5</td>\n    </tr>\n    <tr>\n      <th>3</th>\n      <td>c61aa81c9b929a66f0c1db6cbe5d8548</td>\n      <td>backstage-at-tilles-center</td>\n      <td>c61aa81c9b929a66f0c1db6cbe5d8548</td>\n      <td>arts</td>\n      <td>c61aa81c9b929a66f0c1db6cbe5d8548</td>\n      <td>Super excited to see this podcast grow. So man...</td>\n      <td>5</td>\n    </tr>\n    <tr>\n      <th>4</th>\n      <td>c61aa81c9b929a66f0c1db6cbe5d8548</td>\n      <td>backstage-at-tilles-center</td>\n      <td>c61aa81c9b929a66f0c1db6cbe5d8548</td>\n      <td>arts-performing-arts</td>\n      <td>c61aa81c9b929a66f0c1db6cbe5d8548</td>\n      <td>Super excited to see this podcast grow. So man...</td>\n      <td>5</td>\n    </tr>\n    <tr>\n      <th>...</th>\n      <td>...</td>\n      <td>...</td>\n      <td>...</td>\n      <td>...</td>\n      <td>...</td>\n      <td>...</td>\n      <td>...</td>\n    </tr>\n    <tr>\n      <th>1425160</th>\n      <td>ddd451a18055f0108edf79f8c3c9bf15</td>\n      <td>what-if-world-stories-for-kids</td>\n      <td>ddd451a18055f0108edf79f8c3c9bf15</td>\n      <td>kids-family</td>\n      <td>ddd451a18055f0108edf79f8c3c9bf15</td>\n      <td>I made this so all you guys that listen to thi...</td>\n      <td>5</td>\n    </tr>\n    <tr>\n      <th>1425161</th>\n      <td>a08a93f2ef58f847b263c84d96e891f5</td>\n      <td>inbox-besties-w-kate-doster-email-marketing-po...</td>\n      <td>a08a93f2ef58f847b263c84d96e891f5</td>\n      <td>business</td>\n      <td>a08a93f2ef58f847b263c84d96e891f5</td>\n      <td>I just discovered Kate Doster and the hype is ...</td>\n      <td>5</td>\n    </tr>\n    <tr>\n      <th>1425162</th>\n      <td>f9255ade54a8e12df362cde70b49dff9</td>\n      <td>the-trypod</td>\n      <td>f9255ade54a8e12df362cde70b49dff9</td>\n      <td>comedy</td>\n      <td>f9255ade54a8e12df362cde70b49dff9</td>\n      <td>This podcast as well as the “you can sit with ...</td>\n      <td>1</td>\n    </tr>\n    <tr>\n      <th>1425163</th>\n      <td>f9255ade54a8e12df362cde70b49dff9</td>\n      <td>the-trypod</td>\n      <td>f9255ade54a8e12df362cde70b49dff9</td>\n      <td>comedy</td>\n      <td>f9255ade54a8e12df362cde70b49dff9</td>\n      <td>Really crappy ep 2/4. I guess they can’t all b...</td>\n      <td>1</td>\n    </tr>\n    <tr>\n      <th>1425164</th>\n      <td>cf6b01b278eaa01a3e7bdb607ebc3d66</td>\n      <td>root-evil-true-story-hodel-family-black-dahlia</td>\n      <td>cf6b01b278eaa01a3e7bdb607ebc3d66</td>\n      <td>society-culture</td>\n      <td>cf6b01b278eaa01a3e7bdb607ebc3d66</td>\n      <td>Very well presented story! Sad to have happene...</td>\n      <td>5</td>\n    </tr>\n  </tbody>\n</table>\n<p>1422198 rows × 7 columns</p>\n</div>"
     },
     "metadata": {},
     "execution_count": 11
    }
   ],
   "source": [
    "data"
   ]
  },
  {
   "cell_type": "code",
   "execution_count": 12,
   "metadata": {},
   "outputs": [
    {
     "output_type": "execute_result",
     "data": {
      "text/plain": [
       "                               podcast_id  \\\n",
       "0        c61aa81c9b929a66f0c1db6cbe5d8548   \n",
       "1        c61aa81c9b929a66f0c1db6cbe5d8548   \n",
       "2        c61aa81c9b929a66f0c1db6cbe5d8548   \n",
       "3        c61aa81c9b929a66f0c1db6cbe5d8548   \n",
       "4        c61aa81c9b929a66f0c1db6cbe5d8548   \n",
       "...                                   ...   \n",
       "1425160  ddd451a18055f0108edf79f8c3c9bf15   \n",
       "1425161  a08a93f2ef58f847b263c84d96e891f5   \n",
       "1425162  f9255ade54a8e12df362cde70b49dff9   \n",
       "1425163  f9255ade54a8e12df362cde70b49dff9   \n",
       "1425164  cf6b01b278eaa01a3e7bdb607ebc3d66   \n",
       "\n",
       "                                                      slug  \\\n",
       "0                               backstage at tilles center   \n",
       "1                               backstage at tilles center   \n",
       "2                               backstage at tilles center   \n",
       "3                               backstage at tilles center   \n",
       "4                               backstage at tilles center   \n",
       "...                                                    ...   \n",
       "1425160                     what if world stories for kids   \n",
       "1425161  inbox besties w kate doster email marketing po...   \n",
       "1425162                                         the trypod   \n",
       "1425163                                         the trypod   \n",
       "1425164     root evil true story hodel family black dahlia   \n",
       "\n",
       "                               podcast_id  category  \\\n",
       "0        c61aa81c9b929a66f0c1db6cbe5d8548      arts   \n",
       "1        c61aa81c9b929a66f0c1db6cbe5d8548      arts   \n",
       "2        c61aa81c9b929a66f0c1db6cbe5d8548     music   \n",
       "3        c61aa81c9b929a66f0c1db6cbe5d8548      arts   \n",
       "4        c61aa81c9b929a66f0c1db6cbe5d8548      arts   \n",
       "...                                   ...       ...   \n",
       "1425160  ddd451a18055f0108edf79f8c3c9bf15      kids   \n",
       "1425161  a08a93f2ef58f847b263c84d96e891f5  business   \n",
       "1425162  f9255ade54a8e12df362cde70b49dff9    comedy   \n",
       "1425163  f9255ade54a8e12df362cde70b49dff9    comedy   \n",
       "1425164  cf6b01b278eaa01a3e7bdb607ebc3d66   society   \n",
       "\n",
       "                               podcast_id  \\\n",
       "0        c61aa81c9b929a66f0c1db6cbe5d8548   \n",
       "1        c61aa81c9b929a66f0c1db6cbe5d8548   \n",
       "2        c61aa81c9b929a66f0c1db6cbe5d8548   \n",
       "3        c61aa81c9b929a66f0c1db6cbe5d8548   \n",
       "4        c61aa81c9b929a66f0c1db6cbe5d8548   \n",
       "...                                   ...   \n",
       "1425160  ddd451a18055f0108edf79f8c3c9bf15   \n",
       "1425161  a08a93f2ef58f847b263c84d96e891f5   \n",
       "1425162  f9255ade54a8e12df362cde70b49dff9   \n",
       "1425163  f9255ade54a8e12df362cde70b49dff9   \n",
       "1425164  cf6b01b278eaa01a3e7bdb607ebc3d66   \n",
       "\n",
       "                                                   content  rating  \n",
       "0        Thanks for providing these insights.  Really e...       5  \n",
       "1        Thanks for providing these insights.  Really e...       5  \n",
       "2        Thanks for providing these insights.  Really e...       5  \n",
       "3        Super excited to see this podcast grow. So man...       5  \n",
       "4        Super excited to see this podcast grow. So man...       5  \n",
       "...                                                    ...     ...  \n",
       "1425160  I made this so all you guys that listen to thi...       5  \n",
       "1425161  I just discovered Kate Doster and the hype is ...       5  \n",
       "1425162  This podcast as well as the “you can sit with ...       1  \n",
       "1425163  Really crappy ep 2/4. I guess they can’t all b...       1  \n",
       "1425164  Very well presented story! Sad to have happene...       5  \n",
       "\n",
       "[1422198 rows x 7 columns]"
      ],
      "text/html": "<div>\n<style scoped>\n    .dataframe tbody tr th:only-of-type {\n        vertical-align: middle;\n    }\n\n    .dataframe tbody tr th {\n        vertical-align: top;\n    }\n\n    .dataframe thead th {\n        text-align: right;\n    }\n</style>\n<table border=\"1\" class=\"dataframe\">\n  <thead>\n    <tr style=\"text-align: right;\">\n      <th></th>\n      <th>podcast_id</th>\n      <th>slug</th>\n      <th>podcast_id</th>\n      <th>category</th>\n      <th>podcast_id</th>\n      <th>content</th>\n      <th>rating</th>\n    </tr>\n  </thead>\n  <tbody>\n    <tr>\n      <th>0</th>\n      <td>c61aa81c9b929a66f0c1db6cbe5d8548</td>\n      <td>backstage at tilles center</td>\n      <td>c61aa81c9b929a66f0c1db6cbe5d8548</td>\n      <td>arts</td>\n      <td>c61aa81c9b929a66f0c1db6cbe5d8548</td>\n      <td>Thanks for providing these insights.  Really e...</td>\n      <td>5</td>\n    </tr>\n    <tr>\n      <th>1</th>\n      <td>c61aa81c9b929a66f0c1db6cbe5d8548</td>\n      <td>backstage at tilles center</td>\n      <td>c61aa81c9b929a66f0c1db6cbe5d8548</td>\n      <td>arts</td>\n      <td>c61aa81c9b929a66f0c1db6cbe5d8548</td>\n      <td>Thanks for providing these insights.  Really e...</td>\n      <td>5</td>\n    </tr>\n    <tr>\n      <th>2</th>\n      <td>c61aa81c9b929a66f0c1db6cbe5d8548</td>\n      <td>backstage at tilles center</td>\n      <td>c61aa81c9b929a66f0c1db6cbe5d8548</td>\n      <td>music</td>\n      <td>c61aa81c9b929a66f0c1db6cbe5d8548</td>\n      <td>Thanks for providing these insights.  Really e...</td>\n      <td>5</td>\n    </tr>\n    <tr>\n      <th>3</th>\n      <td>c61aa81c9b929a66f0c1db6cbe5d8548</td>\n      <td>backstage at tilles center</td>\n      <td>c61aa81c9b929a66f0c1db6cbe5d8548</td>\n      <td>arts</td>\n      <td>c61aa81c9b929a66f0c1db6cbe5d8548</td>\n      <td>Super excited to see this podcast grow. So man...</td>\n      <td>5</td>\n    </tr>\n    <tr>\n      <th>4</th>\n      <td>c61aa81c9b929a66f0c1db6cbe5d8548</td>\n      <td>backstage at tilles center</td>\n      <td>c61aa81c9b929a66f0c1db6cbe5d8548</td>\n      <td>arts</td>\n      <td>c61aa81c9b929a66f0c1db6cbe5d8548</td>\n      <td>Super excited to see this podcast grow. So man...</td>\n      <td>5</td>\n    </tr>\n    <tr>\n      <th>...</th>\n      <td>...</td>\n      <td>...</td>\n      <td>...</td>\n      <td>...</td>\n      <td>...</td>\n      <td>...</td>\n      <td>...</td>\n    </tr>\n    <tr>\n      <th>1425160</th>\n      <td>ddd451a18055f0108edf79f8c3c9bf15</td>\n      <td>what if world stories for kids</td>\n      <td>ddd451a18055f0108edf79f8c3c9bf15</td>\n      <td>kids</td>\n      <td>ddd451a18055f0108edf79f8c3c9bf15</td>\n      <td>I made this so all you guys that listen to thi...</td>\n      <td>5</td>\n    </tr>\n    <tr>\n      <th>1425161</th>\n      <td>a08a93f2ef58f847b263c84d96e891f5</td>\n      <td>inbox besties w kate doster email marketing po...</td>\n      <td>a08a93f2ef58f847b263c84d96e891f5</td>\n      <td>business</td>\n      <td>a08a93f2ef58f847b263c84d96e891f5</td>\n      <td>I just discovered Kate Doster and the hype is ...</td>\n      <td>5</td>\n    </tr>\n    <tr>\n      <th>1425162</th>\n      <td>f9255ade54a8e12df362cde70b49dff9</td>\n      <td>the trypod</td>\n      <td>f9255ade54a8e12df362cde70b49dff9</td>\n      <td>comedy</td>\n      <td>f9255ade54a8e12df362cde70b49dff9</td>\n      <td>This podcast as well as the “you can sit with ...</td>\n      <td>1</td>\n    </tr>\n    <tr>\n      <th>1425163</th>\n      <td>f9255ade54a8e12df362cde70b49dff9</td>\n      <td>the trypod</td>\n      <td>f9255ade54a8e12df362cde70b49dff9</td>\n      <td>comedy</td>\n      <td>f9255ade54a8e12df362cde70b49dff9</td>\n      <td>Really crappy ep 2/4. I guess they can’t all b...</td>\n      <td>1</td>\n    </tr>\n    <tr>\n      <th>1425164</th>\n      <td>cf6b01b278eaa01a3e7bdb607ebc3d66</td>\n      <td>root evil true story hodel family black dahlia</td>\n      <td>cf6b01b278eaa01a3e7bdb607ebc3d66</td>\n      <td>society</td>\n      <td>cf6b01b278eaa01a3e7bdb607ebc3d66</td>\n      <td>Very well presented story! Sad to have happene...</td>\n      <td>5</td>\n    </tr>\n  </tbody>\n</table>\n<p>1422198 rows × 7 columns</p>\n</div>"
     },
     "metadata": {},
     "execution_count": 12
    }
   ],
   "source": [
    "data ['slug'] = data['slug'].apply(lambda x: x.replace('-',' '))\n",
    "data ['category'] = data['category'].apply(lambda x: x.replace('-',' '))\n",
    "data ['category'] = data['category'].apply(lambda x: x.split()[0])\n",
    "data"
   ]
  },
  {
   "cell_type": "code",
   "execution_count": 13,
   "metadata": {},
   "outputs": [
    {
     "output_type": "execute_result",
     "data": {
      "text/plain": [
       "46665"
      ]
     },
     "metadata": {},
     "execution_count": 13
    }
   ],
   "source": [
    "podcast['podcast_id'].nunique()"
   ]
  },
  {
   "cell_type": "code",
   "execution_count": 14,
   "metadata": {},
   "outputs": [
    {
     "output_type": "execute_result",
     "data": {
      "text/plain": [
       "5    1265761\n",
       "1      60381\n",
       "4      41631\n",
       "3      29006\n",
       "2      25419\n",
       "Name: rating, dtype: int64"
      ]
     },
     "metadata": {},
     "execution_count": 14
    }
   ],
   "source": [
    "############################ Visualize this ##############################\n",
    "\n",
    "data['rating'].value_counts()"
   ]
  },
  {
   "cell_type": "code",
   "execution_count": null,
   "metadata": {},
   "outputs": [],
   "source": []
  }
 ]
}