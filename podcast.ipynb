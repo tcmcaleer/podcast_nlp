{
 "metadata": {
  "language_info": {
   "codemirror_mode": {
    "name": "ipython",
    "version": 3
   },
   "file_extension": ".py",
   "mimetype": "text/x-python",
   "name": "python",
   "nbconvert_exporter": "python",
   "pygments_lexer": "ipython3",
   "version": "3.8.5-final"
  },
  "orig_nbformat": 2,
  "kernelspec": {
   "name": "python3",
   "display_name": "Python 3",
   "language": "python"
  }
 },
 "nbformat": 4,
 "nbformat_minor": 2,
 "cells": [
  {
   "cell_type": "code",
   "execution_count": 1,
   "metadata": {},
   "outputs": [],
   "source": [
    "# Imports. Nothing to see here.\n",
    "\n",
    "import matplotlib.pyplot as plt\n",
    "import numpy as np\n",
    "import pandas as pd\n",
    "import seaborn as sns\n",
    "import string\n",
    "\n",
    "from imblearn.over_sampling import SMOTE\n",
    "from gensim.models import Word2Vec\n",
    "from collections import Counter\n",
    "\n",
    "import nltk\n",
    "from nltk.stem import WordNetLemmatizer\n",
    "from nltk.corpus import stopwords\n",
    "from nltk import FreqDist, word_tokenize\n",
    "from nltk.tokenize import RegexpTokenizer\n",
    "\n",
    "from sklearn.feature_extraction.text import CountVectorizer, TfidfVectorizer\n",
    "from sklearn.model_selection import train_test_split\n",
    "from sklearn.linear_model import LogisticRegression\n",
    "from sklearn.metrics import accuracy_score, f1_score, precision_score, recall_score, classification_report, plot_confusion_matrix, confusion_matrix\n",
    "from sklearn.ensemble import RandomForestClassifier\n",
    "from sklearn.model_selection import GridSearchCV\n",
    "from sklearn.naive_bayes import MultinomialNB\n",
    "import random\n",
    "\n",
    "import sqlite3"
   ]
  },
  {
   "cell_type": "code",
   "execution_count": 2,
   "metadata": {},
   "outputs": [],
   "source": [
    "# databases within ['categories', 'podcasts', 'reviews', 'runs']\n",
    "\n",
    "cnx = sqlite3.connect('D:\\Flatiron\\Capstone\\database.sqlite')\n",
    "\n",
    "podcast = pd.read_sql_query(\"SELECT * FROM podcasts\", cnx)\n",
    "\n",
    "categories = pd.read_sql_query(\"SELECT * FROM categories\", cnx)\n",
    "\n",
    "runs = pd.read_sql_query(\"SELECT * FROM runs\", cnx)\n",
    "\n",
    "reviews = pd.read_sql_query(\"SELECT * FROM reviews\", cnx)"
   ]
  },
  {
   "cell_type": "code",
   "execution_count": 3,
   "metadata": {},
   "outputs": [
    {
     "output_type": "execute_result",
     "data": {
      "text/plain": [
       "                             podcast_id  AVG(rating)\n",
       "0      a0004b1ef445af9dc84dad1e7821b1e3          1.0\n",
       "1      a024f5f647d0877820ef9f4a8584f93a          1.0\n",
       "2      a03abf5b7f0f58615ea36f0f8c4cefcc          1.0\n",
       "3      a0459e0af7b8be2c886e867d58f1dedd          1.0\n",
       "4      a05087d5a58f032cbc27562166f10186          1.0\n",
       "...                                 ...          ...\n",
       "46660  fffdfb5b49d0d47943e09f6213a346e5          5.0\n",
       "46661  fffe308414050768d3ce3782aa503b7d          5.0\n",
       "46662  fffe3f208a56dfecfaf6d0a7f8399d63          5.0\n",
       "46663  ffff66f98c1adfc8d0d6c41bb8facfd0          5.0\n",
       "46664  ffff923482740bc21a0fe184865ec2e2          5.0\n",
       "\n",
       "[46665 rows x 2 columns]"
      ],
      "text/html": "<div>\n<style scoped>\n    .dataframe tbody tr th:only-of-type {\n        vertical-align: middle;\n    }\n\n    .dataframe tbody tr th {\n        vertical-align: top;\n    }\n\n    .dataframe thead th {\n        text-align: right;\n    }\n</style>\n<table border=\"1\" class=\"dataframe\">\n  <thead>\n    <tr style=\"text-align: right;\">\n      <th></th>\n      <th>podcast_id</th>\n      <th>AVG(rating)</th>\n    </tr>\n  </thead>\n  <tbody>\n    <tr>\n      <th>0</th>\n      <td>a0004b1ef445af9dc84dad1e7821b1e3</td>\n      <td>1.0</td>\n    </tr>\n    <tr>\n      <th>1</th>\n      <td>a024f5f647d0877820ef9f4a8584f93a</td>\n      <td>1.0</td>\n    </tr>\n    <tr>\n      <th>2</th>\n      <td>a03abf5b7f0f58615ea36f0f8c4cefcc</td>\n      <td>1.0</td>\n    </tr>\n    <tr>\n      <th>3</th>\n      <td>a0459e0af7b8be2c886e867d58f1dedd</td>\n      <td>1.0</td>\n    </tr>\n    <tr>\n      <th>4</th>\n      <td>a05087d5a58f032cbc27562166f10186</td>\n      <td>1.0</td>\n    </tr>\n    <tr>\n      <th>...</th>\n      <td>...</td>\n      <td>...</td>\n    </tr>\n    <tr>\n      <th>46660</th>\n      <td>fffdfb5b49d0d47943e09f6213a346e5</td>\n      <td>5.0</td>\n    </tr>\n    <tr>\n      <th>46661</th>\n      <td>fffe308414050768d3ce3782aa503b7d</td>\n      <td>5.0</td>\n    </tr>\n    <tr>\n      <th>46662</th>\n      <td>fffe3f208a56dfecfaf6d0a7f8399d63</td>\n      <td>5.0</td>\n    </tr>\n    <tr>\n      <th>46663</th>\n      <td>ffff66f98c1adfc8d0d6c41bb8facfd0</td>\n      <td>5.0</td>\n    </tr>\n    <tr>\n      <th>46664</th>\n      <td>ffff923482740bc21a0fe184865ec2e2</td>\n      <td>5.0</td>\n    </tr>\n  </tbody>\n</table>\n<p>46665 rows × 2 columns</p>\n</div>"
     },
     "metadata": {},
     "execution_count": 3
    }
   ],
   "source": [
    "explore = pd.read_sql_query('''SELECT p.podcast_id, AVG(rating)\n",
    "                            FROM podcasts p \n",
    "                            JOIN categories c \n",
    "                            ON p.podcast_id = c.podcast_id \n",
    "                            JOIN reviews r \n",
    "                            ON p.podcast_id = r.podcast_id \n",
    "                            GROUP BY p.podcast_id\n",
    "                            ORDER BY AVG(rating)\n",
    "                            ''', cnx)\n",
    "explore\n"
   ]
  },
  {
   "cell_type": "code",
   "execution_count": null,
   "metadata": {},
   "outputs": [],
   "source": []
  },
  {
   "cell_type": "code",
   "execution_count": 4,
   "metadata": {},
   "outputs": [],
   "source": [
    "data = pd.read_sql_query(\"SELECT * FROM podcasts p JOIN categories c USING (podcast_id) JOIN reviews r USING (podcast_id)\", cnx)"
   ]
  },
  {
   "cell_type": "code",
   "execution_count": 5,
   "metadata": {},
   "outputs": [
    {
     "output_type": "execute_result",
     "data": {
      "text/plain": [
       "                               podcast_id   itunes_id  \\\n",
       "0        c61aa81c9b929a66f0c1db6cbe5d8548  1373261997   \n",
       "1        c61aa81c9b929a66f0c1db6cbe5d8548  1373261997   \n",
       "2        c61aa81c9b929a66f0c1db6cbe5d8548  1373261997   \n",
       "3        c61aa81c9b929a66f0c1db6cbe5d8548  1373261997   \n",
       "4        c61aa81c9b929a66f0c1db6cbe5d8548  1373261997   \n",
       "...                                   ...         ...   \n",
       "1425160  ddd451a18055f0108edf79f8c3c9bf15  1164278826   \n",
       "1425161  a08a93f2ef58f847b263c84d96e891f5  1223805240   \n",
       "1425162  f9255ade54a8e12df362cde70b49dff9  1461841525   \n",
       "1425163  f9255ade54a8e12df362cde70b49dff9  1461841525   \n",
       "1425164  cf6b01b278eaa01a3e7bdb607ebc3d66  1450277129   \n",
       "\n",
       "                                                      slug  \\\n",
       "0                               backstage-at-tilles-center   \n",
       "1                               backstage-at-tilles-center   \n",
       "2                               backstage-at-tilles-center   \n",
       "3                               backstage-at-tilles-center   \n",
       "4                               backstage-at-tilles-center   \n",
       "...                                                    ...   \n",
       "1425160                     what-if-world-stories-for-kids   \n",
       "1425161  inbox-besties-w-kate-doster-email-marketing-po...   \n",
       "1425162                                         the-trypod   \n",
       "1425163                                         the-trypod   \n",
       "1425164     root-evil-true-story-hodel-family-black-dahlia   \n",
       "\n",
       "                                                itunes_url  \\\n",
       "0        https://podcasts.apple.com/us/podcast/backstag...   \n",
       "1        https://podcasts.apple.com/us/podcast/backstag...   \n",
       "2        https://podcasts.apple.com/us/podcast/backstag...   \n",
       "3        https://podcasts.apple.com/us/podcast/backstag...   \n",
       "4        https://podcasts.apple.com/us/podcast/backstag...   \n",
       "...                                                    ...   \n",
       "1425160  https://podcasts.apple.com/us/podcast/what-if-...   \n",
       "1425161  https://podcasts.apple.com/us/podcast/inbox-be...   \n",
       "1425162  https://podcasts.apple.com/us/podcast/the-tryp...   \n",
       "1425163  https://podcasts.apple.com/us/podcast/the-tryp...   \n",
       "1425164  https://podcasts.apple.com/us/podcast/root-evi...   \n",
       "\n",
       "                                                     title  \\\n",
       "0                               Backstage at Tilles Center   \n",
       "1                               Backstage at Tilles Center   \n",
       "2                               Backstage at Tilles Center   \n",
       "3                               Backstage at Tilles Center   \n",
       "4                               Backstage at Tilles Center   \n",
       "...                                                    ...   \n",
       "1425160                   What If World - Stories for Kids   \n",
       "1425161  Inbox Besties w/ Kate Doster | Email Marketing...   \n",
       "1425162                                         The TryPod   \n",
       "1425163                                         The TryPod   \n",
       "1425164  Root of Evil: The True Story of the Hodel Fami...   \n",
       "\n",
       "                     category  \\\n",
       "0                        arts   \n",
       "1        arts-performing-arts   \n",
       "2                       music   \n",
       "3                        arts   \n",
       "4        arts-performing-arts   \n",
       "...                       ...   \n",
       "1425160           kids-family   \n",
       "1425161              business   \n",
       "1425162                comedy   \n",
       "1425163                comedy   \n",
       "1425164       society-culture   \n",
       "\n",
       "                                                    title  \\\n",
       "0                                     really interesting!   \n",
       "1                                     really interesting!   \n",
       "2                                     really interesting!   \n",
       "3        Must listen for anyone interested in the arts!!!   \n",
       "4        Must listen for anyone interested in the arts!!!   \n",
       "...                                                   ...   \n",
       "1425160              Just want everyone to have fun 😊😊😊😊😊   \n",
       "1425161                              Mind blowing content   \n",
       "1425162                                   Way to many ads   \n",
       "1425163                                              Meh.   \n",
       "1425164                                         Loved it!   \n",
       "\n",
       "                                                   content  rating  \\\n",
       "0        Thanks for providing these insights.  Really e...       5   \n",
       "1        Thanks for providing these insights.  Really e...       5   \n",
       "2        Thanks for providing these insights.  Really e...       5   \n",
       "3        Super excited to see this podcast grow. So man...       5   \n",
       "4        Super excited to see this podcast grow. So man...       5   \n",
       "...                                                    ...     ...   \n",
       "1425160  I made this so all you guys that listen to thi...       5   \n",
       "1425161  I just discovered Kate Doster and the hype is ...       5   \n",
       "1425162  This podcast as well as the “you can sit with ...       1   \n",
       "1425163  Really crappy ep 2/4. I guess they can’t all b...       1   \n",
       "1425164  Very well presented story! Sad to have happene...       5   \n",
       "\n",
       "                        created_at  \n",
       "0        2018-04-24T12:05:16-07:00  \n",
       "1        2018-04-24T12:05:16-07:00  \n",
       "2        2018-04-24T12:05:16-07:00  \n",
       "3        2018-05-09T18:14:32-07:00  \n",
       "4        2018-05-09T18:14:32-07:00  \n",
       "...                            ...  \n",
       "1425160  2021-02-05T04:29:16-07:00  \n",
       "1425161  2021-02-04T14:31:55-07:00  \n",
       "1425162  2021-02-04T17:09:19-07:00  \n",
       "1425163  2021-02-04T17:41:06-07:00  \n",
       "1425164  2021-02-04T09:40:13-07:00  \n",
       "\n",
       "[1425165 rows x 10 columns]"
      ],
      "text/html": "<div>\n<style scoped>\n    .dataframe tbody tr th:only-of-type {\n        vertical-align: middle;\n    }\n\n    .dataframe tbody tr th {\n        vertical-align: top;\n    }\n\n    .dataframe thead th {\n        text-align: right;\n    }\n</style>\n<table border=\"1\" class=\"dataframe\">\n  <thead>\n    <tr style=\"text-align: right;\">\n      <th></th>\n      <th>podcast_id</th>\n      <th>itunes_id</th>\n      <th>slug</th>\n      <th>itunes_url</th>\n      <th>title</th>\n      <th>category</th>\n      <th>title</th>\n      <th>content</th>\n      <th>rating</th>\n      <th>created_at</th>\n    </tr>\n  </thead>\n  <tbody>\n    <tr>\n      <th>0</th>\n      <td>c61aa81c9b929a66f0c1db6cbe5d8548</td>\n      <td>1373261997</td>\n      <td>backstage-at-tilles-center</td>\n      <td>https://podcasts.apple.com/us/podcast/backstag...</td>\n      <td>Backstage at Tilles Center</td>\n      <td>arts</td>\n      <td>really interesting!</td>\n      <td>Thanks for providing these insights.  Really e...</td>\n      <td>5</td>\n      <td>2018-04-24T12:05:16-07:00</td>\n    </tr>\n    <tr>\n      <th>1</th>\n      <td>c61aa81c9b929a66f0c1db6cbe5d8548</td>\n      <td>1373261997</td>\n      <td>backstage-at-tilles-center</td>\n      <td>https://podcasts.apple.com/us/podcast/backstag...</td>\n      <td>Backstage at Tilles Center</td>\n      <td>arts-performing-arts</td>\n      <td>really interesting!</td>\n      <td>Thanks for providing these insights.  Really e...</td>\n      <td>5</td>\n      <td>2018-04-24T12:05:16-07:00</td>\n    </tr>\n    <tr>\n      <th>2</th>\n      <td>c61aa81c9b929a66f0c1db6cbe5d8548</td>\n      <td>1373261997</td>\n      <td>backstage-at-tilles-center</td>\n      <td>https://podcasts.apple.com/us/podcast/backstag...</td>\n      <td>Backstage at Tilles Center</td>\n      <td>music</td>\n      <td>really interesting!</td>\n      <td>Thanks for providing these insights.  Really e...</td>\n      <td>5</td>\n      <td>2018-04-24T12:05:16-07:00</td>\n    </tr>\n    <tr>\n      <th>3</th>\n      <td>c61aa81c9b929a66f0c1db6cbe5d8548</td>\n      <td>1373261997</td>\n      <td>backstage-at-tilles-center</td>\n      <td>https://podcasts.apple.com/us/podcast/backstag...</td>\n      <td>Backstage at Tilles Center</td>\n      <td>arts</td>\n      <td>Must listen for anyone interested in the arts!!!</td>\n      <td>Super excited to see this podcast grow. So man...</td>\n      <td>5</td>\n      <td>2018-05-09T18:14:32-07:00</td>\n    </tr>\n    <tr>\n      <th>4</th>\n      <td>c61aa81c9b929a66f0c1db6cbe5d8548</td>\n      <td>1373261997</td>\n      <td>backstage-at-tilles-center</td>\n      <td>https://podcasts.apple.com/us/podcast/backstag...</td>\n      <td>Backstage at Tilles Center</td>\n      <td>arts-performing-arts</td>\n      <td>Must listen for anyone interested in the arts!!!</td>\n      <td>Super excited to see this podcast grow. So man...</td>\n      <td>5</td>\n      <td>2018-05-09T18:14:32-07:00</td>\n    </tr>\n    <tr>\n      <th>...</th>\n      <td>...</td>\n      <td>...</td>\n      <td>...</td>\n      <td>...</td>\n      <td>...</td>\n      <td>...</td>\n      <td>...</td>\n      <td>...</td>\n      <td>...</td>\n      <td>...</td>\n    </tr>\n    <tr>\n      <th>1425160</th>\n      <td>ddd451a18055f0108edf79f8c3c9bf15</td>\n      <td>1164278826</td>\n      <td>what-if-world-stories-for-kids</td>\n      <td>https://podcasts.apple.com/us/podcast/what-if-...</td>\n      <td>What If World - Stories for Kids</td>\n      <td>kids-family</td>\n      <td>Just want everyone to have fun 😊😊😊😊😊</td>\n      <td>I made this so all you guys that listen to thi...</td>\n      <td>5</td>\n      <td>2021-02-05T04:29:16-07:00</td>\n    </tr>\n    <tr>\n      <th>1425161</th>\n      <td>a08a93f2ef58f847b263c84d96e891f5</td>\n      <td>1223805240</td>\n      <td>inbox-besties-w-kate-doster-email-marketing-po...</td>\n      <td>https://podcasts.apple.com/us/podcast/inbox-be...</td>\n      <td>Inbox Besties w/ Kate Doster | Email Marketing...</td>\n      <td>business</td>\n      <td>Mind blowing content</td>\n      <td>I just discovered Kate Doster and the hype is ...</td>\n      <td>5</td>\n      <td>2021-02-04T14:31:55-07:00</td>\n    </tr>\n    <tr>\n      <th>1425162</th>\n      <td>f9255ade54a8e12df362cde70b49dff9</td>\n      <td>1461841525</td>\n      <td>the-trypod</td>\n      <td>https://podcasts.apple.com/us/podcast/the-tryp...</td>\n      <td>The TryPod</td>\n      <td>comedy</td>\n      <td>Way to many ads</td>\n      <td>This podcast as well as the “you can sit with ...</td>\n      <td>1</td>\n      <td>2021-02-04T17:09:19-07:00</td>\n    </tr>\n    <tr>\n      <th>1425163</th>\n      <td>f9255ade54a8e12df362cde70b49dff9</td>\n      <td>1461841525</td>\n      <td>the-trypod</td>\n      <td>https://podcasts.apple.com/us/podcast/the-tryp...</td>\n      <td>The TryPod</td>\n      <td>comedy</td>\n      <td>Meh.</td>\n      <td>Really crappy ep 2/4. I guess they can’t all b...</td>\n      <td>1</td>\n      <td>2021-02-04T17:41:06-07:00</td>\n    </tr>\n    <tr>\n      <th>1425164</th>\n      <td>cf6b01b278eaa01a3e7bdb607ebc3d66</td>\n      <td>1450277129</td>\n      <td>root-evil-true-story-hodel-family-black-dahlia</td>\n      <td>https://podcasts.apple.com/us/podcast/root-evi...</td>\n      <td>Root of Evil: The True Story of the Hodel Fami...</td>\n      <td>society-culture</td>\n      <td>Loved it!</td>\n      <td>Very well presented story! Sad to have happene...</td>\n      <td>5</td>\n      <td>2021-02-04T09:40:13-07:00</td>\n    </tr>\n  </tbody>\n</table>\n<p>1425165 rows × 10 columns</p>\n</div>"
     },
     "metadata": {},
     "execution_count": 5
    }
   ],
   "source": [
    "data"
   ]
  },
  {
   "cell_type": "code",
   "execution_count": 6,
   "metadata": {},
   "outputs": [],
   "source": [
    "# plt.hist(data['podcast_id'])\n",
    "# plt.show()"
   ]
  },
  {
   "cell_type": "code",
   "execution_count": 7,
   "metadata": {},
   "outputs": [],
   "source": [
    "data = data[data['podcast_id'].map(data['podcast_id'].value_counts()) < 1000]"
   ]
  },
  {
   "cell_type": "code",
   "execution_count": 8,
   "metadata": {},
   "outputs": [
    {
     "output_type": "stream",
     "name": "stdout",
     "text": [
      "(1067661, 10)\n"
     ]
    },
    {
     "output_type": "execute_result",
     "data": {
      "text/plain": [
       "46486"
      ]
     },
     "metadata": {},
     "execution_count": 8
    }
   ],
   "source": [
    "print(data.shape)\n",
    "data['podcast_id'].nunique()"
   ]
  },
  {
   "cell_type": "code",
   "execution_count": 9,
   "metadata": {},
   "outputs": [],
   "source": [
    "data.drop(['itunes_url','itunes_id', 'created_at', 'title', 'podcast_id'], axis=1, inplace=True)"
   ]
  },
  {
   "cell_type": "code",
   "execution_count": 10,
   "metadata": {},
   "outputs": [
    {
     "output_type": "stream",
     "name": "stdout",
     "text": [
      "slug        0\ncategory    0\ncontent     0\nrating      0\ndtype: int64\n"
     ]
    }
   ],
   "source": [
    "print(data.isna().sum())"
   ]
  },
  {
   "cell_type": "code",
   "execution_count": 11,
   "metadata": {},
   "outputs": [
    {
     "output_type": "stream",
     "name": "stdout",
     "text": [
      "# Number of duplicate rows dropped: 1909\n"
     ]
    }
   ],
   "source": [
    "# Check for duplicated rows and preserve unique entries.\n",
    "\n",
    "a = len(data)\n",
    "data = data.drop_duplicates()\n",
    "b = len(data)\n",
    "print('# Number of duplicate rows dropped: {}'.format(a-b))"
   ]
  },
  {
   "cell_type": "code",
   "execution_count": 12,
   "metadata": {},
   "outputs": [
    {
     "output_type": "stream",
     "name": "stdout",
     "text": [
      "<class 'pandas.core.frame.DataFrame'>\nInt64Index: 1065752 entries, 0 to 1425164\nData columns (total 4 columns):\n #   Column    Non-Null Count    Dtype \n---  ------    --------------    ----- \n 0   slug      1065752 non-null  object\n 1   category  1065752 non-null  object\n 2   content   1065752 non-null  object\n 3   rating    1065752 non-null  int64 \ndtypes: int64(1), object(3)\nmemory usage: 40.7+ MB\n"
     ]
    }
   ],
   "source": [
    "data.info()"
   ]
  },
  {
   "cell_type": "code",
   "execution_count": 13,
   "metadata": {},
   "outputs": [
    {
     "output_type": "execute_result",
     "data": {
      "text/plain": [
       "(1065752, 4)"
      ]
     },
     "metadata": {},
     "execution_count": 13
    }
   ],
   "source": [
    "data.shape"
   ]
  },
  {
   "cell_type": "code",
   "execution_count": 14,
   "metadata": {},
   "outputs": [
    {
     "output_type": "execute_result",
     "data": {
      "text/plain": [
       "array(['arts', 'arts-performing-arts', 'music', 'arts-design',\n",
       "       'education', 'arts-visual-arts', 'technology', 'arts-food',\n",
       "       'society-culture', 'society-culture-personal-journals', 'comedy',\n",
       "       'arts-fashion-beauty', 'tv-film', 'society-culture-places-travel',\n",
       "       'kids-family', 'religion-spirituality', 'business',\n",
       "       'society-culture-philosophy', 'spirituality', 'business-careers',\n",
       "       'christianity', 'hinduism', 'business-investing', 'judaism',\n",
       "       'islam', 'buddhism'], dtype=object)"
      ]
     },
     "metadata": {},
     "execution_count": 14
    }
   ],
   "source": [
    "data['category'].unique()"
   ]
  },
  {
   "cell_type": "code",
   "execution_count": 15,
   "metadata": {},
   "outputs": [],
   "source": [
    "tokenizer = RegexpTokenizer(r'\\w+')\n",
    "\n",
    "stops = stopwords.words('english')\n",
    "stops += list(string.punctuation)"
   ]
  },
  {
   "cell_type": "code",
   "execution_count": 16,
   "metadata": {},
   "outputs": [
    {
     "output_type": "execute_result",
     "data": {
      "text/plain": [
       "                                                      slug  \\\n",
       "0                               backstage-at-tilles-center   \n",
       "1                               backstage-at-tilles-center   \n",
       "2                               backstage-at-tilles-center   \n",
       "3                               backstage-at-tilles-center   \n",
       "4                               backstage-at-tilles-center   \n",
       "...                                                    ...   \n",
       "1425156                                      conversations   \n",
       "1425157                                      conversations   \n",
       "1425158                              granger-smith-podcast   \n",
       "1425161  inbox-besties-w-kate-doster-email-marketing-po...   \n",
       "1425164     root-evil-true-story-hodel-family-black-dahlia   \n",
       "\n",
       "                     category  \\\n",
       "0                        arts   \n",
       "1        arts-performing-arts   \n",
       "2                       music   \n",
       "3                        arts   \n",
       "4        arts-performing-arts   \n",
       "...                       ...   \n",
       "1425156       society-culture   \n",
       "1425157       society-culture   \n",
       "1425158                 music   \n",
       "1425161              business   \n",
       "1425164       society-culture   \n",
       "\n",
       "                                                   content  rating  \n",
       "0        Thanks for providing these insights.  Really e...       5  \n",
       "1        Thanks for providing these insights.  Really e...       5  \n",
       "2        Thanks for providing these insights.  Really e...       5  \n",
       "3        Super excited to see this podcast grow. So man...       5  \n",
       "4        Super excited to see this podcast grow. So man...       5  \n",
       "...                                                    ...     ...  \n",
       "1425156  Unique stories told with the help or warm enga...       5  \n",
       "1425157  Excellent deep interview with a treasure of an...       5  \n",
       "1425158  Makes good music (you should listen to it) mak...       5  \n",
       "1425161  I just discovered Kate Doster and the hype is ...       5  \n",
       "1425164  Very well presented story! Sad to have happene...       5  \n",
       "\n",
       "[1065752 rows x 4 columns]"
      ],
      "text/html": "<div>\n<style scoped>\n    .dataframe tbody tr th:only-of-type {\n        vertical-align: middle;\n    }\n\n    .dataframe tbody tr th {\n        vertical-align: top;\n    }\n\n    .dataframe thead th {\n        text-align: right;\n    }\n</style>\n<table border=\"1\" class=\"dataframe\">\n  <thead>\n    <tr style=\"text-align: right;\">\n      <th></th>\n      <th>slug</th>\n      <th>category</th>\n      <th>content</th>\n      <th>rating</th>\n    </tr>\n  </thead>\n  <tbody>\n    <tr>\n      <th>0</th>\n      <td>backstage-at-tilles-center</td>\n      <td>arts</td>\n      <td>Thanks for providing these insights.  Really e...</td>\n      <td>5</td>\n    </tr>\n    <tr>\n      <th>1</th>\n      <td>backstage-at-tilles-center</td>\n      <td>arts-performing-arts</td>\n      <td>Thanks for providing these insights.  Really e...</td>\n      <td>5</td>\n    </tr>\n    <tr>\n      <th>2</th>\n      <td>backstage-at-tilles-center</td>\n      <td>music</td>\n      <td>Thanks for providing these insights.  Really e...</td>\n      <td>5</td>\n    </tr>\n    <tr>\n      <th>3</th>\n      <td>backstage-at-tilles-center</td>\n      <td>arts</td>\n      <td>Super excited to see this podcast grow. So man...</td>\n      <td>5</td>\n    </tr>\n    <tr>\n      <th>4</th>\n      <td>backstage-at-tilles-center</td>\n      <td>arts-performing-arts</td>\n      <td>Super excited to see this podcast grow. So man...</td>\n      <td>5</td>\n    </tr>\n    <tr>\n      <th>...</th>\n      <td>...</td>\n      <td>...</td>\n      <td>...</td>\n      <td>...</td>\n    </tr>\n    <tr>\n      <th>1425156</th>\n      <td>conversations</td>\n      <td>society-culture</td>\n      <td>Unique stories told with the help or warm enga...</td>\n      <td>5</td>\n    </tr>\n    <tr>\n      <th>1425157</th>\n      <td>conversations</td>\n      <td>society-culture</td>\n      <td>Excellent deep interview with a treasure of an...</td>\n      <td>5</td>\n    </tr>\n    <tr>\n      <th>1425158</th>\n      <td>granger-smith-podcast</td>\n      <td>music</td>\n      <td>Makes good music (you should listen to it) mak...</td>\n      <td>5</td>\n    </tr>\n    <tr>\n      <th>1425161</th>\n      <td>inbox-besties-w-kate-doster-email-marketing-po...</td>\n      <td>business</td>\n      <td>I just discovered Kate Doster and the hype is ...</td>\n      <td>5</td>\n    </tr>\n    <tr>\n      <th>1425164</th>\n      <td>root-evil-true-story-hodel-family-black-dahlia</td>\n      <td>society-culture</td>\n      <td>Very well presented story! Sad to have happene...</td>\n      <td>5</td>\n    </tr>\n  </tbody>\n</table>\n<p>1065752 rows × 4 columns</p>\n</div>"
     },
     "metadata": {},
     "execution_count": 16
    }
   ],
   "source": [
    "data"
   ]
  },
  {
   "cell_type": "code",
   "execution_count": 17,
   "metadata": {},
   "outputs": [
    {
     "output_type": "execute_result",
     "data": {
      "text/plain": [
       "                                                      slug  category  \\\n",
       "0                               backstage at tilles center      arts   \n",
       "1                               backstage at tilles center      arts   \n",
       "2                               backstage at tilles center     music   \n",
       "3                               backstage at tilles center      arts   \n",
       "4                               backstage at tilles center      arts   \n",
       "...                                                    ...       ...   \n",
       "1425156                                      conversations   society   \n",
       "1425157                                      conversations   society   \n",
       "1425158                              granger smith podcast     music   \n",
       "1425161  inbox besties w kate doster email marketing po...  business   \n",
       "1425164     root evil true story hodel family black dahlia   society   \n",
       "\n",
       "                                                   content  rating  \n",
       "0        Thanks for providing these insights.  Really e...       5  \n",
       "1        Thanks for providing these insights.  Really e...       5  \n",
       "2        Thanks for providing these insights.  Really e...       5  \n",
       "3        Super excited to see this podcast grow. So man...       5  \n",
       "4        Super excited to see this podcast grow. So man...       5  \n",
       "...                                                    ...     ...  \n",
       "1425156  Unique stories told with the help or warm enga...       5  \n",
       "1425157  Excellent deep interview with a treasure of an...       5  \n",
       "1425158  Makes good music (you should listen to it) mak...       5  \n",
       "1425161  I just discovered Kate Doster and the hype is ...       5  \n",
       "1425164  Very well presented story! Sad to have happene...       5  \n",
       "\n",
       "[1065752 rows x 4 columns]"
      ],
      "text/html": "<div>\n<style scoped>\n    .dataframe tbody tr th:only-of-type {\n        vertical-align: middle;\n    }\n\n    .dataframe tbody tr th {\n        vertical-align: top;\n    }\n\n    .dataframe thead th {\n        text-align: right;\n    }\n</style>\n<table border=\"1\" class=\"dataframe\">\n  <thead>\n    <tr style=\"text-align: right;\">\n      <th></th>\n      <th>slug</th>\n      <th>category</th>\n      <th>content</th>\n      <th>rating</th>\n    </tr>\n  </thead>\n  <tbody>\n    <tr>\n      <th>0</th>\n      <td>backstage at tilles center</td>\n      <td>arts</td>\n      <td>Thanks for providing these insights.  Really e...</td>\n      <td>5</td>\n    </tr>\n    <tr>\n      <th>1</th>\n      <td>backstage at tilles center</td>\n      <td>arts</td>\n      <td>Thanks for providing these insights.  Really e...</td>\n      <td>5</td>\n    </tr>\n    <tr>\n      <th>2</th>\n      <td>backstage at tilles center</td>\n      <td>music</td>\n      <td>Thanks for providing these insights.  Really e...</td>\n      <td>5</td>\n    </tr>\n    <tr>\n      <th>3</th>\n      <td>backstage at tilles center</td>\n      <td>arts</td>\n      <td>Super excited to see this podcast grow. So man...</td>\n      <td>5</td>\n    </tr>\n    <tr>\n      <th>4</th>\n      <td>backstage at tilles center</td>\n      <td>arts</td>\n      <td>Super excited to see this podcast grow. So man...</td>\n      <td>5</td>\n    </tr>\n    <tr>\n      <th>...</th>\n      <td>...</td>\n      <td>...</td>\n      <td>...</td>\n      <td>...</td>\n    </tr>\n    <tr>\n      <th>1425156</th>\n      <td>conversations</td>\n      <td>society</td>\n      <td>Unique stories told with the help or warm enga...</td>\n      <td>5</td>\n    </tr>\n    <tr>\n      <th>1425157</th>\n      <td>conversations</td>\n      <td>society</td>\n      <td>Excellent deep interview with a treasure of an...</td>\n      <td>5</td>\n    </tr>\n    <tr>\n      <th>1425158</th>\n      <td>granger smith podcast</td>\n      <td>music</td>\n      <td>Makes good music (you should listen to it) mak...</td>\n      <td>5</td>\n    </tr>\n    <tr>\n      <th>1425161</th>\n      <td>inbox besties w kate doster email marketing po...</td>\n      <td>business</td>\n      <td>I just discovered Kate Doster and the hype is ...</td>\n      <td>5</td>\n    </tr>\n    <tr>\n      <th>1425164</th>\n      <td>root evil true story hodel family black dahlia</td>\n      <td>society</td>\n      <td>Very well presented story! Sad to have happene...</td>\n      <td>5</td>\n    </tr>\n  </tbody>\n</table>\n<p>1065752 rows × 4 columns</p>\n</div>"
     },
     "metadata": {},
     "execution_count": 17
    }
   ],
   "source": [
    "data ['slug'] = data['slug'].apply(lambda x: x.replace('-',' '))\n",
    "data ['category'] = data['category'].apply(lambda x: x.replace('-',' '))\n",
    "data ['category'] = data['category'].apply(lambda x: x.split()[0])\n",
    "data"
   ]
  },
  {
   "cell_type": "code",
   "execution_count": 18,
   "metadata": {},
   "outputs": [],
   "source": [
    "# data['all'] = data['slug'] + ' ' + data['content']"
   ]
  },
  {
   "cell_type": "code",
   "execution_count": 19,
   "metadata": {},
   "outputs": [],
   "source": [
    "data['content'] = data['content'].apply(tokenizer.tokenize)\n",
    "\n",
    "data['content'] = data['content'].apply(lambda x: [word.lower() for word in x if word.lower() not in stops])"
   ]
  },
  {
   "cell_type": "code",
   "execution_count": 20,
   "metadata": {},
   "outputs": [],
   "source": [
    "# data.drop(['slug', 'content'], axis = 1, inplace=True)"
   ]
  },
  {
   "cell_type": "code",
   "execution_count": 21,
   "metadata": {},
   "outputs": [
    {
     "output_type": "execute_result",
     "data": {
      "text/plain": [
       "                                                      slug  category  \\\n",
       "0                               backstage at tilles center      arts   \n",
       "1                               backstage at tilles center      arts   \n",
       "2                               backstage at tilles center     music   \n",
       "3                               backstage at tilles center      arts   \n",
       "4                               backstage at tilles center      arts   \n",
       "...                                                    ...       ...   \n",
       "1425156                                      conversations   society   \n",
       "1425157                                      conversations   society   \n",
       "1425158                              granger smith podcast     music   \n",
       "1425161  inbox besties w kate doster email marketing po...  business   \n",
       "1425164     root evil true story hodel family black dahlia   society   \n",
       "\n",
       "                                                   content  rating  \n",
       "0        [thanks, providing, insights, really, enjoy, v...       5  \n",
       "1        [thanks, providing, insights, really, enjoy, v...       5  \n",
       "2        [thanks, providing, insights, really, enjoy, v...       5  \n",
       "3        [super, excited, see, podcast, grow, many, fun...       5  \n",
       "4        [super, excited, see, podcast, grow, many, fun...       5  \n",
       "...                                                    ...     ...  \n",
       "1425156  [unique, stories, told, help, warm, engaging, ...       5  \n",
       "1425157  [excellent, deep, interview, treasure, america...       5  \n",
       "1425158  [makes, good, music, listen, makes, good, clot...       5  \n",
       "1425161  [discovered, kate, doster, hype, real, heard, ...       5  \n",
       "1425164  [well, presented, story, sad, happened, hodel,...       5  \n",
       "\n",
       "[1065752 rows x 4 columns]"
      ],
      "text/html": "<div>\n<style scoped>\n    .dataframe tbody tr th:only-of-type {\n        vertical-align: middle;\n    }\n\n    .dataframe tbody tr th {\n        vertical-align: top;\n    }\n\n    .dataframe thead th {\n        text-align: right;\n    }\n</style>\n<table border=\"1\" class=\"dataframe\">\n  <thead>\n    <tr style=\"text-align: right;\">\n      <th></th>\n      <th>slug</th>\n      <th>category</th>\n      <th>content</th>\n      <th>rating</th>\n    </tr>\n  </thead>\n  <tbody>\n    <tr>\n      <th>0</th>\n      <td>backstage at tilles center</td>\n      <td>arts</td>\n      <td>[thanks, providing, insights, really, enjoy, v...</td>\n      <td>5</td>\n    </tr>\n    <tr>\n      <th>1</th>\n      <td>backstage at tilles center</td>\n      <td>arts</td>\n      <td>[thanks, providing, insights, really, enjoy, v...</td>\n      <td>5</td>\n    </tr>\n    <tr>\n      <th>2</th>\n      <td>backstage at tilles center</td>\n      <td>music</td>\n      <td>[thanks, providing, insights, really, enjoy, v...</td>\n      <td>5</td>\n    </tr>\n    <tr>\n      <th>3</th>\n      <td>backstage at tilles center</td>\n      <td>arts</td>\n      <td>[super, excited, see, podcast, grow, many, fun...</td>\n      <td>5</td>\n    </tr>\n    <tr>\n      <th>4</th>\n      <td>backstage at tilles center</td>\n      <td>arts</td>\n      <td>[super, excited, see, podcast, grow, many, fun...</td>\n      <td>5</td>\n    </tr>\n    <tr>\n      <th>...</th>\n      <td>...</td>\n      <td>...</td>\n      <td>...</td>\n      <td>...</td>\n    </tr>\n    <tr>\n      <th>1425156</th>\n      <td>conversations</td>\n      <td>society</td>\n      <td>[unique, stories, told, help, warm, engaging, ...</td>\n      <td>5</td>\n    </tr>\n    <tr>\n      <th>1425157</th>\n      <td>conversations</td>\n      <td>society</td>\n      <td>[excellent, deep, interview, treasure, america...</td>\n      <td>5</td>\n    </tr>\n    <tr>\n      <th>1425158</th>\n      <td>granger smith podcast</td>\n      <td>music</td>\n      <td>[makes, good, music, listen, makes, good, clot...</td>\n      <td>5</td>\n    </tr>\n    <tr>\n      <th>1425161</th>\n      <td>inbox besties w kate doster email marketing po...</td>\n      <td>business</td>\n      <td>[discovered, kate, doster, hype, real, heard, ...</td>\n      <td>5</td>\n    </tr>\n    <tr>\n      <th>1425164</th>\n      <td>root evil true story hodel family black dahlia</td>\n      <td>society</td>\n      <td>[well, presented, story, sad, happened, hodel,...</td>\n      <td>5</td>\n    </tr>\n  </tbody>\n</table>\n<p>1065752 rows × 4 columns</p>\n</div>"
     },
     "metadata": {},
     "execution_count": 21
    }
   ],
   "source": [
    "data"
   ]
  },
  {
   "cell_type": "code",
   "execution_count": 22,
   "metadata": {},
   "outputs": [
    {
     "output_type": "execute_result",
     "data": {
      "text/plain": [
       "46665"
      ]
     },
     "metadata": {},
     "execution_count": 22
    }
   ],
   "source": [
    "podcast['podcast_id'].nunique()"
   ]
  },
  {
   "cell_type": "code",
   "execution_count": 23,
   "metadata": {},
   "outputs": [
    {
     "output_type": "execute_result",
     "data": {
      "text/plain": [
       "5    961071\n",
       "1     37176\n",
       "4     30994\n",
       "3     19607\n",
       "2     16904\n",
       "Name: rating, dtype: int64"
      ]
     },
     "metadata": {},
     "execution_count": 23
    }
   ],
   "source": [
    "############################ Visualize this ##############################\n",
    "\n",
    "data['rating'].value_counts()"
   ]
  },
  {
   "source": [
    "# Functions"
   ],
   "cell_type": "markdown",
   "metadata": {}
  },
  {
   "cell_type": "code",
   "execution_count": 24,
   "metadata": {},
   "outputs": [],
   "source": [
    "# Count Vectorize or TF-IDF. Our first and most vital choice.\n",
    "def CV(X_train, X_test):\n",
    "    count_vectorizer = CountVectorizer()\n",
    "    X_train_counts = count_vectorizer.fit_transform(X_train)\n",
    "    X_test_counts = count_vectorizer.transform(X_test)\n",
    "    return X_train_counts, X_test_counts\n",
    "\n",
    "def tf_idf(X_train, X_test):\n",
    "    tfidf = TfidfVectorizer()\n",
    "    X_train_counts = tfidf.fit_transform(X_train)\n",
    "    X_test_counts = tfidf.transform(X_test)\n",
    "    return X_test_counts, X_train_counts\n"
   ]
  },
  {
   "cell_type": "code",
   "execution_count": 25,
   "metadata": {},
   "outputs": [],
   "source": [
    "# Lemmatizing will or won't happen. Two functions, one nested inside the other.\n",
    "def lemmatize_text(text):\n",
    "    lemmatizer = WordNetLemmatizer()\n",
    "    return [lemmatizer.lemmatize(w) for w in text]\n",
    "\n",
    "def lemmatize():\n",
    "    data['lemm'] = data['tokens'].apply(lemmatize_text)\n",
    "    data['lemm'] = data['lemm'].apply(lambda x: ' '.join(x))"
   ]
  },
  {
   "cell_type": "code",
   "execution_count": 26,
   "metadata": {},
   "outputs": [],
   "source": [
    "# SMOTE either will or will not run.\n",
    "def smote(X_train_counts, y_train):\n",
    "    smote = SMOTE()\n",
    "    X_train_counts, y_train = smote.fit_sample(X_train_counts, y_train)\n",
    "    return X_train_counts, y_train\n",
    "\n",
    "# Train Test Split. The col variable is important and will be different depending on whether we lemmatize.\n",
    "def TTS(col):\n",
    "    X_train, X_test, y_train, y_test = train_test_split(data[col], data['feelings'])\n",
    "    return X_train, X_test, y_train, y_test"
   ]
  },
  {
   "cell_type": "code",
   "execution_count": 27,
   "metadata": {},
   "outputs": [],
   "source": [
    "# SMOTE either will or will not run.\n",
    "def smote(X_train_counts, y_train):\n",
    "    smote = SMOTE()\n",
    "    X_train_counts, y_train = smote.fit_sample(X_train_counts, y_train)\n",
    "    return X_train_counts, y_train\n",
    "\n",
    "# Train Test Split. The col variable is important and will be different depending on whether we lemmatize.\n",
    "def TTS(col):\n",
    "    X_train, X_test, y_train, y_test = train_test_split(data[col], data['feelings'])\n",
    "    return X_train, X_test, y_train, y_test"
   ]
  },
  {
   "source": [
    "# Back to work"
   ],
   "cell_type": "markdown",
   "metadata": {}
  },
  {
   "cell_type": "code",
   "execution_count": null,
   "metadata": {},
   "outputs": [],
   "source": []
  }
 ]
}