{
 "metadata": {
  "language_info": {
   "codemirror_mode": {
    "name": "ipython",
    "version": 3
   },
   "file_extension": ".py",
   "mimetype": "text/x-python",
   "name": "python",
   "nbconvert_exporter": "python",
   "pygments_lexer": "ipython3",
   "version": "3.8.5-final"
  },
  "orig_nbformat": 2,
  "kernelspec": {
   "name": "python3",
   "display_name": "Python 3",
   "language": "python"
  }
 },
 "nbformat": 4,
 "nbformat_minor": 2,
 "cells": [
  {
   "cell_type": "code",
   "execution_count": 1,
   "metadata": {},
   "outputs": [],
   "source": [
    "# Imports. Nothing to see here.\n",
    "\n",
    "import matplotlib.pyplot as plt\n",
    "import numpy as np\n",
    "import pandas as pd\n",
    "import seaborn as sns\n",
    "import string\n",
    "\n",
    "from imblearn.over_sampling import SMOTE\n",
    "from gensim.models import Word2Vec\n",
    "from collections import Counter\n",
    "\n",
    "import nltk\n",
    "from nltk.stem import WordNetLemmatizer\n",
    "from nltk.corpus import stopwords\n",
    "from nltk import FreqDist, word_tokenize\n",
    "from nltk.tokenize import RegexpTokenizer\n",
    "\n",
    "from sklearn.feature_extraction.text import CountVectorizer, TfidfVectorizer\n",
    "from sklearn.model_selection import train_test_split\n",
    "from sklearn.linear_model import LogisticRegression\n",
    "from sklearn.metrics import accuracy_score, f1_score, precision_score, recall_score, classification_report, plot_confusion_matrix, confusion_matrix\n",
    "from sklearn.ensemble import RandomForestClassifier\n",
    "from sklearn.model_selection import GridSearchCV\n",
    "from sklearn.naive_bayes import MultinomialNB\n",
    "import random\n",
    "\n",
    "import sqlite3\n",
    "from textblob import TextBlob"
   ]
  },
  {
   "cell_type": "code",
   "execution_count": null,
   "metadata": {},
   "outputs": [],
   "source": [
    "# databases within ['categories', 'podcasts', 'reviews', 'runs']\n",
    "\n",
    "cnx = sqlite3.connect('D:\\Flatiron\\Capstone\\database.sqlite')\n",
    "\n",
    "podcast = pd.read_sql_query(\"SELECT * FROM podcasts\", cnx)\n",
    "\n",
    "categories = pd.read_sql_query(\"SELECT * FROM categories\", cnx)\n",
    "\n",
    "runs = pd.read_sql_query(\"SELECT * FROM runs\", cnx)\n",
    "\n",
    "reviews = pd.read_sql_query(\"SELECT * FROM reviews\", cnx)"
   ]
  },
  {
   "cell_type": "code",
   "execution_count": null,
   "metadata": {},
   "outputs": [],
   "source": [
    "explore = pd.read_sql_query('''SELECT p.podcast_id, AVG(rating)\n",
    "                            FROM podcasts p \n",
    "                            JOIN categories c \n",
    "                            ON p.podcast_id = c.podcast_id \n",
    "                            JOIN reviews r \n",
    "                            ON p.podcast_id = r.podcast_id \n",
    "                            GROUP BY p.podcast_id\n",
    "                            ORDER BY AVG(rating)\n",
    "                            ''', cnx)\n",
    "explore\n"
   ]
  },
  {
   "cell_type": "code",
   "execution_count": null,
   "metadata": {},
   "outputs": [],
   "source": []
  },
  {
   "cell_type": "code",
   "execution_count": null,
   "metadata": {},
   "outputs": [],
   "source": [
    "data = pd.read_sql_query(\"SELECT * FROM podcasts p JOIN categories c USING (podcast_id) JOIN reviews r USING (podcast_id)\", cnx)"
   ]
  },
  {
   "cell_type": "code",
   "execution_count": null,
   "metadata": {},
   "outputs": [],
   "source": [
    "data"
   ]
  },
  {
   "cell_type": "code",
   "execution_count": null,
   "metadata": {},
   "outputs": [],
   "source": [
    "# plt.hist(data['podcast_id'])\n",
    "# plt.show()"
   ]
  },
  {
   "cell_type": "code",
   "execution_count": null,
   "metadata": {},
   "outputs": [],
   "source": [
    "print(data.shape)\n",
    "data['podcast_id'].nunique()"
   ]
  },
  {
   "cell_type": "code",
   "execution_count": null,
   "metadata": {},
   "outputs": [],
   "source": [
    "data.drop(['itunes_url','itunes_id', 'created_at', 'title', 'podcast_id'], axis=1, inplace=True)"
   ]
  },
  {
   "cell_type": "code",
   "execution_count": null,
   "metadata": {},
   "outputs": [],
   "source": [
    "print(data.isna().sum())"
   ]
  },
  {
   "cell_type": "code",
   "execution_count": null,
   "metadata": {},
   "outputs": [],
   "source": [
    "# Check for duplicated rows and preserve unique entries.\n",
    "\n",
    "a = len(data)\n",
    "data = data.drop_duplicates()\n",
    "b = len(data)\n",
    "print('# Number of duplicate rows dropped: {}'.format(a-b))"
   ]
  },
  {
   "cell_type": "code",
   "execution_count": null,
   "metadata": {},
   "outputs": [],
   "source": [
    "data.info()"
   ]
  },
  {
   "cell_type": "code",
   "execution_count": null,
   "metadata": {},
   "outputs": [],
   "source": [
    "data.shape"
   ]
  },
  {
   "cell_type": "code",
   "execution_count": null,
   "metadata": {},
   "outputs": [],
   "source": [
    "data['category'].unique()"
   ]
  },
  {
   "cell_type": "code",
   "execution_count": null,
   "metadata": {},
   "outputs": [],
   "source": [
    "tokenizer = RegexpTokenizer(r'\\w+')\n",
    "\n",
    "stops = stopwords.words('english')\n",
    "stops += list(string.punctuation)"
   ]
  },
  {
   "cell_type": "code",
   "execution_count": null,
   "metadata": {},
   "outputs": [],
   "source": [
    "data"
   ]
  },
  {
   "cell_type": "code",
   "execution_count": null,
   "metadata": {},
   "outputs": [],
   "source": [
    "data ['slug'] = data['slug'].apply(lambda x: x.replace('-',' '))\n",
    "data ['category'] = data['category'].apply(lambda x: x.replace('-',' '))\n",
    "data ['category'] = data['category'].apply(lambda x: x.split()[0])\n",
    "data"
   ]
  },
  {
   "cell_type": "code",
   "execution_count": null,
   "metadata": {},
   "outputs": [],
   "source": [
    "# data['all'] = data['slug'] + ' ' + data['content']"
   ]
  },
  {
   "cell_type": "code",
   "execution_count": null,
   "metadata": {},
   "outputs": [],
   "source": [
    "data['content'] = data['content'].apply(tokenizer.tokenize)\n",
    "\n",
    "data['content'] = data['content'].apply(lambda x: [word.lower() for word in x if word.lower() not in stops])"
   ]
  },
  {
   "cell_type": "code",
   "execution_count": null,
   "metadata": {},
   "outputs": [],
   "source": [
    "# data.drop(['slug', 'content'], axis = 1, inplace=True)"
   ]
  },
  {
   "cell_type": "code",
   "execution_count": null,
   "metadata": {},
   "outputs": [],
   "source": [
    "data"
   ]
  },
  {
   "cell_type": "code",
   "execution_count": null,
   "metadata": {},
   "outputs": [],
   "source": [
    "podcast['podcast_id'].nunique()"
   ]
  },
  {
   "cell_type": "code",
   "execution_count": null,
   "metadata": {},
   "outputs": [],
   "source": [
    "############################ Visualize this ##############################\n",
    "\n",
    "data['rating'].value_counts()"
   ]
  },
  {
   "source": [
    "# Functions"
   ],
   "cell_type": "markdown",
   "metadata": {}
  },
  {
   "cell_type": "code",
   "execution_count": null,
   "metadata": {},
   "outputs": [],
   "source": [
    "def tf_idf(X_train, X_test):\n",
    "    tfidf = TfidfVectorizer()\n",
    "    X_train_counts = tfidf.fit_transform(X_train)\n",
    "    X_test_counts = tfidf.transform(X_test)\n",
    "    return X_test_counts, X_train_counts"
   ]
  },
  {
   "cell_type": "code",
   "execution_count": null,
   "metadata": {},
   "outputs": [],
   "source": [
    "# Lemmatizing will or won't happen. Two functions, one nested inside the other.\n",
    "def lemmatize_text(text):\n",
    "    lemmatizer = WordNetLemmatizer()\n",
    "    return [lemmatizer.lemmatize(w) for w in text]\n",
    "\n",
    "def lemmatize():\n",
    "    data['lemm'] = data['content'].apply(lemmatize_text)\n",
    "    data['lemm'] = data['lemm'].apply(lambda x: ' '.join(x))"
   ]
  },
  {
   "cell_type": "code",
   "execution_count": null,
   "metadata": {},
   "outputs": [],
   "source": [
    "# SMOTE either will or will not run.\n",
    "def smote(X_train_counts, y_train):\n",
    "    smote = SMOTE()\n",
    "    X_train_counts, y_train = smote.fit_sample(X_train_counts, y_train)\n",
    "    return X_train_counts, y_train\n",
    "\n",
    "# Train Test Split. The col variable is important and will be different depending on whether we lemmatize.\n",
    "def TTS(col):\n",
    "    X_train, X_test, y_train, y_test = train_test_split(data[col], data['feelings'])\n",
    "    return X_train, X_test, y_train, y_test"
   ]
  },
  {
   "cell_type": "code",
   "execution_count": null,
   "metadata": {},
   "outputs": [],
   "source": [
    "lemmatize()"
   ]
  },
  {
   "source": [
    "# TextBlob"
   ],
   "cell_type": "markdown",
   "metadata": {}
  },
  {
   "cell_type": "code",
   "execution_count": null,
   "metadata": {},
   "outputs": [],
   "source": [
    "# # Initializing the TextBlob sentiment for subj/polar(+/-)\n",
    "# polarity = (lambda x: TextBlob(x).sentiment.polarity)\n",
    "# subjectivity = (lambda x: TextBlob(x).sentiment.subjectivity)\n",
    "# # Applying to dataframe column with cleaned/tokenized text\n",
    "# data['polarity'] = data['lemm'].apply(polarity)\n",
    "# data['subjectivity'] = data['lemm'].apply(subjectivity)\n"
   ]
  },
  {
   "cell_type": "code",
   "execution_count": null,
   "metadata": {},
   "outputs": [],
   "source": [
    "# # Check the output\n",
    "# data[['polarity', 'subjectivity']][0:5]"
   ]
  },
  {
   "cell_type": "code",
   "execution_count": null,
   "metadata": {},
   "outputs": [],
   "source": [
    "# plt.bar(data.shape[0],data['polarity'])\n",
    "# plt.show()"
   ]
  },
  {
   "cell_type": "code",
   "execution_count": null,
   "metadata": {},
   "outputs": [],
   "source": [
    "# # Returned as numbers on spectrum - polar is -1 to 1 scale\n",
    "# # Subjectivity is 0 to 1\n",
    "# # Bin into positive, negative, and neutral sentiments\n",
    "# # Neutral is between -0.05 to 0.05 - this can be adjusted\n",
    "# def get_sentiment(row):\n",
    "#         if row > 0.05:\n",
    "#             return 'Positive'\n",
    "#         elif row < -0.05:\n",
    "#             return 'Negative'\n",
    "#         else:\n",
    "#             return 'Neutral'\n",
    "# data['polarity_label'] = data['polarity'].apply(get_sentiment)"
   ]
  },
  {
   "cell_type": "code",
   "execution_count": null,
   "metadata": {},
   "outputs": [],
   "source": [
    "# data.polarity_label.value_counts().plot(kind='bar', color='gold', alpha=0.6, figsize = (14, 8))\n",
    "# plt.show()"
   ]
  },
  {
   "cell_type": "code",
   "execution_count": null,
   "metadata": {},
   "outputs": [],
   "source": [
    "tfidf = TfidfVectorizer()\n",
    "tf = tfidf.fit_transform(data['lemm'])\n",
    "tf"
   ]
  },
  {
   "cell_type": "code",
   "execution_count": 33,
   "metadata": {},
   "outputs": [],
   "source": [
    "rf = RandomForestClassifier()\n",
    "rf.fit(tf, data['rating'])\n",
    "y_predicted_counts = rf.predict(tf)"
   ]
  },
  {
   "cell_type": "code",
   "execution_count": null,
   "metadata": {},
   "outputs": [],
   "source": []
  }
 ]
}