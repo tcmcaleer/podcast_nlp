{
 "metadata": {
  "language_info": {
   "codemirror_mode": {
    "name": "ipython",
    "version": 3
   },
   "file_extension": ".py",
   "mimetype": "text/x-python",
   "name": "python",
   "nbconvert_exporter": "python",
   "pygments_lexer": "ipython3",
   "version": "3.8.5-final"
  },
  "orig_nbformat": 2,
  "kernelspec": {
   "name": "python3",
   "display_name": "Python 3",
   "language": "python"
  }
 },
 "nbformat": 4,
 "nbformat_minor": 2,
 "cells": [
  {
   "cell_type": "code",
   "execution_count": 1,
   "metadata": {},
   "outputs": [],
   "source": [
    "# Imports. Nothing to see here.\n",
    "\n",
    "import matplotlib.pyplot as plt\n",
    "import numpy as np\n",
    "import pandas as pd\n",
    "import seaborn as sns\n",
    "import string\n",
    "\n",
    "from imblearn.over_sampling import SMOTE\n",
    "from gensim.models import Word2Vec\n",
    "from collections import Counter\n",
    "\n",
    "import nltk\n",
    "from nltk.stem import WordNetLemmatizer\n",
    "from nltk.corpus import stopwords\n",
    "from nltk import FreqDist, word_tokenize\n",
    "from nltk.tokenize import RegexpTokenizer\n",
    "\n",
    "from sklearn.feature_extraction.text import CountVectorizer, TfidfVectorizer\n",
    "from sklearn.model_selection import train_test_split\n",
    "from sklearn.linear_model import LogisticRegression\n",
    "from sklearn.metrics import accuracy_score, f1_score, precision_score, recall_score, classification_report, plot_confusion_matrix, confusion_matrix\n",
    "from sklearn.ensemble import RandomForestClassifier\n",
    "from sklearn.model_selection import GridSearchCV\n",
    "from sklearn.naive_bayes import MultinomialNB\n",
    "import random\n",
    "\n",
    "import sqlite3\n",
    "from textblob import TextBlob"
   ]
  },
  {
   "cell_type": "code",
   "execution_count": 2,
   "metadata": {},
   "outputs": [],
   "source": [
    "# databases within ['categories', 'podcasts', 'reviews', 'runs']\n",
    "\n",
    "cnx = sqlite3.connect('D:\\Flatiron\\Capstone\\database.sqlite')\n",
    "\n",
    "podcast = pd.read_sql_query(\"SELECT * FROM podcasts\", cnx)\n",
    "\n",
    "categories = pd.read_sql_query(\"SELECT * FROM categories\", cnx)\n",
    "\n",
    "runs = pd.read_sql_query(\"SELECT * FROM runs\", cnx)\n",
    "\n",
    "reviews = pd.read_sql_query(\"SELECT * FROM reviews\", cnx)"
   ]
  },
  {
   "cell_type": "code",
   "execution_count": 3,
   "metadata": {},
   "outputs": [
    {
     "output_type": "execute_result",
     "data": {
      "text/plain": [
       "                             podcast_id  AVG(rating)\n",
       "0      a0004b1ef445af9dc84dad1e7821b1e3          1.0\n",
       "1      a024f5f647d0877820ef9f4a8584f93a          1.0\n",
       "2      a03abf5b7f0f58615ea36f0f8c4cefcc          1.0\n",
       "3      a0459e0af7b8be2c886e867d58f1dedd          1.0\n",
       "4      a05087d5a58f032cbc27562166f10186          1.0\n",
       "...                                 ...          ...\n",
       "46660  fffdfb5b49d0d47943e09f6213a346e5          5.0\n",
       "46661  fffe308414050768d3ce3782aa503b7d          5.0\n",
       "46662  fffe3f208a56dfecfaf6d0a7f8399d63          5.0\n",
       "46663  ffff66f98c1adfc8d0d6c41bb8facfd0          5.0\n",
       "46664  ffff923482740bc21a0fe184865ec2e2          5.0\n",
       "\n",
       "[46665 rows x 2 columns]"
      ],
      "text/html": "<div>\n<style scoped>\n    .dataframe tbody tr th:only-of-type {\n        vertical-align: middle;\n    }\n\n    .dataframe tbody tr th {\n        vertical-align: top;\n    }\n\n    .dataframe thead th {\n        text-align: right;\n    }\n</style>\n<table border=\"1\" class=\"dataframe\">\n  <thead>\n    <tr style=\"text-align: right;\">\n      <th></th>\n      <th>podcast_id</th>\n      <th>AVG(rating)</th>\n    </tr>\n  </thead>\n  <tbody>\n    <tr>\n      <th>0</th>\n      <td>a0004b1ef445af9dc84dad1e7821b1e3</td>\n      <td>1.0</td>\n    </tr>\n    <tr>\n      <th>1</th>\n      <td>a024f5f647d0877820ef9f4a8584f93a</td>\n      <td>1.0</td>\n    </tr>\n    <tr>\n      <th>2</th>\n      <td>a03abf5b7f0f58615ea36f0f8c4cefcc</td>\n      <td>1.0</td>\n    </tr>\n    <tr>\n      <th>3</th>\n      <td>a0459e0af7b8be2c886e867d58f1dedd</td>\n      <td>1.0</td>\n    </tr>\n    <tr>\n      <th>4</th>\n      <td>a05087d5a58f032cbc27562166f10186</td>\n      <td>1.0</td>\n    </tr>\n    <tr>\n      <th>...</th>\n      <td>...</td>\n      <td>...</td>\n    </tr>\n    <tr>\n      <th>46660</th>\n      <td>fffdfb5b49d0d47943e09f6213a346e5</td>\n      <td>5.0</td>\n    </tr>\n    <tr>\n      <th>46661</th>\n      <td>fffe308414050768d3ce3782aa503b7d</td>\n      <td>5.0</td>\n    </tr>\n    <tr>\n      <th>46662</th>\n      <td>fffe3f208a56dfecfaf6d0a7f8399d63</td>\n      <td>5.0</td>\n    </tr>\n    <tr>\n      <th>46663</th>\n      <td>ffff66f98c1adfc8d0d6c41bb8facfd0</td>\n      <td>5.0</td>\n    </tr>\n    <tr>\n      <th>46664</th>\n      <td>ffff923482740bc21a0fe184865ec2e2</td>\n      <td>5.0</td>\n    </tr>\n  </tbody>\n</table>\n<p>46665 rows × 2 columns</p>\n</div>"
     },
     "metadata": {},
     "execution_count": 3
    }
   ],
   "source": [
    "explore = pd.read_sql_query('''SELECT p.podcast_id, AVG(rating)\n",
    "                            FROM podcasts p \n",
    "                            JOIN categories c \n",
    "                            ON p.podcast_id = c.podcast_id \n",
    "                            JOIN reviews r \n",
    "                            ON p.podcast_id = r.podcast_id \n",
    "                            GROUP BY p.podcast_id\n",
    "                            ORDER BY AVG(rating)\n",
    "                            ''', cnx)\n",
    "explore\n"
   ]
  },
  {
   "cell_type": "code",
   "execution_count": null,
   "metadata": {},
   "outputs": [],
   "source": []
  },
  {
   "cell_type": "code",
   "execution_count": 4,
   "metadata": {},
   "outputs": [],
   "source": [
    "data = pd.read_sql_query(\"SELECT * FROM podcasts p JOIN categories c USING (podcast_id) JOIN reviews r USING (podcast_id)\", cnx)"
   ]
  },
  {
   "cell_type": "code",
   "execution_count": 5,
   "metadata": {},
   "outputs": [
    {
     "output_type": "execute_result",
     "data": {
      "text/plain": [
       "                               podcast_id   itunes_id  \\\n",
       "0        c61aa81c9b929a66f0c1db6cbe5d8548  1373261997   \n",
       "1        c61aa81c9b929a66f0c1db6cbe5d8548  1373261997   \n",
       "2        c61aa81c9b929a66f0c1db6cbe5d8548  1373261997   \n",
       "3        c61aa81c9b929a66f0c1db6cbe5d8548  1373261997   \n",
       "4        c61aa81c9b929a66f0c1db6cbe5d8548  1373261997   \n",
       "...                                   ...         ...   \n",
       "1425160  ddd451a18055f0108edf79f8c3c9bf15  1164278826   \n",
       "1425161  a08a93f2ef58f847b263c84d96e891f5  1223805240   \n",
       "1425162  f9255ade54a8e12df362cde70b49dff9  1461841525   \n",
       "1425163  f9255ade54a8e12df362cde70b49dff9  1461841525   \n",
       "1425164  cf6b01b278eaa01a3e7bdb607ebc3d66  1450277129   \n",
       "\n",
       "                                                      slug  \\\n",
       "0                               backstage-at-tilles-center   \n",
       "1                               backstage-at-tilles-center   \n",
       "2                               backstage-at-tilles-center   \n",
       "3                               backstage-at-tilles-center   \n",
       "4                               backstage-at-tilles-center   \n",
       "...                                                    ...   \n",
       "1425160                     what-if-world-stories-for-kids   \n",
       "1425161  inbox-besties-w-kate-doster-email-marketing-po...   \n",
       "1425162                                         the-trypod   \n",
       "1425163                                         the-trypod   \n",
       "1425164     root-evil-true-story-hodel-family-black-dahlia   \n",
       "\n",
       "                                                itunes_url  \\\n",
       "0        https://podcasts.apple.com/us/podcast/backstag...   \n",
       "1        https://podcasts.apple.com/us/podcast/backstag...   \n",
       "2        https://podcasts.apple.com/us/podcast/backstag...   \n",
       "3        https://podcasts.apple.com/us/podcast/backstag...   \n",
       "4        https://podcasts.apple.com/us/podcast/backstag...   \n",
       "...                                                    ...   \n",
       "1425160  https://podcasts.apple.com/us/podcast/what-if-...   \n",
       "1425161  https://podcasts.apple.com/us/podcast/inbox-be...   \n",
       "1425162  https://podcasts.apple.com/us/podcast/the-tryp...   \n",
       "1425163  https://podcasts.apple.com/us/podcast/the-tryp...   \n",
       "1425164  https://podcasts.apple.com/us/podcast/root-evi...   \n",
       "\n",
       "                                                     title  \\\n",
       "0                               Backstage at Tilles Center   \n",
       "1                               Backstage at Tilles Center   \n",
       "2                               Backstage at Tilles Center   \n",
       "3                               Backstage at Tilles Center   \n",
       "4                               Backstage at Tilles Center   \n",
       "...                                                    ...   \n",
       "1425160                   What If World - Stories for Kids   \n",
       "1425161  Inbox Besties w/ Kate Doster | Email Marketing...   \n",
       "1425162                                         The TryPod   \n",
       "1425163                                         The TryPod   \n",
       "1425164  Root of Evil: The True Story of the Hodel Fami...   \n",
       "\n",
       "                     category  \\\n",
       "0                        arts   \n",
       "1        arts-performing-arts   \n",
       "2                       music   \n",
       "3                        arts   \n",
       "4        arts-performing-arts   \n",
       "...                       ...   \n",
       "1425160           kids-family   \n",
       "1425161              business   \n",
       "1425162                comedy   \n",
       "1425163                comedy   \n",
       "1425164       society-culture   \n",
       "\n",
       "                                                    title  \\\n",
       "0                                     really interesting!   \n",
       "1                                     really interesting!   \n",
       "2                                     really interesting!   \n",
       "3        Must listen for anyone interested in the arts!!!   \n",
       "4        Must listen for anyone interested in the arts!!!   \n",
       "...                                                   ...   \n",
       "1425160              Just want everyone to have fun 😊😊😊😊😊   \n",
       "1425161                              Mind blowing content   \n",
       "1425162                                   Way to many ads   \n",
       "1425163                                              Meh.   \n",
       "1425164                                         Loved it!   \n",
       "\n",
       "                                                   content  rating  \\\n",
       "0        Thanks for providing these insights.  Really e...       5   \n",
       "1        Thanks for providing these insights.  Really e...       5   \n",
       "2        Thanks for providing these insights.  Really e...       5   \n",
       "3        Super excited to see this podcast grow. So man...       5   \n",
       "4        Super excited to see this podcast grow. So man...       5   \n",
       "...                                                    ...     ...   \n",
       "1425160  I made this so all you guys that listen to thi...       5   \n",
       "1425161  I just discovered Kate Doster and the hype is ...       5   \n",
       "1425162  This podcast as well as the “you can sit with ...       1   \n",
       "1425163  Really crappy ep 2/4. I guess they can’t all b...       1   \n",
       "1425164  Very well presented story! Sad to have happene...       5   \n",
       "\n",
       "                        created_at  \n",
       "0        2018-04-24T12:05:16-07:00  \n",
       "1        2018-04-24T12:05:16-07:00  \n",
       "2        2018-04-24T12:05:16-07:00  \n",
       "3        2018-05-09T18:14:32-07:00  \n",
       "4        2018-05-09T18:14:32-07:00  \n",
       "...                            ...  \n",
       "1425160  2021-02-05T04:29:16-07:00  \n",
       "1425161  2021-02-04T14:31:55-07:00  \n",
       "1425162  2021-02-04T17:09:19-07:00  \n",
       "1425163  2021-02-04T17:41:06-07:00  \n",
       "1425164  2021-02-04T09:40:13-07:00  \n",
       "\n",
       "[1425165 rows x 10 columns]"
      ],
      "text/html": "<div>\n<style scoped>\n    .dataframe tbody tr th:only-of-type {\n        vertical-align: middle;\n    }\n\n    .dataframe tbody tr th {\n        vertical-align: top;\n    }\n\n    .dataframe thead th {\n        text-align: right;\n    }\n</style>\n<table border=\"1\" class=\"dataframe\">\n  <thead>\n    <tr style=\"text-align: right;\">\n      <th></th>\n      <th>podcast_id</th>\n      <th>itunes_id</th>\n      <th>slug</th>\n      <th>itunes_url</th>\n      <th>title</th>\n      <th>category</th>\n      <th>title</th>\n      <th>content</th>\n      <th>rating</th>\n      <th>created_at</th>\n    </tr>\n  </thead>\n  <tbody>\n    <tr>\n      <th>0</th>\n      <td>c61aa81c9b929a66f0c1db6cbe5d8548</td>\n      <td>1373261997</td>\n      <td>backstage-at-tilles-center</td>\n      <td>https://podcasts.apple.com/us/podcast/backstag...</td>\n      <td>Backstage at Tilles Center</td>\n      <td>arts</td>\n      <td>really interesting!</td>\n      <td>Thanks for providing these insights.  Really e...</td>\n      <td>5</td>\n      <td>2018-04-24T12:05:16-07:00</td>\n    </tr>\n    <tr>\n      <th>1</th>\n      <td>c61aa81c9b929a66f0c1db6cbe5d8548</td>\n      <td>1373261997</td>\n      <td>backstage-at-tilles-center</td>\n      <td>https://podcasts.apple.com/us/podcast/backstag...</td>\n      <td>Backstage at Tilles Center</td>\n      <td>arts-performing-arts</td>\n      <td>really interesting!</td>\n      <td>Thanks for providing these insights.  Really e...</td>\n      <td>5</td>\n      <td>2018-04-24T12:05:16-07:00</td>\n    </tr>\n    <tr>\n      <th>2</th>\n      <td>c61aa81c9b929a66f0c1db6cbe5d8548</td>\n      <td>1373261997</td>\n      <td>backstage-at-tilles-center</td>\n      <td>https://podcasts.apple.com/us/podcast/backstag...</td>\n      <td>Backstage at Tilles Center</td>\n      <td>music</td>\n      <td>really interesting!</td>\n      <td>Thanks for providing these insights.  Really e...</td>\n      <td>5</td>\n      <td>2018-04-24T12:05:16-07:00</td>\n    </tr>\n    <tr>\n      <th>3</th>\n      <td>c61aa81c9b929a66f0c1db6cbe5d8548</td>\n      <td>1373261997</td>\n      <td>backstage-at-tilles-center</td>\n      <td>https://podcasts.apple.com/us/podcast/backstag...</td>\n      <td>Backstage at Tilles Center</td>\n      <td>arts</td>\n      <td>Must listen for anyone interested in the arts!!!</td>\n      <td>Super excited to see this podcast grow. So man...</td>\n      <td>5</td>\n      <td>2018-05-09T18:14:32-07:00</td>\n    </tr>\n    <tr>\n      <th>4</th>\n      <td>c61aa81c9b929a66f0c1db6cbe5d8548</td>\n      <td>1373261997</td>\n      <td>backstage-at-tilles-center</td>\n      <td>https://podcasts.apple.com/us/podcast/backstag...</td>\n      <td>Backstage at Tilles Center</td>\n      <td>arts-performing-arts</td>\n      <td>Must listen for anyone interested in the arts!!!</td>\n      <td>Super excited to see this podcast grow. So man...</td>\n      <td>5</td>\n      <td>2018-05-09T18:14:32-07:00</td>\n    </tr>\n    <tr>\n      <th>...</th>\n      <td>...</td>\n      <td>...</td>\n      <td>...</td>\n      <td>...</td>\n      <td>...</td>\n      <td>...</td>\n      <td>...</td>\n      <td>...</td>\n      <td>...</td>\n      <td>...</td>\n    </tr>\n    <tr>\n      <th>1425160</th>\n      <td>ddd451a18055f0108edf79f8c3c9bf15</td>\n      <td>1164278826</td>\n      <td>what-if-world-stories-for-kids</td>\n      <td>https://podcasts.apple.com/us/podcast/what-if-...</td>\n      <td>What If World - Stories for Kids</td>\n      <td>kids-family</td>\n      <td>Just want everyone to have fun 😊😊😊😊😊</td>\n      <td>I made this so all you guys that listen to thi...</td>\n      <td>5</td>\n      <td>2021-02-05T04:29:16-07:00</td>\n    </tr>\n    <tr>\n      <th>1425161</th>\n      <td>a08a93f2ef58f847b263c84d96e891f5</td>\n      <td>1223805240</td>\n      <td>inbox-besties-w-kate-doster-email-marketing-po...</td>\n      <td>https://podcasts.apple.com/us/podcast/inbox-be...</td>\n      <td>Inbox Besties w/ Kate Doster | Email Marketing...</td>\n      <td>business</td>\n      <td>Mind blowing content</td>\n      <td>I just discovered Kate Doster and the hype is ...</td>\n      <td>5</td>\n      <td>2021-02-04T14:31:55-07:00</td>\n    </tr>\n    <tr>\n      <th>1425162</th>\n      <td>f9255ade54a8e12df362cde70b49dff9</td>\n      <td>1461841525</td>\n      <td>the-trypod</td>\n      <td>https://podcasts.apple.com/us/podcast/the-tryp...</td>\n      <td>The TryPod</td>\n      <td>comedy</td>\n      <td>Way to many ads</td>\n      <td>This podcast as well as the “you can sit with ...</td>\n      <td>1</td>\n      <td>2021-02-04T17:09:19-07:00</td>\n    </tr>\n    <tr>\n      <th>1425163</th>\n      <td>f9255ade54a8e12df362cde70b49dff9</td>\n      <td>1461841525</td>\n      <td>the-trypod</td>\n      <td>https://podcasts.apple.com/us/podcast/the-tryp...</td>\n      <td>The TryPod</td>\n      <td>comedy</td>\n      <td>Meh.</td>\n      <td>Really crappy ep 2/4. I guess they can’t all b...</td>\n      <td>1</td>\n      <td>2021-02-04T17:41:06-07:00</td>\n    </tr>\n    <tr>\n      <th>1425164</th>\n      <td>cf6b01b278eaa01a3e7bdb607ebc3d66</td>\n      <td>1450277129</td>\n      <td>root-evil-true-story-hodel-family-black-dahlia</td>\n      <td>https://podcasts.apple.com/us/podcast/root-evi...</td>\n      <td>Root of Evil: The True Story of the Hodel Fami...</td>\n      <td>society-culture</td>\n      <td>Loved it!</td>\n      <td>Very well presented story! Sad to have happene...</td>\n      <td>5</td>\n      <td>2021-02-04T09:40:13-07:00</td>\n    </tr>\n  </tbody>\n</table>\n<p>1425165 rows × 10 columns</p>\n</div>"
     },
     "metadata": {},
     "execution_count": 5
    }
   ],
   "source": [
    "data"
   ]
  },
  {
   "cell_type": "code",
   "execution_count": 6,
   "metadata": {},
   "outputs": [],
   "source": [
    "# plt.hist(data['podcast_id'])\n",
    "# plt.show()"
   ]
  },
  {
   "cell_type": "code",
   "execution_count": 7,
   "metadata": {},
   "outputs": [
    {
     "output_type": "stream",
     "name": "stdout",
     "text": [
      "(1425165, 10)\n"
     ]
    },
    {
     "output_type": "execute_result",
     "data": {
      "text/plain": [
       "46665"
      ]
     },
     "metadata": {},
     "execution_count": 7
    }
   ],
   "source": [
    "print(data.shape)\n",
    "data['podcast_id'].nunique()"
   ]
  },
  {
   "cell_type": "code",
   "execution_count": 8,
   "metadata": {},
   "outputs": [],
   "source": [
    "data.drop(['itunes_url','itunes_id', 'created_at', 'title', 'podcast_id'], axis=1, inplace=True)"
   ]
  },
  {
   "cell_type": "code",
   "execution_count": 9,
   "metadata": {},
   "outputs": [
    {
     "output_type": "stream",
     "name": "stdout",
     "text": [
      "slug        0\ncategory    0\ncontent     0\nrating      0\ndtype: int64\n"
     ]
    }
   ],
   "source": [
    "print(data.isna().sum())"
   ]
  },
  {
   "cell_type": "code",
   "execution_count": 10,
   "metadata": {},
   "outputs": [
    {
     "output_type": "stream",
     "name": "stdout",
     "text": [
      "# Number of duplicate rows dropped: 2968\n"
     ]
    }
   ],
   "source": [
    "# Check for duplicated rows and preserve unique entries.\n",
    "\n",
    "a = len(data)\n",
    "data = data.drop_duplicates()\n",
    "b = len(data)\n",
    "print('# Number of duplicate rows dropped: {}'.format(a-b))"
   ]
  },
  {
   "cell_type": "code",
   "execution_count": 11,
   "metadata": {},
   "outputs": [
    {
     "output_type": "stream",
     "name": "stdout",
     "text": [
      "<class 'pandas.core.frame.DataFrame'>\nInt64Index: 1422197 entries, 0 to 1425164\nData columns (total 4 columns):\n #   Column    Non-Null Count    Dtype \n---  ------    --------------    ----- \n 0   slug      1422197 non-null  object\n 1   category  1422197 non-null  object\n 2   content   1422197 non-null  object\n 3   rating    1422197 non-null  int64 \ndtypes: int64(1), object(3)\nmemory usage: 54.3+ MB\n"
     ]
    }
   ],
   "source": [
    "data.info()"
   ]
  },
  {
   "cell_type": "code",
   "execution_count": 12,
   "metadata": {},
   "outputs": [
    {
     "output_type": "execute_result",
     "data": {
      "text/plain": [
       "(1422197, 4)"
      ]
     },
     "metadata": {},
     "execution_count": 12
    }
   ],
   "source": [
    "data.shape"
   ]
  },
  {
   "cell_type": "code",
   "execution_count": 13,
   "metadata": {},
   "outputs": [
    {
     "output_type": "execute_result",
     "data": {
      "text/plain": [
       "array(['arts', 'arts-performing-arts', 'music', 'arts-design',\n",
       "       'education', 'society-culture', 'arts-visual-arts', 'technology',\n",
       "       'arts-food', 'society-culture-personal-journals', 'comedy',\n",
       "       'arts-fashion-beauty', 'tv-film', 'society-culture-places-travel',\n",
       "       'kids-family', 'religion-spirituality', 'business',\n",
       "       'society-culture-philosophy', 'spirituality', 'business-careers',\n",
       "       'christianity', 'hinduism', 'business-investing', 'judaism',\n",
       "       'islam', 'buddhism'], dtype=object)"
      ]
     },
     "metadata": {},
     "execution_count": 13
    }
   ],
   "source": [
    "data['category'].unique()"
   ]
  },
  {
   "cell_type": "code",
   "execution_count": 14,
   "metadata": {},
   "outputs": [],
   "source": [
    "tokenizer = RegexpTokenizer(r'\\w+')\n",
    "\n",
    "stops = stopwords.words('english')\n",
    "stops += list(string.punctuation)"
   ]
  },
  {
   "cell_type": "code",
   "execution_count": 15,
   "metadata": {},
   "outputs": [
    {
     "output_type": "execute_result",
     "data": {
      "text/plain": [
       "                                                      slug  \\\n",
       "0                               backstage-at-tilles-center   \n",
       "1                               backstage-at-tilles-center   \n",
       "2                               backstage-at-tilles-center   \n",
       "3                               backstage-at-tilles-center   \n",
       "4                               backstage-at-tilles-center   \n",
       "...                                                    ...   \n",
       "1425160                     what-if-world-stories-for-kids   \n",
       "1425161  inbox-besties-w-kate-doster-email-marketing-po...   \n",
       "1425162                                         the-trypod   \n",
       "1425163                                         the-trypod   \n",
       "1425164     root-evil-true-story-hodel-family-black-dahlia   \n",
       "\n",
       "                     category  \\\n",
       "0                        arts   \n",
       "1        arts-performing-arts   \n",
       "2                       music   \n",
       "3                        arts   \n",
       "4        arts-performing-arts   \n",
       "...                       ...   \n",
       "1425160           kids-family   \n",
       "1425161              business   \n",
       "1425162                comedy   \n",
       "1425163                comedy   \n",
       "1425164       society-culture   \n",
       "\n",
       "                                                   content  rating  \n",
       "0        Thanks for providing these insights.  Really e...       5  \n",
       "1        Thanks for providing these insights.  Really e...       5  \n",
       "2        Thanks for providing these insights.  Really e...       5  \n",
       "3        Super excited to see this podcast grow. So man...       5  \n",
       "4        Super excited to see this podcast grow. So man...       5  \n",
       "...                                                    ...     ...  \n",
       "1425160  I made this so all you guys that listen to thi...       5  \n",
       "1425161  I just discovered Kate Doster and the hype is ...       5  \n",
       "1425162  This podcast as well as the “you can sit with ...       1  \n",
       "1425163  Really crappy ep 2/4. I guess they can’t all b...       1  \n",
       "1425164  Very well presented story! Sad to have happene...       5  \n",
       "\n",
       "[1422197 rows x 4 columns]"
      ],
      "text/html": "<div>\n<style scoped>\n    .dataframe tbody tr th:only-of-type {\n        vertical-align: middle;\n    }\n\n    .dataframe tbody tr th {\n        vertical-align: top;\n    }\n\n    .dataframe thead th {\n        text-align: right;\n    }\n</style>\n<table border=\"1\" class=\"dataframe\">\n  <thead>\n    <tr style=\"text-align: right;\">\n      <th></th>\n      <th>slug</th>\n      <th>category</th>\n      <th>content</th>\n      <th>rating</th>\n    </tr>\n  </thead>\n  <tbody>\n    <tr>\n      <th>0</th>\n      <td>backstage-at-tilles-center</td>\n      <td>arts</td>\n      <td>Thanks for providing these insights.  Really e...</td>\n      <td>5</td>\n    </tr>\n    <tr>\n      <th>1</th>\n      <td>backstage-at-tilles-center</td>\n      <td>arts-performing-arts</td>\n      <td>Thanks for providing these insights.  Really e...</td>\n      <td>5</td>\n    </tr>\n    <tr>\n      <th>2</th>\n      <td>backstage-at-tilles-center</td>\n      <td>music</td>\n      <td>Thanks for providing these insights.  Really e...</td>\n      <td>5</td>\n    </tr>\n    <tr>\n      <th>3</th>\n      <td>backstage-at-tilles-center</td>\n      <td>arts</td>\n      <td>Super excited to see this podcast grow. So man...</td>\n      <td>5</td>\n    </tr>\n    <tr>\n      <th>4</th>\n      <td>backstage-at-tilles-center</td>\n      <td>arts-performing-arts</td>\n      <td>Super excited to see this podcast grow. So man...</td>\n      <td>5</td>\n    </tr>\n    <tr>\n      <th>...</th>\n      <td>...</td>\n      <td>...</td>\n      <td>...</td>\n      <td>...</td>\n    </tr>\n    <tr>\n      <th>1425160</th>\n      <td>what-if-world-stories-for-kids</td>\n      <td>kids-family</td>\n      <td>I made this so all you guys that listen to thi...</td>\n      <td>5</td>\n    </tr>\n    <tr>\n      <th>1425161</th>\n      <td>inbox-besties-w-kate-doster-email-marketing-po...</td>\n      <td>business</td>\n      <td>I just discovered Kate Doster and the hype is ...</td>\n      <td>5</td>\n    </tr>\n    <tr>\n      <th>1425162</th>\n      <td>the-trypod</td>\n      <td>comedy</td>\n      <td>This podcast as well as the “you can sit with ...</td>\n      <td>1</td>\n    </tr>\n    <tr>\n      <th>1425163</th>\n      <td>the-trypod</td>\n      <td>comedy</td>\n      <td>Really crappy ep 2/4. I guess they can’t all b...</td>\n      <td>1</td>\n    </tr>\n    <tr>\n      <th>1425164</th>\n      <td>root-evil-true-story-hodel-family-black-dahlia</td>\n      <td>society-culture</td>\n      <td>Very well presented story! Sad to have happene...</td>\n      <td>5</td>\n    </tr>\n  </tbody>\n</table>\n<p>1422197 rows × 4 columns</p>\n</div>"
     },
     "metadata": {},
     "execution_count": 15
    }
   ],
   "source": [
    "data"
   ]
  },
  {
   "cell_type": "code",
   "execution_count": 16,
   "metadata": {},
   "outputs": [
    {
     "output_type": "execute_result",
     "data": {
      "text/plain": [
       "                                                      slug  category  \\\n",
       "0                               backstage at tilles center      arts   \n",
       "1                               backstage at tilles center      arts   \n",
       "2                               backstage at tilles center     music   \n",
       "3                               backstage at tilles center      arts   \n",
       "4                               backstage at tilles center      arts   \n",
       "...                                                    ...       ...   \n",
       "1425160                     what if world stories for kids      kids   \n",
       "1425161  inbox besties w kate doster email marketing po...  business   \n",
       "1425162                                         the trypod    comedy   \n",
       "1425163                                         the trypod    comedy   \n",
       "1425164     root evil true story hodel family black dahlia   society   \n",
       "\n",
       "                                                   content  rating  \n",
       "0        Thanks for providing these insights.  Really e...       5  \n",
       "1        Thanks for providing these insights.  Really e...       5  \n",
       "2        Thanks for providing these insights.  Really e...       5  \n",
       "3        Super excited to see this podcast grow. So man...       5  \n",
       "4        Super excited to see this podcast grow. So man...       5  \n",
       "...                                                    ...     ...  \n",
       "1425160  I made this so all you guys that listen to thi...       5  \n",
       "1425161  I just discovered Kate Doster and the hype is ...       5  \n",
       "1425162  This podcast as well as the “you can sit with ...       1  \n",
       "1425163  Really crappy ep 2/4. I guess they can’t all b...       1  \n",
       "1425164  Very well presented story! Sad to have happene...       5  \n",
       "\n",
       "[1422197 rows x 4 columns]"
      ],
      "text/html": "<div>\n<style scoped>\n    .dataframe tbody tr th:only-of-type {\n        vertical-align: middle;\n    }\n\n    .dataframe tbody tr th {\n        vertical-align: top;\n    }\n\n    .dataframe thead th {\n        text-align: right;\n    }\n</style>\n<table border=\"1\" class=\"dataframe\">\n  <thead>\n    <tr style=\"text-align: right;\">\n      <th></th>\n      <th>slug</th>\n      <th>category</th>\n      <th>content</th>\n      <th>rating</th>\n    </tr>\n  </thead>\n  <tbody>\n    <tr>\n      <th>0</th>\n      <td>backstage at tilles center</td>\n      <td>arts</td>\n      <td>Thanks for providing these insights.  Really e...</td>\n      <td>5</td>\n    </tr>\n    <tr>\n      <th>1</th>\n      <td>backstage at tilles center</td>\n      <td>arts</td>\n      <td>Thanks for providing these insights.  Really e...</td>\n      <td>5</td>\n    </tr>\n    <tr>\n      <th>2</th>\n      <td>backstage at tilles center</td>\n      <td>music</td>\n      <td>Thanks for providing these insights.  Really e...</td>\n      <td>5</td>\n    </tr>\n    <tr>\n      <th>3</th>\n      <td>backstage at tilles center</td>\n      <td>arts</td>\n      <td>Super excited to see this podcast grow. So man...</td>\n      <td>5</td>\n    </tr>\n    <tr>\n      <th>4</th>\n      <td>backstage at tilles center</td>\n      <td>arts</td>\n      <td>Super excited to see this podcast grow. So man...</td>\n      <td>5</td>\n    </tr>\n    <tr>\n      <th>...</th>\n      <td>...</td>\n      <td>...</td>\n      <td>...</td>\n      <td>...</td>\n    </tr>\n    <tr>\n      <th>1425160</th>\n      <td>what if world stories for kids</td>\n      <td>kids</td>\n      <td>I made this so all you guys that listen to thi...</td>\n      <td>5</td>\n    </tr>\n    <tr>\n      <th>1425161</th>\n      <td>inbox besties w kate doster email marketing po...</td>\n      <td>business</td>\n      <td>I just discovered Kate Doster and the hype is ...</td>\n      <td>5</td>\n    </tr>\n    <tr>\n      <th>1425162</th>\n      <td>the trypod</td>\n      <td>comedy</td>\n      <td>This podcast as well as the “you can sit with ...</td>\n      <td>1</td>\n    </tr>\n    <tr>\n      <th>1425163</th>\n      <td>the trypod</td>\n      <td>comedy</td>\n      <td>Really crappy ep 2/4. I guess they can’t all b...</td>\n      <td>1</td>\n    </tr>\n    <tr>\n      <th>1425164</th>\n      <td>root evil true story hodel family black dahlia</td>\n      <td>society</td>\n      <td>Very well presented story! Sad to have happene...</td>\n      <td>5</td>\n    </tr>\n  </tbody>\n</table>\n<p>1422197 rows × 4 columns</p>\n</div>"
     },
     "metadata": {},
     "execution_count": 16
    }
   ],
   "source": [
    "data ['slug'] = data['slug'].apply(lambda x: x.replace('-',' '))\n",
    "data ['category'] = data['category'].apply(lambda x: x.replace('-',' '))\n",
    "data ['category'] = data['category'].apply(lambda x: x.split()[0])\n",
    "data"
   ]
  },
  {
   "cell_type": "code",
   "execution_count": 17,
   "metadata": {},
   "outputs": [],
   "source": [
    "# data['all'] = data['slug'] + ' ' + data['content']"
   ]
  },
  {
   "cell_type": "code",
   "execution_count": 18,
   "metadata": {},
   "outputs": [],
   "source": [
    "data['content'] = data['content'].apply(tokenizer.tokenize)\n",
    "\n",
    "data['content'] = data['content'].apply(lambda x: [word.lower() for word in x if word.lower() not in stops])"
   ]
  },
  {
   "cell_type": "code",
   "execution_count": 19,
   "metadata": {},
   "outputs": [],
   "source": [
    "# data.drop(['slug', 'content'], axis = 1, inplace=True)"
   ]
  },
  {
   "cell_type": "code",
   "execution_count": 20,
   "metadata": {},
   "outputs": [
    {
     "output_type": "execute_result",
     "data": {
      "text/plain": [
       "                                                      slug  category  \\\n",
       "0                               backstage at tilles center      arts   \n",
       "1                               backstage at tilles center      arts   \n",
       "2                               backstage at tilles center     music   \n",
       "3                               backstage at tilles center      arts   \n",
       "4                               backstage at tilles center      arts   \n",
       "...                                                    ...       ...   \n",
       "1425160                     what if world stories for kids      kids   \n",
       "1425161  inbox besties w kate doster email marketing po...  business   \n",
       "1425162                                         the trypod    comedy   \n",
       "1425163                                         the trypod    comedy   \n",
       "1425164     root evil true story hodel family black dahlia   society   \n",
       "\n",
       "                                                   content  rating  \n",
       "0        [thanks, providing, insights, really, enjoy, v...       5  \n",
       "1        [thanks, providing, insights, really, enjoy, v...       5  \n",
       "2        [thanks, providing, insights, really, enjoy, v...       5  \n",
       "3        [super, excited, see, podcast, grow, many, fun...       5  \n",
       "4        [super, excited, see, podcast, grow, many, fun...       5  \n",
       "...                                                    ...     ...  \n",
       "1425160  [made, guys, listen, podcast, fun, spot, diffe...       5  \n",
       "1425161  [discovered, kate, doster, hype, real, heard, ...       5  \n",
       "1425162  [podcast, well, sit, us, podcast, turned, 30, ...       1  \n",
       "1425163  [really, crappy, ep, 2, 4, guess, winners, wou...       1  \n",
       "1425164  [well, presented, story, sad, happened, hodel,...       5  \n",
       "\n",
       "[1422197 rows x 4 columns]"
      ],
      "text/html": "<div>\n<style scoped>\n    .dataframe tbody tr th:only-of-type {\n        vertical-align: middle;\n    }\n\n    .dataframe tbody tr th {\n        vertical-align: top;\n    }\n\n    .dataframe thead th {\n        text-align: right;\n    }\n</style>\n<table border=\"1\" class=\"dataframe\">\n  <thead>\n    <tr style=\"text-align: right;\">\n      <th></th>\n      <th>slug</th>\n      <th>category</th>\n      <th>content</th>\n      <th>rating</th>\n    </tr>\n  </thead>\n  <tbody>\n    <tr>\n      <th>0</th>\n      <td>backstage at tilles center</td>\n      <td>arts</td>\n      <td>[thanks, providing, insights, really, enjoy, v...</td>\n      <td>5</td>\n    </tr>\n    <tr>\n      <th>1</th>\n      <td>backstage at tilles center</td>\n      <td>arts</td>\n      <td>[thanks, providing, insights, really, enjoy, v...</td>\n      <td>5</td>\n    </tr>\n    <tr>\n      <th>2</th>\n      <td>backstage at tilles center</td>\n      <td>music</td>\n      <td>[thanks, providing, insights, really, enjoy, v...</td>\n      <td>5</td>\n    </tr>\n    <tr>\n      <th>3</th>\n      <td>backstage at tilles center</td>\n      <td>arts</td>\n      <td>[super, excited, see, podcast, grow, many, fun...</td>\n      <td>5</td>\n    </tr>\n    <tr>\n      <th>4</th>\n      <td>backstage at tilles center</td>\n      <td>arts</td>\n      <td>[super, excited, see, podcast, grow, many, fun...</td>\n      <td>5</td>\n    </tr>\n    <tr>\n      <th>...</th>\n      <td>...</td>\n      <td>...</td>\n      <td>...</td>\n      <td>...</td>\n    </tr>\n    <tr>\n      <th>1425160</th>\n      <td>what if world stories for kids</td>\n      <td>kids</td>\n      <td>[made, guys, listen, podcast, fun, spot, diffe...</td>\n      <td>5</td>\n    </tr>\n    <tr>\n      <th>1425161</th>\n      <td>inbox besties w kate doster email marketing po...</td>\n      <td>business</td>\n      <td>[discovered, kate, doster, hype, real, heard, ...</td>\n      <td>5</td>\n    </tr>\n    <tr>\n      <th>1425162</th>\n      <td>the trypod</td>\n      <td>comedy</td>\n      <td>[podcast, well, sit, us, podcast, turned, 30, ...</td>\n      <td>1</td>\n    </tr>\n    <tr>\n      <th>1425163</th>\n      <td>the trypod</td>\n      <td>comedy</td>\n      <td>[really, crappy, ep, 2, 4, guess, winners, wou...</td>\n      <td>1</td>\n    </tr>\n    <tr>\n      <th>1425164</th>\n      <td>root evil true story hodel family black dahlia</td>\n      <td>society</td>\n      <td>[well, presented, story, sad, happened, hodel,...</td>\n      <td>5</td>\n    </tr>\n  </tbody>\n</table>\n<p>1422197 rows × 4 columns</p>\n</div>"
     },
     "metadata": {},
     "execution_count": 20
    }
   ],
   "source": [
    "data"
   ]
  },
  {
   "cell_type": "code",
   "execution_count": 21,
   "metadata": {},
   "outputs": [
    {
     "output_type": "execute_result",
     "data": {
      "text/plain": [
       "46665"
      ]
     },
     "metadata": {},
     "execution_count": 21
    }
   ],
   "source": [
    "podcast['podcast_id'].nunique()"
   ]
  },
  {
   "cell_type": "code",
   "execution_count": 22,
   "metadata": {},
   "outputs": [
    {
     "output_type": "execute_result",
     "data": {
      "text/plain": [
       "5    1265760\n",
       "1      60381\n",
       "4      41631\n",
       "3      29006\n",
       "2      25419\n",
       "Name: rating, dtype: int64"
      ]
     },
     "metadata": {},
     "execution_count": 22
    }
   ],
   "source": [
    "############################ Visualize this ##############################\n",
    "\n",
    "data['rating'].value_counts()"
   ]
  },
  {
   "source": [
    "# Functions"
   ],
   "cell_type": "markdown",
   "metadata": {}
  },
  {
   "cell_type": "code",
   "execution_count": 23,
   "metadata": {},
   "outputs": [],
   "source": [
    "def tf_idf(X_train, X_test):\n",
    "    tfidf = TfidfVectorizer()\n",
    "    X_train_counts = tfidf.fit_transform(X_train)\n",
    "    X_test_counts = tfidf.transform(X_test)\n",
    "    return X_test_counts, X_train_counts"
   ]
  },
  {
   "cell_type": "code",
   "execution_count": 24,
   "metadata": {},
   "outputs": [],
   "source": [
    "# Lemmatizing will or won't happen. Two functions, one nested inside the other.\n",
    "def lemmatize_text(text):\n",
    "    lemmatizer = WordNetLemmatizer()\n",
    "    return [lemmatizer.lemmatize(w) for w in text]\n",
    "\n",
    "def lemmatize():\n",
    "    data['lemm'] = data['content'].apply(lemmatize_text)\n",
    "    data['lemm'] = data['lemm'].apply(lambda x: ' '.join(x))"
   ]
  },
  {
   "cell_type": "code",
   "execution_count": 25,
   "metadata": {},
   "outputs": [],
   "source": [
    "# SMOTE either will or will not run.\n",
    "def smote(X_train_counts, y_train):\n",
    "    smote = SMOTE()\n",
    "    X_train_counts, y_train = smote.fit_sample(X_train_counts, y_train)\n",
    "    return X_train_counts, y_train\n",
    "\n",
    "# Train Test Split. The col variable is important and will be different depending on whether we lemmatize.\n",
    "def TTS(col):\n",
    "    X_train, X_test, y_train, y_test = train_test_split(data[col], data['feelings'])\n",
    "    return X_train, X_test, y_train, y_test"
   ]
  },
  {
   "cell_type": "code",
   "execution_count": 34,
   "metadata": {},
   "outputs": [],
   "source": [
    "def classify(y_test, y_predicted_counts):\n",
    "    print('\\n\\nClassification Report - TEST')\n",
    "    print('--------------------------------------------------------------------------')\n",
    "    print(classification_report(y_test, y_predicted_counts))\n",
    "    print('--------------------------------------------------------------------------')\n",
    "    print('Confusion Matrix - TEST')\n",
    "    print('--------------------------------------------------------------------------')\n",
    "    print(pd.crosstab(y_test, y_predicted_counts, rownames=['True'], colnames=['Predicted'], margins=True))\n",
    "    print('--------------------------------------------------------------------------')"
   ]
  },
  {
   "cell_type": "code",
   "execution_count": 26,
   "metadata": {},
   "outputs": [],
   "source": [
    "lemmatize()"
   ]
  },
  {
   "source": [
    "# TextBlob"
   ],
   "cell_type": "markdown",
   "metadata": {}
  },
  {
   "cell_type": "code",
   "execution_count": 27,
   "metadata": {},
   "outputs": [],
   "source": [
    "# # Initializing the TextBlob sentiment for subj/polar(+/-)\n",
    "# polarity = (lambda x: TextBlob(x).sentiment.polarity)\n",
    "# subjectivity = (lambda x: TextBlob(x).sentiment.subjectivity)\n",
    "# # Applying to dataframe column with cleaned/tokenized text\n",
    "# data['polarity'] = data['lemm'].apply(polarity)\n",
    "# data['subjectivity'] = data['lemm'].apply(subjectivity)\n"
   ]
  },
  {
   "cell_type": "code",
   "execution_count": 28,
   "metadata": {},
   "outputs": [],
   "source": [
    "# # Check the output\n",
    "# data[['polarity', 'subjectivity']][0:5]"
   ]
  },
  {
   "cell_type": "code",
   "execution_count": 29,
   "metadata": {},
   "outputs": [],
   "source": [
    "# plt.bar(data.shape[0],data['polarity'])\n",
    "# plt.show()"
   ]
  },
  {
   "cell_type": "code",
   "execution_count": 30,
   "metadata": {},
   "outputs": [],
   "source": [
    "# # Returned as numbers on spectrum - polar is -1 to 1 scale\n",
    "# # Subjectivity is 0 to 1\n",
    "# # Bin into positive, negative, and neutral sentiments\n",
    "# # Neutral is between -0.05 to 0.05 - this can be adjusted\n",
    "# def get_sentiment(row):\n",
    "#         if row > 0.05:\n",
    "#             return 'Positive'\n",
    "#         elif row < -0.05:\n",
    "#             return 'Negative'\n",
    "#         else:\n",
    "#             return 'Neutral'\n",
    "# data['polarity_label'] = data['polarity'].apply(get_sentiment)"
   ]
  },
  {
   "cell_type": "code",
   "execution_count": 31,
   "metadata": {},
   "outputs": [],
   "source": [
    "# data.polarity_label.value_counts().plot(kind='bar', color='gold', alpha=0.6, figsize = (14, 8))\n",
    "# plt.show()"
   ]
  },
  {
   "cell_type": "code",
   "execution_count": 32,
   "metadata": {},
   "outputs": [
    {
     "output_type": "execute_result",
     "data": {
      "text/plain": [
       "<1422197x199378 sparse matrix of type '<class 'numpy.float64'>'\n",
       "\twith 28562950 stored elements in Compressed Sparse Row format>"
      ]
     },
     "metadata": {},
     "execution_count": 32
    }
   ],
   "source": [
    "tfidf = TfidfVectorizer()\n",
    "tf = tfidf.fit_transform(data['lemm'])\n",
    "tf"
   ]
  },
  {
   "cell_type": "code",
   "execution_count": 33,
   "metadata": {},
   "outputs": [
    {
     "output_type": "execute_result",
     "data": {
      "text/plain": [
       "LogisticRegression(C=30.0, class_weight='balanced', multi_class='multinomial',\n",
       "                   n_jobs=-1, random_state=40, solver='newton-cg')"
      ]
     },
     "metadata": {},
     "execution_count": 33
    }
   ],
   "source": [
    "clf = LogisticRegression(C=30.0, class_weight='balanced', solver='newton-cg', \n",
    "                         multi_class='multinomial', n_jobs=-1, random_state=40)\n",
    "clf.fit(tf, data['rating'])\n"
   ]
  },
  {
   "cell_type": "code",
   "execution_count": 47,
   "metadata": {},
   "outputs": [],
   "source": [
    "y_predicted_counts = clf.predict(tf)"
   ]
  },
  {
   "cell_type": "code",
   "execution_count": 64,
   "metadata": {},
   "outputs": [
    {
     "output_type": "execute_result",
     "data": {
      "text/plain": [
       "slug        0\n",
       "category    0\n",
       "content     0\n",
       "rating      0\n",
       "lemm        0\n",
       "predict     0\n",
       "dtype: int64"
      ]
     },
     "metadata": {},
     "execution_count": 64
    }
   ],
   "source": [
    "data['predict'] = y_predicted_counts"
   ]
  },
  {
   "cell_type": "code",
   "execution_count": 36,
   "metadata": {},
   "outputs": [
    {
     "output_type": "execute_result",
     "data": {
      "text/plain": [
       "<sklearn.metrics._plot.confusion_matrix.ConfusionMatrixDisplay at 0x199bd63d0a0>"
      ]
     },
     "metadata": {},
     "execution_count": 36
    },
    {
     "output_type": "display_data",
     "data": {
      "text/plain": "<Figure size 432x288 with 2 Axes>",
      "image/svg+xml": "<?xml version=\"1.0\" encoding=\"utf-8\" standalone=\"no\"?>\r\n<!DOCTYPE svg PUBLIC \"-//W3C//DTD SVG 1.1//EN\"\r\n  \"http://www.w3.org/Graphics/SVG/1.1/DTD/svg11.dtd\">\r\n<!-- Created with matplotlib (https://matplotlib.org/) -->\r\n<svg height=\"272.794688pt\" version=\"1.1\" viewBox=\"0 0 309.39575 272.794688\" width=\"309.39575pt\" xmlns=\"http://www.w3.org/2000/svg\" xmlns:xlink=\"http://www.w3.org/1999/xlink\">\r\n <metadata>\r\n  <rdf:RDF xmlns:cc=\"http://creativecommons.org/ns#\" xmlns:dc=\"http://purl.org/dc/elements/1.1/\" xmlns:rdf=\"http://www.w3.org/1999/02/22-rdf-syntax-ns#\">\r\n   <cc:Work>\r\n    <dc:type rdf:resource=\"http://purl.org/dc/dcmitype/StillImage\"/>\r\n    <dc:date>2021-02-19T23:21:52.608428</dc:date>\r\n    <dc:format>image/svg+xml</dc:format>\r\n    <dc:creator>\r\n     <cc:Agent>\r\n      <dc:title>Matplotlib v3.3.2, https://matplotlib.org/</dc:title>\r\n     </cc:Agent>\r\n    </dc:creator>\r\n   </cc:Work>\r\n  </rdf:RDF>\r\n </metadata>\r\n <defs>\r\n  <style type=\"text/css\">*{stroke-linecap:butt;stroke-linejoin:round;}</style>\r\n </defs>\r\n <g id=\"figure_1\">\r\n  <g id=\"patch_1\">\r\n   <path d=\"M 0 272.794688 \r\nL 309.39575 272.794688 \r\nL 309.39575 0 \r\nL 0 0 \r\nz\r\n\" style=\"fill:none;\"/>\r\n  </g>\r\n  <g id=\"axes_1\">\r\n   <g id=\"patch_2\">\r\n    <path d=\"M 34.240625 235.238438 \r\nL 251.680625 235.238438 \r\nL 251.680625 17.798438 \r\nL 34.240625 17.798438 \r\nz\r\n\" style=\"fill:#ffffff;\"/>\r\n   </g>\r\n   <g clip-path=\"url(#peab330dec1)\">\r\n    <image height=\"218\" id=\"imagec34e99a721\" transform=\"scale(1 -1)translate(0 -218)\" width=\"218\" x=\"34.240625\" xlink:href=\"data:image/png;base64,\r\niVBORw0KGgoAAAANSUhEUgAAANoAAADaCAYAAADAHVzbAAAC5ElEQVR4nO3VMUoDUQBFUScOBETQ2sLViCuwd4H2di5Ki4RATNxCxuL+GM9ZwWsub3q+fT1e/RHH/X70hEWmeR49YZHp8WH0hJO9f7yNnrDIavQA+A+EBgGhQUBoEBAaBIQGAaFBQGgQEBoEhAYBoUFAaBAQGgSEBgGhQUBoEBAaBIQGAaFBQGgQEBoEhAYBoUFAaBAQGgSEBgGhQUBoEBAaBIQGAaFBQGgQEBoEhAYBoUFAaBAQGgSEBgGhQUBoEBAaBIQGAaFBYHqaXo6jR3AeVjc3oyec7LDdjp6wiEeDgNAgIDQICA0CQoOA0CAgNAgIDQJCg4DQICA0CAgNAkKDgNAgIDQICA0CQoOA0CAgNAgIDQJCg4DQICA0CAgNAkKDgNAgIDQICA0CQoOA0CAgNAgIDQJCg4DQICA0CAgNAkKDgNAgIDQICA0CQoOA0CAwjx5wyab1evSERQ6bzegJF8ujQUBoEBAaBIQGAaFBQGgQEBoEhAYBoUFAaBAQGgSEBgGhQUBoEBAaBIQGAaFBQGgQEBoEhAYBoUFAaBAQGgSEBgGhQUBoEBAaBIQGAaFBQGgQEBoEhAYBoUFAaBAQGgSEBgGhQUBoEBAaBIQGAaFBQGgQEBoE5tEDlpjW69ETFjnudqMncCY8GgSEBgGhQUBoEBAaBIQGAaFBQGgQEBoEhAYBoUFAaBAQGgSEBgGhQUBoEBAaBIQGAaFBQGgQEBoEhAYBoUFAaBAQGgSEBgGhQUBoEBAaBIQGAaFBQGgQEBoEhAYBoUFAaBAQGgSEBgGhQUBoEBAaBIQGgfn6/m70hpN9f36NngC/4tEgIDQICA0CQoOA0CAgNAgIDQJCg4DQICA0CAgNAkKDgNAgIDQICA0CQoOA0CAgNAgIDQJCg4DQICA0CAgNAkKDgNAgIDQICA0CQoOA0CAgNAgIDQJCg4DQICA0CAgNAkKDgNAgIDQICA0CQoOA0CAgNAgIDQI/nxgWVXaB3DIAAAAASUVORK5CYII=\" y=\"-17.238438\"/>\r\n   </g>\r\n   <g id=\"matplotlib.axis_1\">\r\n    <g id=\"xtick_1\">\r\n     <g id=\"line2d_1\">\r\n      <defs>\r\n       <path d=\"M 0 0 \r\nL 0 3.5 \r\n\" id=\"m3401f4ce0b\" style=\"stroke:#000000;stroke-width:0.8;\"/>\r\n      </defs>\r\n      <g>\r\n       <use style=\"stroke:#000000;stroke-width:0.8;\" x=\"55.984625\" xlink:href=\"#m3401f4ce0b\" y=\"235.238438\"/>\r\n      </g>\r\n     </g>\r\n     <g id=\"text_1\">\r\n      <!-- 1 -->\r\n      <g transform=\"translate(52.803375 249.836875)scale(0.1 -0.1)\">\r\n       <defs>\r\n        <path d=\"M 12.40625 8.296875 \r\nL 28.515625 8.296875 \r\nL 28.515625 63.921875 \r\nL 10.984375 60.40625 \r\nL 10.984375 69.390625 \r\nL 28.421875 72.90625 \r\nL 38.28125 72.90625 \r\nL 38.28125 8.296875 \r\nL 54.390625 8.296875 \r\nL 54.390625 0 \r\nL 12.40625 0 \r\nz\r\n\" id=\"DejaVuSans-49\"/>\r\n       </defs>\r\n       <use xlink:href=\"#DejaVuSans-49\"/>\r\n      </g>\r\n     </g>\r\n    </g>\r\n    <g id=\"xtick_2\">\r\n     <g id=\"line2d_2\">\r\n      <g>\r\n       <use style=\"stroke:#000000;stroke-width:0.8;\" x=\"99.472625\" xlink:href=\"#m3401f4ce0b\" y=\"235.238438\"/>\r\n      </g>\r\n     </g>\r\n     <g id=\"text_2\">\r\n      <!-- 2 -->\r\n      <g transform=\"translate(96.291375 249.836875)scale(0.1 -0.1)\">\r\n       <defs>\r\n        <path d=\"M 19.1875 8.296875 \r\nL 53.609375 8.296875 \r\nL 53.609375 0 \r\nL 7.328125 0 \r\nL 7.328125 8.296875 \r\nQ 12.9375 14.109375 22.625 23.890625 \r\nQ 32.328125 33.6875 34.8125 36.53125 \r\nQ 39.546875 41.84375 41.421875 45.53125 \r\nQ 43.3125 49.21875 43.3125 52.78125 \r\nQ 43.3125 58.59375 39.234375 62.25 \r\nQ 35.15625 65.921875 28.609375 65.921875 \r\nQ 23.96875 65.921875 18.8125 64.3125 \r\nQ 13.671875 62.703125 7.8125 59.421875 \r\nL 7.8125 69.390625 \r\nQ 13.765625 71.78125 18.9375 73 \r\nQ 24.125 74.21875 28.421875 74.21875 \r\nQ 39.75 74.21875 46.484375 68.546875 \r\nQ 53.21875 62.890625 53.21875 53.421875 \r\nQ 53.21875 48.921875 51.53125 44.890625 \r\nQ 49.859375 40.875 45.40625 35.40625 \r\nQ 44.1875 33.984375 37.640625 27.21875 \r\nQ 31.109375 20.453125 19.1875 8.296875 \r\nz\r\n\" id=\"DejaVuSans-50\"/>\r\n       </defs>\r\n       <use xlink:href=\"#DejaVuSans-50\"/>\r\n      </g>\r\n     </g>\r\n    </g>\r\n    <g id=\"xtick_3\">\r\n     <g id=\"line2d_3\">\r\n      <g>\r\n       <use style=\"stroke:#000000;stroke-width:0.8;\" x=\"142.960625\" xlink:href=\"#m3401f4ce0b\" y=\"235.238438\"/>\r\n      </g>\r\n     </g>\r\n     <g id=\"text_3\">\r\n      <!-- 3 -->\r\n      <g transform=\"translate(139.779375 249.836875)scale(0.1 -0.1)\">\r\n       <defs>\r\n        <path d=\"M 40.578125 39.3125 \r\nQ 47.65625 37.796875 51.625 33 \r\nQ 55.609375 28.21875 55.609375 21.1875 \r\nQ 55.609375 10.40625 48.1875 4.484375 \r\nQ 40.765625 -1.421875 27.09375 -1.421875 \r\nQ 22.515625 -1.421875 17.65625 -0.515625 \r\nQ 12.796875 0.390625 7.625 2.203125 \r\nL 7.625 11.71875 \r\nQ 11.71875 9.328125 16.59375 8.109375 \r\nQ 21.484375 6.890625 26.8125 6.890625 \r\nQ 36.078125 6.890625 40.9375 10.546875 \r\nQ 45.796875 14.203125 45.796875 21.1875 \r\nQ 45.796875 27.640625 41.28125 31.265625 \r\nQ 36.765625 34.90625 28.71875 34.90625 \r\nL 20.21875 34.90625 \r\nL 20.21875 43.015625 \r\nL 29.109375 43.015625 \r\nQ 36.375 43.015625 40.234375 45.921875 \r\nQ 44.09375 48.828125 44.09375 54.296875 \r\nQ 44.09375 59.90625 40.109375 62.90625 \r\nQ 36.140625 65.921875 28.71875 65.921875 \r\nQ 24.65625 65.921875 20.015625 65.03125 \r\nQ 15.375 64.15625 9.8125 62.3125 \r\nL 9.8125 71.09375 \r\nQ 15.4375 72.65625 20.34375 73.4375 \r\nQ 25.25 74.21875 29.59375 74.21875 \r\nQ 40.828125 74.21875 47.359375 69.109375 \r\nQ 53.90625 64.015625 53.90625 55.328125 \r\nQ 53.90625 49.265625 50.4375 45.09375 \r\nQ 46.96875 40.921875 40.578125 39.3125 \r\nz\r\n\" id=\"DejaVuSans-51\"/>\r\n       </defs>\r\n       <use xlink:href=\"#DejaVuSans-51\"/>\r\n      </g>\r\n     </g>\r\n    </g>\r\n    <g id=\"xtick_4\">\r\n     <g id=\"line2d_4\">\r\n      <g>\r\n       <use style=\"stroke:#000000;stroke-width:0.8;\" x=\"186.448625\" xlink:href=\"#m3401f4ce0b\" y=\"235.238438\"/>\r\n      </g>\r\n     </g>\r\n     <g id=\"text_4\">\r\n      <!-- 4 -->\r\n      <g transform=\"translate(183.267375 249.836875)scale(0.1 -0.1)\">\r\n       <defs>\r\n        <path d=\"M 37.796875 64.3125 \r\nL 12.890625 25.390625 \r\nL 37.796875 25.390625 \r\nz\r\nM 35.203125 72.90625 \r\nL 47.609375 72.90625 \r\nL 47.609375 25.390625 \r\nL 58.015625 25.390625 \r\nL 58.015625 17.1875 \r\nL 47.609375 17.1875 \r\nL 47.609375 0 \r\nL 37.796875 0 \r\nL 37.796875 17.1875 \r\nL 4.890625 17.1875 \r\nL 4.890625 26.703125 \r\nz\r\n\" id=\"DejaVuSans-52\"/>\r\n       </defs>\r\n       <use xlink:href=\"#DejaVuSans-52\"/>\r\n      </g>\r\n     </g>\r\n    </g>\r\n    <g id=\"xtick_5\">\r\n     <g id=\"line2d_5\">\r\n      <g>\r\n       <use style=\"stroke:#000000;stroke-width:0.8;\" x=\"229.936625\" xlink:href=\"#m3401f4ce0b\" y=\"235.238438\"/>\r\n      </g>\r\n     </g>\r\n     <g id=\"text_5\">\r\n      <!-- 5 -->\r\n      <g transform=\"translate(226.755375 249.836875)scale(0.1 -0.1)\">\r\n       <defs>\r\n        <path d=\"M 10.796875 72.90625 \r\nL 49.515625 72.90625 \r\nL 49.515625 64.59375 \r\nL 19.828125 64.59375 \r\nL 19.828125 46.734375 \r\nQ 21.96875 47.46875 24.109375 47.828125 \r\nQ 26.265625 48.1875 28.421875 48.1875 \r\nQ 40.625 48.1875 47.75 41.5 \r\nQ 54.890625 34.8125 54.890625 23.390625 \r\nQ 54.890625 11.625 47.5625 5.09375 \r\nQ 40.234375 -1.421875 26.90625 -1.421875 \r\nQ 22.3125 -1.421875 17.546875 -0.640625 \r\nQ 12.796875 0.140625 7.71875 1.703125 \r\nL 7.71875 11.625 \r\nQ 12.109375 9.234375 16.796875 8.0625 \r\nQ 21.484375 6.890625 26.703125 6.890625 \r\nQ 35.15625 6.890625 40.078125 11.328125 \r\nQ 45.015625 15.765625 45.015625 23.390625 \r\nQ 45.015625 31 40.078125 35.4375 \r\nQ 35.15625 39.890625 26.703125 39.890625 \r\nQ 22.75 39.890625 18.8125 39.015625 \r\nQ 14.890625 38.140625 10.796875 36.28125 \r\nz\r\n\" id=\"DejaVuSans-53\"/>\r\n       </defs>\r\n       <use xlink:href=\"#DejaVuSans-53\"/>\r\n      </g>\r\n     </g>\r\n    </g>\r\n    <g id=\"text_6\">\r\n     <!-- Predicted label -->\r\n     <g transform=\"translate(105.808281 263.515)scale(0.1 -0.1)\">\r\n      <defs>\r\n       <path d=\"M 19.671875 64.796875 \r\nL 19.671875 37.40625 \r\nL 32.078125 37.40625 \r\nQ 38.96875 37.40625 42.71875 40.96875 \r\nQ 46.484375 44.53125 46.484375 51.125 \r\nQ 46.484375 57.671875 42.71875 61.234375 \r\nQ 38.96875 64.796875 32.078125 64.796875 \r\nz\r\nM 9.8125 72.90625 \r\nL 32.078125 72.90625 \r\nQ 44.34375 72.90625 50.609375 67.359375 \r\nQ 56.890625 61.8125 56.890625 51.125 \r\nQ 56.890625 40.328125 50.609375 34.8125 \r\nQ 44.34375 29.296875 32.078125 29.296875 \r\nL 19.671875 29.296875 \r\nL 19.671875 0 \r\nL 9.8125 0 \r\nz\r\n\" id=\"DejaVuSans-80\"/>\r\n       <path d=\"M 41.109375 46.296875 \r\nQ 39.59375 47.171875 37.8125 47.578125 \r\nQ 36.03125 48 33.890625 48 \r\nQ 26.265625 48 22.1875 43.046875 \r\nQ 18.109375 38.09375 18.109375 28.8125 \r\nL 18.109375 0 \r\nL 9.078125 0 \r\nL 9.078125 54.6875 \r\nL 18.109375 54.6875 \r\nL 18.109375 46.1875 \r\nQ 20.953125 51.171875 25.484375 53.578125 \r\nQ 30.03125 56 36.53125 56 \r\nQ 37.453125 56 38.578125 55.875 \r\nQ 39.703125 55.765625 41.0625 55.515625 \r\nz\r\n\" id=\"DejaVuSans-114\"/>\r\n       <path d=\"M 56.203125 29.59375 \r\nL 56.203125 25.203125 \r\nL 14.890625 25.203125 \r\nQ 15.484375 15.921875 20.484375 11.0625 \r\nQ 25.484375 6.203125 34.421875 6.203125 \r\nQ 39.59375 6.203125 44.453125 7.46875 \r\nQ 49.3125 8.734375 54.109375 11.28125 \r\nL 54.109375 2.78125 \r\nQ 49.265625 0.734375 44.1875 -0.34375 \r\nQ 39.109375 -1.421875 33.890625 -1.421875 \r\nQ 20.796875 -1.421875 13.15625 6.1875 \r\nQ 5.515625 13.8125 5.515625 26.8125 \r\nQ 5.515625 40.234375 12.765625 48.109375 \r\nQ 20.015625 56 32.328125 56 \r\nQ 43.359375 56 49.78125 48.890625 \r\nQ 56.203125 41.796875 56.203125 29.59375 \r\nz\r\nM 47.21875 32.234375 \r\nQ 47.125 39.59375 43.09375 43.984375 \r\nQ 39.0625 48.390625 32.421875 48.390625 \r\nQ 24.90625 48.390625 20.390625 44.140625 \r\nQ 15.875 39.890625 15.1875 32.171875 \r\nz\r\n\" id=\"DejaVuSans-101\"/>\r\n       <path d=\"M 45.40625 46.390625 \r\nL 45.40625 75.984375 \r\nL 54.390625 75.984375 \r\nL 54.390625 0 \r\nL 45.40625 0 \r\nL 45.40625 8.203125 \r\nQ 42.578125 3.328125 38.25 0.953125 \r\nQ 33.9375 -1.421875 27.875 -1.421875 \r\nQ 17.96875 -1.421875 11.734375 6.484375 \r\nQ 5.515625 14.40625 5.515625 27.296875 \r\nQ 5.515625 40.1875 11.734375 48.09375 \r\nQ 17.96875 56 27.875 56 \r\nQ 33.9375 56 38.25 53.625 \r\nQ 42.578125 51.265625 45.40625 46.390625 \r\nz\r\nM 14.796875 27.296875 \r\nQ 14.796875 17.390625 18.875 11.75 \r\nQ 22.953125 6.109375 30.078125 6.109375 \r\nQ 37.203125 6.109375 41.296875 11.75 \r\nQ 45.40625 17.390625 45.40625 27.296875 \r\nQ 45.40625 37.203125 41.296875 42.84375 \r\nQ 37.203125 48.484375 30.078125 48.484375 \r\nQ 22.953125 48.484375 18.875 42.84375 \r\nQ 14.796875 37.203125 14.796875 27.296875 \r\nz\r\n\" id=\"DejaVuSans-100\"/>\r\n       <path d=\"M 9.421875 54.6875 \r\nL 18.40625 54.6875 \r\nL 18.40625 0 \r\nL 9.421875 0 \r\nz\r\nM 9.421875 75.984375 \r\nL 18.40625 75.984375 \r\nL 18.40625 64.59375 \r\nL 9.421875 64.59375 \r\nz\r\n\" id=\"DejaVuSans-105\"/>\r\n       <path d=\"M 48.78125 52.59375 \r\nL 48.78125 44.1875 \r\nQ 44.96875 46.296875 41.140625 47.34375 \r\nQ 37.3125 48.390625 33.40625 48.390625 \r\nQ 24.65625 48.390625 19.8125 42.84375 \r\nQ 14.984375 37.3125 14.984375 27.296875 \r\nQ 14.984375 17.28125 19.8125 11.734375 \r\nQ 24.65625 6.203125 33.40625 6.203125 \r\nQ 37.3125 6.203125 41.140625 7.25 \r\nQ 44.96875 8.296875 48.78125 10.40625 \r\nL 48.78125 2.09375 \r\nQ 45.015625 0.34375 40.984375 -0.53125 \r\nQ 36.96875 -1.421875 32.421875 -1.421875 \r\nQ 20.0625 -1.421875 12.78125 6.34375 \r\nQ 5.515625 14.109375 5.515625 27.296875 \r\nQ 5.515625 40.671875 12.859375 48.328125 \r\nQ 20.21875 56 33.015625 56 \r\nQ 37.15625 56 41.109375 55.140625 \r\nQ 45.0625 54.296875 48.78125 52.59375 \r\nz\r\n\" id=\"DejaVuSans-99\"/>\r\n       <path d=\"M 18.3125 70.21875 \r\nL 18.3125 54.6875 \r\nL 36.8125 54.6875 \r\nL 36.8125 47.703125 \r\nL 18.3125 47.703125 \r\nL 18.3125 18.015625 \r\nQ 18.3125 11.328125 20.140625 9.421875 \r\nQ 21.96875 7.515625 27.59375 7.515625 \r\nL 36.8125 7.515625 \r\nL 36.8125 0 \r\nL 27.59375 0 \r\nQ 17.1875 0 13.234375 3.875 \r\nQ 9.28125 7.765625 9.28125 18.015625 \r\nL 9.28125 47.703125 \r\nL 2.6875 47.703125 \r\nL 2.6875 54.6875 \r\nL 9.28125 54.6875 \r\nL 9.28125 70.21875 \r\nz\r\n\" id=\"DejaVuSans-116\"/>\r\n       <path id=\"DejaVuSans-32\"/>\r\n       <path d=\"M 9.421875 75.984375 \r\nL 18.40625 75.984375 \r\nL 18.40625 0 \r\nL 9.421875 0 \r\nz\r\n\" id=\"DejaVuSans-108\"/>\r\n       <path d=\"M 34.28125 27.484375 \r\nQ 23.390625 27.484375 19.1875 25 \r\nQ 14.984375 22.515625 14.984375 16.5 \r\nQ 14.984375 11.71875 18.140625 8.90625 \r\nQ 21.296875 6.109375 26.703125 6.109375 \r\nQ 34.1875 6.109375 38.703125 11.40625 \r\nQ 43.21875 16.703125 43.21875 25.484375 \r\nL 43.21875 27.484375 \r\nz\r\nM 52.203125 31.203125 \r\nL 52.203125 0 \r\nL 43.21875 0 \r\nL 43.21875 8.296875 \r\nQ 40.140625 3.328125 35.546875 0.953125 \r\nQ 30.953125 -1.421875 24.3125 -1.421875 \r\nQ 15.921875 -1.421875 10.953125 3.296875 \r\nQ 6 8.015625 6 15.921875 \r\nQ 6 25.140625 12.171875 29.828125 \r\nQ 18.359375 34.515625 30.609375 34.515625 \r\nL 43.21875 34.515625 \r\nL 43.21875 35.40625 \r\nQ 43.21875 41.609375 39.140625 45 \r\nQ 35.0625 48.390625 27.6875 48.390625 \r\nQ 23 48.390625 18.546875 47.265625 \r\nQ 14.109375 46.140625 10.015625 43.890625 \r\nL 10.015625 52.203125 \r\nQ 14.9375 54.109375 19.578125 55.046875 \r\nQ 24.21875 56 28.609375 56 \r\nQ 40.484375 56 46.34375 49.84375 \r\nQ 52.203125 43.703125 52.203125 31.203125 \r\nz\r\n\" id=\"DejaVuSans-97\"/>\r\n       <path d=\"M 48.6875 27.296875 \r\nQ 48.6875 37.203125 44.609375 42.84375 \r\nQ 40.53125 48.484375 33.40625 48.484375 \r\nQ 26.265625 48.484375 22.1875 42.84375 \r\nQ 18.109375 37.203125 18.109375 27.296875 \r\nQ 18.109375 17.390625 22.1875 11.75 \r\nQ 26.265625 6.109375 33.40625 6.109375 \r\nQ 40.53125 6.109375 44.609375 11.75 \r\nQ 48.6875 17.390625 48.6875 27.296875 \r\nz\r\nM 18.109375 46.390625 \r\nQ 20.953125 51.265625 25.265625 53.625 \r\nQ 29.59375 56 35.59375 56 \r\nQ 45.5625 56 51.78125 48.09375 \r\nQ 58.015625 40.1875 58.015625 27.296875 \r\nQ 58.015625 14.40625 51.78125 6.484375 \r\nQ 45.5625 -1.421875 35.59375 -1.421875 \r\nQ 29.59375 -1.421875 25.265625 0.953125 \r\nQ 20.953125 3.328125 18.109375 8.203125 \r\nL 18.109375 0 \r\nL 9.078125 0 \r\nL 9.078125 75.984375 \r\nL 18.109375 75.984375 \r\nz\r\n\" id=\"DejaVuSans-98\"/>\r\n      </defs>\r\n      <use xlink:href=\"#DejaVuSans-80\"/>\r\n      <use x=\"58.552734\" xlink:href=\"#DejaVuSans-114\"/>\r\n      <use x=\"97.416016\" xlink:href=\"#DejaVuSans-101\"/>\r\n      <use x=\"158.939453\" xlink:href=\"#DejaVuSans-100\"/>\r\n      <use x=\"222.416016\" xlink:href=\"#DejaVuSans-105\"/>\r\n      <use x=\"250.199219\" xlink:href=\"#DejaVuSans-99\"/>\r\n      <use x=\"305.179688\" xlink:href=\"#DejaVuSans-116\"/>\r\n      <use x=\"344.388672\" xlink:href=\"#DejaVuSans-101\"/>\r\n      <use x=\"405.912109\" xlink:href=\"#DejaVuSans-100\"/>\r\n      <use x=\"469.388672\" xlink:href=\"#DejaVuSans-32\"/>\r\n      <use x=\"501.175781\" xlink:href=\"#DejaVuSans-108\"/>\r\n      <use x=\"528.958984\" xlink:href=\"#DejaVuSans-97\"/>\r\n      <use x=\"590.238281\" xlink:href=\"#DejaVuSans-98\"/>\r\n      <use x=\"653.714844\" xlink:href=\"#DejaVuSans-101\"/>\r\n      <use x=\"715.238281\" xlink:href=\"#DejaVuSans-108\"/>\r\n     </g>\r\n    </g>\r\n   </g>\r\n   <g id=\"matplotlib.axis_2\">\r\n    <g id=\"ytick_1\">\r\n     <g id=\"line2d_6\">\r\n      <defs>\r\n       <path d=\"M 0 0 \r\nL -3.5 0 \r\n\" id=\"mb192d2ab19\" style=\"stroke:#000000;stroke-width:0.8;\"/>\r\n      </defs>\r\n      <g>\r\n       <use style=\"stroke:#000000;stroke-width:0.8;\" x=\"34.240625\" xlink:href=\"#mb192d2ab19\" y=\"39.542438\"/>\r\n      </g>\r\n     </g>\r\n     <g id=\"text_7\">\r\n      <!-- 1 -->\r\n      <g transform=\"translate(20.878125 43.341656)scale(0.1 -0.1)\">\r\n       <use xlink:href=\"#DejaVuSans-49\"/>\r\n      </g>\r\n     </g>\r\n    </g>\r\n    <g id=\"ytick_2\">\r\n     <g id=\"line2d_7\">\r\n      <g>\r\n       <use style=\"stroke:#000000;stroke-width:0.8;\" x=\"34.240625\" xlink:href=\"#mb192d2ab19\" y=\"83.030438\"/>\r\n      </g>\r\n     </g>\r\n     <g id=\"text_8\">\r\n      <!-- 2 -->\r\n      <g transform=\"translate(20.878125 86.829656)scale(0.1 -0.1)\">\r\n       <use xlink:href=\"#DejaVuSans-50\"/>\r\n      </g>\r\n     </g>\r\n    </g>\r\n    <g id=\"ytick_3\">\r\n     <g id=\"line2d_8\">\r\n      <g>\r\n       <use style=\"stroke:#000000;stroke-width:0.8;\" x=\"34.240625\" xlink:href=\"#mb192d2ab19\" y=\"126.518438\"/>\r\n      </g>\r\n     </g>\r\n     <g id=\"text_9\">\r\n      <!-- 3 -->\r\n      <g transform=\"translate(20.878125 130.317656)scale(0.1 -0.1)\">\r\n       <use xlink:href=\"#DejaVuSans-51\"/>\r\n      </g>\r\n     </g>\r\n    </g>\r\n    <g id=\"ytick_4\">\r\n     <g id=\"line2d_9\">\r\n      <g>\r\n       <use style=\"stroke:#000000;stroke-width:0.8;\" x=\"34.240625\" xlink:href=\"#mb192d2ab19\" y=\"170.006438\"/>\r\n      </g>\r\n     </g>\r\n     <g id=\"text_10\">\r\n      <!-- 4 -->\r\n      <g transform=\"translate(20.878125 173.805656)scale(0.1 -0.1)\">\r\n       <use xlink:href=\"#DejaVuSans-52\"/>\r\n      </g>\r\n     </g>\r\n    </g>\r\n    <g id=\"ytick_5\">\r\n     <g id=\"line2d_10\">\r\n      <g>\r\n       <use style=\"stroke:#000000;stroke-width:0.8;\" x=\"34.240625\" xlink:href=\"#mb192d2ab19\" y=\"213.494438\"/>\r\n      </g>\r\n     </g>\r\n     <g id=\"text_11\">\r\n      <!-- 5 -->\r\n      <g transform=\"translate(20.878125 217.293656)scale(0.1 -0.1)\">\r\n       <use xlink:href=\"#DejaVuSans-53\"/>\r\n      </g>\r\n     </g>\r\n    </g>\r\n    <g id=\"text_12\">\r\n     <!-- True label -->\r\n     <g transform=\"translate(14.798437 150.817656)rotate(-90)scale(0.1 -0.1)\">\r\n      <defs>\r\n       <path d=\"M -0.296875 72.90625 \r\nL 61.375 72.90625 \r\nL 61.375 64.59375 \r\nL 35.5 64.59375 \r\nL 35.5 0 \r\nL 25.59375 0 \r\nL 25.59375 64.59375 \r\nL -0.296875 64.59375 \r\nz\r\n\" id=\"DejaVuSans-84\"/>\r\n       <path d=\"M 8.5 21.578125 \r\nL 8.5 54.6875 \r\nL 17.484375 54.6875 \r\nL 17.484375 21.921875 \r\nQ 17.484375 14.15625 20.5 10.265625 \r\nQ 23.53125 6.390625 29.59375 6.390625 \r\nQ 36.859375 6.390625 41.078125 11.03125 \r\nQ 45.3125 15.671875 45.3125 23.6875 \r\nL 45.3125 54.6875 \r\nL 54.296875 54.6875 \r\nL 54.296875 0 \r\nL 45.3125 0 \r\nL 45.3125 8.40625 \r\nQ 42.046875 3.421875 37.71875 1 \r\nQ 33.40625 -1.421875 27.6875 -1.421875 \r\nQ 18.265625 -1.421875 13.375 4.4375 \r\nQ 8.5 10.296875 8.5 21.578125 \r\nz\r\nM 31.109375 56 \r\nz\r\n\" id=\"DejaVuSans-117\"/>\r\n      </defs>\r\n      <use xlink:href=\"#DejaVuSans-84\"/>\r\n      <use x=\"46.333984\" xlink:href=\"#DejaVuSans-114\"/>\r\n      <use x=\"87.447266\" xlink:href=\"#DejaVuSans-117\"/>\r\n      <use x=\"150.826172\" xlink:href=\"#DejaVuSans-101\"/>\r\n      <use x=\"212.349609\" xlink:href=\"#DejaVuSans-32\"/>\r\n      <use x=\"244.136719\" xlink:href=\"#DejaVuSans-108\"/>\r\n      <use x=\"271.919922\" xlink:href=\"#DejaVuSans-97\"/>\r\n      <use x=\"333.199219\" xlink:href=\"#DejaVuSans-98\"/>\r\n      <use x=\"396.675781\" xlink:href=\"#DejaVuSans-101\"/>\r\n      <use x=\"458.199219\" xlink:href=\"#DejaVuSans-108\"/>\r\n     </g>\r\n    </g>\r\n   </g>\r\n   <g id=\"patch_3\">\r\n    <path d=\"M 34.240625 235.238438 \r\nL 34.240625 17.798438 \r\n\" style=\"fill:none;stroke:#000000;stroke-linecap:square;stroke-linejoin:miter;stroke-width:0.8;\"/>\r\n   </g>\r\n   <g id=\"patch_4\">\r\n    <path d=\"M 251.680625 235.238438 \r\nL 251.680625 17.798438 \r\n\" style=\"fill:none;stroke:#000000;stroke-linecap:square;stroke-linejoin:miter;stroke-width:0.8;\"/>\r\n   </g>\r\n   <g id=\"patch_5\">\r\n    <path d=\"M 34.240625 235.238438 \r\nL 251.680625 235.238438 \r\n\" style=\"fill:none;stroke:#000000;stroke-linecap:square;stroke-linejoin:miter;stroke-width:0.8;\"/>\r\n   </g>\r\n   <g id=\"patch_6\">\r\n    <path d=\"M 34.240625 17.798438 \r\nL 251.680625 17.798438 \r\n\" style=\"fill:none;stroke:#000000;stroke-linecap:square;stroke-linejoin:miter;stroke-width:0.8;\"/>\r\n   </g>\r\n   <g id=\"text_13\">\r\n    <!-- 49428 -->\r\n    <g style=\"fill:#fde725;\" transform=\"translate(40.078375 42.301813)scale(0.1 -0.1)\">\r\n     <defs>\r\n      <path d=\"M 10.984375 1.515625 \r\nL 10.984375 10.5 \r\nQ 14.703125 8.734375 18.5 7.8125 \r\nQ 22.3125 6.890625 25.984375 6.890625 \r\nQ 35.75 6.890625 40.890625 13.453125 \r\nQ 46.046875 20.015625 46.78125 33.40625 \r\nQ 43.953125 29.203125 39.59375 26.953125 \r\nQ 35.25 24.703125 29.984375 24.703125 \r\nQ 19.046875 24.703125 12.671875 31.3125 \r\nQ 6.296875 37.9375 6.296875 49.421875 \r\nQ 6.296875 60.640625 12.9375 67.421875 \r\nQ 19.578125 74.21875 30.609375 74.21875 \r\nQ 43.265625 74.21875 49.921875 64.515625 \r\nQ 56.59375 54.828125 56.59375 36.375 \r\nQ 56.59375 19.140625 48.40625 8.859375 \r\nQ 40.234375 -1.421875 26.421875 -1.421875 \r\nQ 22.703125 -1.421875 18.890625 -0.6875 \r\nQ 15.09375 0.046875 10.984375 1.515625 \r\nz\r\nM 30.609375 32.421875 \r\nQ 37.25 32.421875 41.125 36.953125 \r\nQ 45.015625 41.5 45.015625 49.421875 \r\nQ 45.015625 57.28125 41.125 61.84375 \r\nQ 37.25 66.40625 30.609375 66.40625 \r\nQ 23.96875 66.40625 20.09375 61.84375 \r\nQ 16.21875 57.28125 16.21875 49.421875 \r\nQ 16.21875 41.5 20.09375 36.953125 \r\nQ 23.96875 32.421875 30.609375 32.421875 \r\nz\r\n\" id=\"DejaVuSans-57\"/>\r\n      <path d=\"M 31.78125 34.625 \r\nQ 24.75 34.625 20.71875 30.859375 \r\nQ 16.703125 27.09375 16.703125 20.515625 \r\nQ 16.703125 13.921875 20.71875 10.15625 \r\nQ 24.75 6.390625 31.78125 6.390625 \r\nQ 38.8125 6.390625 42.859375 10.171875 \r\nQ 46.921875 13.96875 46.921875 20.515625 \r\nQ 46.921875 27.09375 42.890625 30.859375 \r\nQ 38.875 34.625 31.78125 34.625 \r\nz\r\nM 21.921875 38.8125 \r\nQ 15.578125 40.375 12.03125 44.71875 \r\nQ 8.5 49.078125 8.5 55.328125 \r\nQ 8.5 64.0625 14.71875 69.140625 \r\nQ 20.953125 74.21875 31.78125 74.21875 \r\nQ 42.671875 74.21875 48.875 69.140625 \r\nQ 55.078125 64.0625 55.078125 55.328125 \r\nQ 55.078125 49.078125 51.53125 44.71875 \r\nQ 48 40.375 41.703125 38.8125 \r\nQ 48.828125 37.15625 52.796875 32.3125 \r\nQ 56.78125 27.484375 56.78125 20.515625 \r\nQ 56.78125 9.90625 50.3125 4.234375 \r\nQ 43.84375 -1.421875 31.78125 -1.421875 \r\nQ 19.734375 -1.421875 13.25 4.234375 \r\nQ 6.78125 9.90625 6.78125 20.515625 \r\nQ 6.78125 27.484375 10.78125 32.3125 \r\nQ 14.796875 37.15625 21.921875 38.8125 \r\nz\r\nM 18.3125 54.390625 \r\nQ 18.3125 48.734375 21.84375 45.5625 \r\nQ 25.390625 42.390625 31.78125 42.390625 \r\nQ 38.140625 42.390625 41.71875 45.5625 \r\nQ 45.3125 48.734375 45.3125 54.390625 \r\nQ 45.3125 60.0625 41.71875 63.234375 \r\nQ 38.140625 66.40625 31.78125 66.40625 \r\nQ 25.390625 66.40625 21.84375 63.234375 \r\nQ 18.3125 60.0625 18.3125 54.390625 \r\nz\r\n\" id=\"DejaVuSans-56\"/>\r\n     </defs>\r\n     <use xlink:href=\"#DejaVuSans-52\"/>\r\n     <use x=\"63.623047\" xlink:href=\"#DejaVuSans-57\"/>\r\n     <use x=\"127.246094\" xlink:href=\"#DejaVuSans-52\"/>\r\n     <use x=\"190.869141\" xlink:href=\"#DejaVuSans-50\"/>\r\n     <use x=\"254.492188\" xlink:href=\"#DejaVuSans-56\"/>\r\n    </g>\r\n   </g>\r\n   <g id=\"text_14\">\r\n    <!-- 4778 -->\r\n    <g style=\"fill:#fde725;\" transform=\"translate(86.747625 42.301813)scale(0.1 -0.1)\">\r\n     <defs>\r\n      <path d=\"M 8.203125 72.90625 \r\nL 55.078125 72.90625 \r\nL 55.078125 68.703125 \r\nL 28.609375 0 \r\nL 18.3125 0 \r\nL 43.21875 64.59375 \r\nL 8.203125 64.59375 \r\nz\r\n\" id=\"DejaVuSans-55\"/>\r\n     </defs>\r\n     <use xlink:href=\"#DejaVuSans-52\"/>\r\n     <use x=\"63.623047\" xlink:href=\"#DejaVuSans-55\"/>\r\n     <use x=\"127.246094\" xlink:href=\"#DejaVuSans-55\"/>\r\n     <use x=\"190.869141\" xlink:href=\"#DejaVuSans-56\"/>\r\n    </g>\r\n   </g>\r\n   <g id=\"text_15\">\r\n    <!-- 3335 -->\r\n    <g style=\"fill:#fde725;\" transform=\"translate(130.235625 42.301813)scale(0.1 -0.1)\">\r\n     <use xlink:href=\"#DejaVuSans-51\"/>\r\n     <use x=\"63.623047\" xlink:href=\"#DejaVuSans-51\"/>\r\n     <use x=\"127.246094\" xlink:href=\"#DejaVuSans-51\"/>\r\n     <use x=\"190.869141\" xlink:href=\"#DejaVuSans-53\"/>\r\n    </g>\r\n   </g>\r\n   <g id=\"text_16\">\r\n    <!-- 1498 -->\r\n    <g style=\"fill:#fde725;\" transform=\"translate(173.723625 42.301813)scale(0.1 -0.1)\">\r\n     <use xlink:href=\"#DejaVuSans-49\"/>\r\n     <use x=\"63.623047\" xlink:href=\"#DejaVuSans-52\"/>\r\n     <use x=\"127.246094\" xlink:href=\"#DejaVuSans-57\"/>\r\n     <use x=\"190.869141\" xlink:href=\"#DejaVuSans-56\"/>\r\n    </g>\r\n   </g>\r\n   <g id=\"text_17\">\r\n    <!-- 1342 -->\r\n    <g style=\"fill:#fde725;\" transform=\"translate(217.211625 42.301813)scale(0.1 -0.1)\">\r\n     <use xlink:href=\"#DejaVuSans-49\"/>\r\n     <use x=\"63.623047\" xlink:href=\"#DejaVuSans-51\"/>\r\n     <use x=\"127.246094\" xlink:href=\"#DejaVuSans-52\"/>\r\n     <use x=\"190.869141\" xlink:href=\"#DejaVuSans-50\"/>\r\n    </g>\r\n   </g>\r\n   <g id=\"text_18\">\r\n    <!-- 1936 -->\r\n    <g style=\"fill:#fde725;\" transform=\"translate(43.259625 85.789813)scale(0.1 -0.1)\">\r\n     <defs>\r\n      <path d=\"M 33.015625 40.375 \r\nQ 26.375 40.375 22.484375 35.828125 \r\nQ 18.609375 31.296875 18.609375 23.390625 \r\nQ 18.609375 15.53125 22.484375 10.953125 \r\nQ 26.375 6.390625 33.015625 6.390625 \r\nQ 39.65625 6.390625 43.53125 10.953125 \r\nQ 47.40625 15.53125 47.40625 23.390625 \r\nQ 47.40625 31.296875 43.53125 35.828125 \r\nQ 39.65625 40.375 33.015625 40.375 \r\nz\r\nM 52.59375 71.296875 \r\nL 52.59375 62.3125 \r\nQ 48.875 64.0625 45.09375 64.984375 \r\nQ 41.3125 65.921875 37.59375 65.921875 \r\nQ 27.828125 65.921875 22.671875 59.328125 \r\nQ 17.53125 52.734375 16.796875 39.40625 \r\nQ 19.671875 43.65625 24.015625 45.921875 \r\nQ 28.375 48.1875 33.59375 48.1875 \r\nQ 44.578125 48.1875 50.953125 41.515625 \r\nQ 57.328125 34.859375 57.328125 23.390625 \r\nQ 57.328125 12.15625 50.6875 5.359375 \r\nQ 44.046875 -1.421875 33.015625 -1.421875 \r\nQ 20.359375 -1.421875 13.671875 8.265625 \r\nQ 6.984375 17.96875 6.984375 36.375 \r\nQ 6.984375 53.65625 15.1875 63.9375 \r\nQ 23.390625 74.21875 37.203125 74.21875 \r\nQ 40.921875 74.21875 44.703125 73.484375 \r\nQ 48.484375 72.75 52.59375 71.296875 \r\nz\r\n\" id=\"DejaVuSans-54\"/>\r\n     </defs>\r\n     <use xlink:href=\"#DejaVuSans-49\"/>\r\n     <use x=\"63.623047\" xlink:href=\"#DejaVuSans-57\"/>\r\n     <use x=\"127.246094\" xlink:href=\"#DejaVuSans-51\"/>\r\n     <use x=\"190.869141\" xlink:href=\"#DejaVuSans-54\"/>\r\n    </g>\r\n   </g>\r\n   <g id=\"text_19\">\r\n    <!-- 20854 -->\r\n    <g style=\"fill:#fde725;\" transform=\"translate(83.566375 85.789813)scale(0.1 -0.1)\">\r\n     <defs>\r\n      <path d=\"M 31.78125 66.40625 \r\nQ 24.171875 66.40625 20.328125 58.90625 \r\nQ 16.5 51.421875 16.5 36.375 \r\nQ 16.5 21.390625 20.328125 13.890625 \r\nQ 24.171875 6.390625 31.78125 6.390625 \r\nQ 39.453125 6.390625 43.28125 13.890625 \r\nQ 47.125 21.390625 47.125 36.375 \r\nQ 47.125 51.421875 43.28125 58.90625 \r\nQ 39.453125 66.40625 31.78125 66.40625 \r\nz\r\nM 31.78125 74.21875 \r\nQ 44.046875 74.21875 50.515625 64.515625 \r\nQ 56.984375 54.828125 56.984375 36.375 \r\nQ 56.984375 17.96875 50.515625 8.265625 \r\nQ 44.046875 -1.421875 31.78125 -1.421875 \r\nQ 19.53125 -1.421875 13.0625 8.265625 \r\nQ 6.59375 17.96875 6.59375 36.375 \r\nQ 6.59375 54.828125 13.0625 64.515625 \r\nQ 19.53125 74.21875 31.78125 74.21875 \r\nz\r\n\" id=\"DejaVuSans-48\"/>\r\n     </defs>\r\n     <use xlink:href=\"#DejaVuSans-50\"/>\r\n     <use x=\"63.623047\" xlink:href=\"#DejaVuSans-48\"/>\r\n     <use x=\"127.246094\" xlink:href=\"#DejaVuSans-56\"/>\r\n     <use x=\"190.869141\" xlink:href=\"#DejaVuSans-53\"/>\r\n     <use x=\"254.492188\" xlink:href=\"#DejaVuSans-52\"/>\r\n    </g>\r\n   </g>\r\n   <g id=\"text_20\">\r\n    <!-- 1711 -->\r\n    <g style=\"fill:#fde725;\" transform=\"translate(130.235625 85.789813)scale(0.1 -0.1)\">\r\n     <use xlink:href=\"#DejaVuSans-49\"/>\r\n     <use x=\"63.623047\" xlink:href=\"#DejaVuSans-55\"/>\r\n     <use x=\"127.246094\" xlink:href=\"#DejaVuSans-49\"/>\r\n     <use x=\"190.869141\" xlink:href=\"#DejaVuSans-49\"/>\r\n    </g>\r\n   </g>\r\n   <g id=\"text_21\">\r\n    <!-- 572 -->\r\n    <g style=\"fill:#fde725;\" transform=\"translate(176.904875 85.789813)scale(0.1 -0.1)\">\r\n     <use xlink:href=\"#DejaVuSans-53\"/>\r\n     <use x=\"63.623047\" xlink:href=\"#DejaVuSans-55\"/>\r\n     <use x=\"127.246094\" xlink:href=\"#DejaVuSans-50\"/>\r\n    </g>\r\n   </g>\r\n   <g id=\"text_22\">\r\n    <!-- 346 -->\r\n    <g style=\"fill:#fde725;\" transform=\"translate(220.392875 85.789813)scale(0.1 -0.1)\">\r\n     <use xlink:href=\"#DejaVuSans-51\"/>\r\n     <use x=\"63.623047\" xlink:href=\"#DejaVuSans-52\"/>\r\n     <use x=\"127.246094\" xlink:href=\"#DejaVuSans-54\"/>\r\n    </g>\r\n   </g>\r\n   <g id=\"text_23\">\r\n    <!-- 1493 -->\r\n    <g style=\"fill:#fde725;\" transform=\"translate(43.259625 129.277813)scale(0.1 -0.1)\">\r\n     <use xlink:href=\"#DejaVuSans-49\"/>\r\n     <use x=\"63.623047\" xlink:href=\"#DejaVuSans-52\"/>\r\n     <use x=\"127.246094\" xlink:href=\"#DejaVuSans-57\"/>\r\n     <use x=\"190.869141\" xlink:href=\"#DejaVuSans-51\"/>\r\n    </g>\r\n   </g>\r\n   <g id=\"text_24\">\r\n    <!-- 1878 -->\r\n    <g style=\"fill:#fde725;\" transform=\"translate(86.747625 129.277813)scale(0.1 -0.1)\">\r\n     <use xlink:href=\"#DejaVuSans-49\"/>\r\n     <use x=\"63.623047\" xlink:href=\"#DejaVuSans-56\"/>\r\n     <use x=\"127.246094\" xlink:href=\"#DejaVuSans-55\"/>\r\n     <use x=\"190.869141\" xlink:href=\"#DejaVuSans-56\"/>\r\n    </g>\r\n   </g>\r\n   <g id=\"text_25\">\r\n    <!-- 23304 -->\r\n    <g style=\"fill:#fde725;\" transform=\"translate(127.054375 129.277813)scale(0.1 -0.1)\">\r\n     <use xlink:href=\"#DejaVuSans-50\"/>\r\n     <use x=\"63.623047\" xlink:href=\"#DejaVuSans-51\"/>\r\n     <use x=\"127.246094\" xlink:href=\"#DejaVuSans-51\"/>\r\n     <use x=\"190.869141\" xlink:href=\"#DejaVuSans-48\"/>\r\n     <use x=\"254.492188\" xlink:href=\"#DejaVuSans-52\"/>\r\n    </g>\r\n   </g>\r\n   <g id=\"text_26\">\r\n    <!-- 1557 -->\r\n    <g style=\"fill:#fde725;\" transform=\"translate(173.723625 129.277813)scale(0.1 -0.1)\">\r\n     <use xlink:href=\"#DejaVuSans-49\"/>\r\n     <use x=\"63.623047\" xlink:href=\"#DejaVuSans-53\"/>\r\n     <use x=\"127.246094\" xlink:href=\"#DejaVuSans-53\"/>\r\n     <use x=\"190.869141\" xlink:href=\"#DejaVuSans-55\"/>\r\n    </g>\r\n   </g>\r\n   <g id=\"text_27\">\r\n    <!-- 774 -->\r\n    <g style=\"fill:#fde725;\" transform=\"translate(220.392875 129.277813)scale(0.1 -0.1)\">\r\n     <use xlink:href=\"#DejaVuSans-55\"/>\r\n     <use x=\"63.623047\" xlink:href=\"#DejaVuSans-55\"/>\r\n     <use x=\"127.246094\" xlink:href=\"#DejaVuSans-52\"/>\r\n    </g>\r\n   </g>\r\n   <g id=\"text_28\">\r\n    <!-- 1082 -->\r\n    <g style=\"fill:#fde725;\" transform=\"translate(43.259625 172.765813)scale(0.1 -0.1)\">\r\n     <use xlink:href=\"#DejaVuSans-49\"/>\r\n     <use x=\"63.623047\" xlink:href=\"#DejaVuSans-48\"/>\r\n     <use x=\"127.246094\" xlink:href=\"#DejaVuSans-56\"/>\r\n     <use x=\"190.869141\" xlink:href=\"#DejaVuSans-50\"/>\r\n    </g>\r\n   </g>\r\n   <g id=\"text_29\">\r\n    <!-- 1185 -->\r\n    <g style=\"fill:#fde725;\" transform=\"translate(86.747625 172.765813)scale(0.1 -0.1)\">\r\n     <use xlink:href=\"#DejaVuSans-49\"/>\r\n     <use x=\"63.623047\" xlink:href=\"#DejaVuSans-49\"/>\r\n     <use x=\"127.246094\" xlink:href=\"#DejaVuSans-56\"/>\r\n     <use x=\"190.869141\" xlink:href=\"#DejaVuSans-53\"/>\r\n    </g>\r\n   </g>\r\n   <g id=\"text_30\">\r\n    <!-- 2724 -->\r\n    <g style=\"fill:#fde725;\" transform=\"translate(130.235625 172.765813)scale(0.1 -0.1)\">\r\n     <use xlink:href=\"#DejaVuSans-50\"/>\r\n     <use x=\"63.623047\" xlink:href=\"#DejaVuSans-55\"/>\r\n     <use x=\"127.246094\" xlink:href=\"#DejaVuSans-50\"/>\r\n     <use x=\"190.869141\" xlink:href=\"#DejaVuSans-52\"/>\r\n    </g>\r\n   </g>\r\n   <g id=\"text_31\">\r\n    <!-- 31924 -->\r\n    <g style=\"fill:#fde725;\" transform=\"translate(170.542375 172.765813)scale(0.1 -0.1)\">\r\n     <use xlink:href=\"#DejaVuSans-51\"/>\r\n     <use x=\"63.623047\" xlink:href=\"#DejaVuSans-49\"/>\r\n     <use x=\"127.246094\" xlink:href=\"#DejaVuSans-57\"/>\r\n     <use x=\"190.869141\" xlink:href=\"#DejaVuSans-50\"/>\r\n     <use x=\"254.492188\" xlink:href=\"#DejaVuSans-52\"/>\r\n    </g>\r\n   </g>\r\n   <g id=\"text_32\">\r\n    <!-- 4716 -->\r\n    <g style=\"fill:#fde725;\" transform=\"translate(217.211625 172.765813)scale(0.1 -0.1)\">\r\n     <use xlink:href=\"#DejaVuSans-52\"/>\r\n     <use x=\"63.623047\" xlink:href=\"#DejaVuSans-55\"/>\r\n     <use x=\"127.246094\" xlink:href=\"#DejaVuSans-49\"/>\r\n     <use x=\"190.869141\" xlink:href=\"#DejaVuSans-54\"/>\r\n    </g>\r\n   </g>\r\n   <g id=\"text_33\">\r\n    <!-- 36741 -->\r\n    <g style=\"fill:#fde725;\" transform=\"translate(40.078375 216.253813)scale(0.1 -0.1)\">\r\n     <use xlink:href=\"#DejaVuSans-51\"/>\r\n     <use x=\"63.623047\" xlink:href=\"#DejaVuSans-54\"/>\r\n     <use x=\"127.246094\" xlink:href=\"#DejaVuSans-55\"/>\r\n     <use x=\"190.869141\" xlink:href=\"#DejaVuSans-52\"/>\r\n     <use x=\"254.492188\" xlink:href=\"#DejaVuSans-49\"/>\r\n    </g>\r\n   </g>\r\n   <g id=\"text_34\">\r\n    <!-- 22659 -->\r\n    <g style=\"fill:#fde725;\" transform=\"translate(83.566375 216.253813)scale(0.1 -0.1)\">\r\n     <use xlink:href=\"#DejaVuSans-50\"/>\r\n     <use x=\"63.623047\" xlink:href=\"#DejaVuSans-50\"/>\r\n     <use x=\"127.246094\" xlink:href=\"#DejaVuSans-54\"/>\r\n     <use x=\"190.869141\" xlink:href=\"#DejaVuSans-53\"/>\r\n     <use x=\"254.492188\" xlink:href=\"#DejaVuSans-57\"/>\r\n    </g>\r\n   </g>\r\n   <g id=\"text_35\">\r\n    <!-- 35493 -->\r\n    <g style=\"fill:#fde725;\" transform=\"translate(127.054375 216.253813)scale(0.1 -0.1)\">\r\n     <use xlink:href=\"#DejaVuSans-51\"/>\r\n     <use x=\"63.623047\" xlink:href=\"#DejaVuSans-53\"/>\r\n     <use x=\"127.246094\" xlink:href=\"#DejaVuSans-52\"/>\r\n     <use x=\"190.869141\" xlink:href=\"#DejaVuSans-57\"/>\r\n     <use x=\"254.492188\" xlink:href=\"#DejaVuSans-51\"/>\r\n    </g>\r\n   </g>\r\n   <g id=\"text_36\">\r\n    <!-- 123260 -->\r\n    <g style=\"fill:#fde725;\" transform=\"translate(167.361125 216.253813)scale(0.1 -0.1)\">\r\n     <use xlink:href=\"#DejaVuSans-49\"/>\r\n     <use x=\"63.623047\" xlink:href=\"#DejaVuSans-50\"/>\r\n     <use x=\"127.246094\" xlink:href=\"#DejaVuSans-51\"/>\r\n     <use x=\"190.869141\" xlink:href=\"#DejaVuSans-50\"/>\r\n     <use x=\"254.492188\" xlink:href=\"#DejaVuSans-54\"/>\r\n     <use x=\"318.115234\" xlink:href=\"#DejaVuSans-48\"/>\r\n    </g>\r\n   </g>\r\n   <g id=\"text_37\">\r\n    <!-- 1e+06 -->\r\n    <g style=\"fill:#440154;\" transform=\"translate(213.126469 216.253813)scale(0.1 -0.1)\">\r\n     <defs>\r\n      <path d=\"M 46 62.703125 \r\nL 46 35.5 \r\nL 73.1875 35.5 \r\nL 73.1875 27.203125 \r\nL 46 27.203125 \r\nL 46 0 \r\nL 37.796875 0 \r\nL 37.796875 27.203125 \r\nL 10.59375 27.203125 \r\nL 10.59375 35.5 \r\nL 37.796875 35.5 \r\nL 37.796875 62.703125 \r\nz\r\n\" id=\"DejaVuSans-43\"/>\r\n     </defs>\r\n     <use xlink:href=\"#DejaVuSans-49\"/>\r\n     <use x=\"63.623047\" xlink:href=\"#DejaVuSans-101\"/>\r\n     <use x=\"125.146484\" xlink:href=\"#DejaVuSans-43\"/>\r\n     <use x=\"208.935547\" xlink:href=\"#DejaVuSans-48\"/>\r\n     <use x=\"272.558594\" xlink:href=\"#DejaVuSans-54\"/>\r\n    </g>\r\n   </g>\r\n  </g>\r\n  <g id=\"axes_2\">\r\n   <g id=\"patch_7\">\r\n    <path clip-path=\"url(#p6efe640a6c)\" d=\"M 268.420625 235.238437 \r\nL 268.420625 234.389062 \r\nL 268.420625 18.647812 \r\nL 268.420625 17.798438 \r\nL 279.292625 17.798438 \r\nL 279.292625 18.647812 \r\nL 279.292625 234.389062 \r\nL 279.292625 235.238437 \r\nz\r\n\" style=\"fill:#ffffff;stroke:#ffffff;stroke-linejoin:miter;stroke-width:0.01;\"/>\r\n   </g>\r\n   <image height=\"217\" id=\"imageb5623c7bb3\" transform=\"scale(1 -1)translate(0 -217)\" width=\"11\" x=\"268\" xlink:href=\"data:image/png;base64,\r\niVBORw0KGgoAAAANSUhEUgAAAAsAAADZCAYAAAD2WsoCAAABYUlEQVR4nO3aQW7DMBBDUWkk52Q9Q+9/kLbptkA2egsC4yJZE8QnZ2Q7TuZHfT7H4WfPmqfaseda5+IxC8SCMaYwl2CI86A2qOce1VlAcs6J3238FcfaeK4eAYnZxt0D4/xKkMUQ5yBzynmIMy2/9UwYsTZsgrQbxgziJm0EMXLVUcAupxvE5IwBUxjoHLvI3LKNmPMd2zjX4vPGHSf4/8dNzi3GDRDv0/0iPj/fd9yNNm0Exw3MweoqhdGkDXhESrYxRi4gOM9YQOuZmE0MGNSGYZxTcMBUG6t+OmBUrI0l4hxGE+c1Ydzk3ES87xhQbhPWRn13wCgZih1YYaY2lrWR2jpqY08KmGMWZ+mZnC9pw1Y0thu5oTzmFzjHhlISkJb/koDUM16RyDm1G7T8ts/BgKkb0GPQpUCWn06KBTzWjn3ZgQXnBV8It7zd20t+yCjBuOB9lmKAMzEv+SOQYPwCBCyBaHjgE4oAAAAASUVORK5CYII=\" y=\"-17\"/>\r\n   <g id=\"matplotlib.axis_3\"/>\r\n   <g id=\"matplotlib.axis_4\">\r\n    <g id=\"ytick_6\">\r\n     <g id=\"line2d_11\">\r\n      <defs>\r\n       <path d=\"M 0 0 \r\nL 3.5 0 \r\n\" id=\"mbe74b02167\" style=\"stroke:#000000;stroke-width:0.8;\"/>\r\n      </defs>\r\n      <g>\r\n       <use style=\"stroke:#000000;stroke-width:0.8;\" x=\"279.292625\" xlink:href=\"#mbe74b02167\" y=\"193.784812\"/>\r\n      </g>\r\n     </g>\r\n     <g id=\"text_38\">\r\n      <!-- 0.2 -->\r\n      <g transform=\"translate(286.292625 197.58403)scale(0.1 -0.1)\">\r\n       <defs>\r\n        <path d=\"M 10.6875 12.40625 \r\nL 21 12.40625 \r\nL 21 0 \r\nL 10.6875 0 \r\nz\r\n\" id=\"DejaVuSans-46\"/>\r\n       </defs>\r\n       <use xlink:href=\"#DejaVuSans-48\"/>\r\n       <use x=\"63.623047\" xlink:href=\"#DejaVuSans-46\"/>\r\n       <use x=\"95.410156\" xlink:href=\"#DejaVuSans-50\"/>\r\n      </g>\r\n     </g>\r\n    </g>\r\n    <g id=\"ytick_7\">\r\n     <g id=\"line2d_12\">\r\n      <g>\r\n       <use style=\"stroke:#000000;stroke-width:0.8;\" x=\"279.292625\" xlink:href=\"#mbe74b02167\" y=\"152.259347\"/>\r\n      </g>\r\n     </g>\r\n     <g id=\"text_39\">\r\n      <!-- 0.4 -->\r\n      <g transform=\"translate(286.292625 156.058565)scale(0.1 -0.1)\">\r\n       <use xlink:href=\"#DejaVuSans-48\"/>\r\n       <use x=\"63.623047\" xlink:href=\"#DejaVuSans-46\"/>\r\n       <use x=\"95.410156\" xlink:href=\"#DejaVuSans-52\"/>\r\n      </g>\r\n     </g>\r\n    </g>\r\n    <g id=\"ytick_8\">\r\n     <g id=\"line2d_13\">\r\n      <g>\r\n       <use style=\"stroke:#000000;stroke-width:0.8;\" x=\"279.292625\" xlink:href=\"#mbe74b02167\" y=\"110.733882\"/>\r\n      </g>\r\n     </g>\r\n     <g id=\"text_40\">\r\n      <!-- 0.6 -->\r\n      <g transform=\"translate(286.292625 114.5331)scale(0.1 -0.1)\">\r\n       <use xlink:href=\"#DejaVuSans-48\"/>\r\n       <use x=\"63.623047\" xlink:href=\"#DejaVuSans-46\"/>\r\n       <use x=\"95.410156\" xlink:href=\"#DejaVuSans-54\"/>\r\n      </g>\r\n     </g>\r\n    </g>\r\n    <g id=\"ytick_9\">\r\n     <g id=\"line2d_14\">\r\n      <g>\r\n       <use style=\"stroke:#000000;stroke-width:0.8;\" x=\"279.292625\" xlink:href=\"#mbe74b02167\" y=\"69.208417\"/>\r\n      </g>\r\n     </g>\r\n     <g id=\"text_41\">\r\n      <!-- 0.8 -->\r\n      <g transform=\"translate(286.292625 73.007635)scale(0.1 -0.1)\">\r\n       <use xlink:href=\"#DejaVuSans-48\"/>\r\n       <use x=\"63.623047\" xlink:href=\"#DejaVuSans-46\"/>\r\n       <use x=\"95.410156\" xlink:href=\"#DejaVuSans-56\"/>\r\n      </g>\r\n     </g>\r\n    </g>\r\n    <g id=\"ytick_10\">\r\n     <g id=\"line2d_15\">\r\n      <g>\r\n       <use style=\"stroke:#000000;stroke-width:0.8;\" x=\"279.292625\" xlink:href=\"#mbe74b02167\" y=\"27.682952\"/>\r\n      </g>\r\n     </g>\r\n     <g id=\"text_42\">\r\n      <!-- 1.0 -->\r\n      <g transform=\"translate(286.292625 31.48217)scale(0.1 -0.1)\">\r\n       <use xlink:href=\"#DejaVuSans-49\"/>\r\n       <use x=\"63.623047\" xlink:href=\"#DejaVuSans-46\"/>\r\n       <use x=\"95.410156\" xlink:href=\"#DejaVuSans-48\"/>\r\n      </g>\r\n     </g>\r\n    </g>\r\n    <g id=\"text_43\">\r\n     <!-- 1e6 -->\r\n     <g transform=\"translate(260.4145 14.798437)scale(0.1 -0.1)\">\r\n      <use xlink:href=\"#DejaVuSans-49\"/>\r\n      <use x=\"63.623047\" xlink:href=\"#DejaVuSans-101\"/>\r\n      <use x=\"125.146484\" xlink:href=\"#DejaVuSans-54\"/>\r\n     </g>\r\n    </g>\r\n   </g>\r\n   <g id=\"patch_8\">\r\n    <path d=\"M 268.420625 235.238437 \r\nL 268.420625 234.389062 \r\nL 268.420625 18.647812 \r\nL 268.420625 17.798438 \r\nL 279.292625 17.798438 \r\nL 279.292625 18.647812 \r\nL 279.292625 234.389062 \r\nL 279.292625 235.238437 \r\nz\r\n\" style=\"fill:none;stroke:#000000;stroke-linejoin:miter;stroke-width:0.8;\"/>\r\n   </g>\r\n  </g>\r\n </g>\r\n <defs>\r\n  <clipPath id=\"peab330dec1\">\r\n   <rect height=\"217.44\" width=\"217.44\" x=\"34.240625\" y=\"17.798438\"/>\r\n  </clipPath>\r\n  <clipPath id=\"p6efe640a6c\">\r\n   <rect height=\"217.44\" width=\"10.872\" x=\"268.420625\" y=\"17.798438\"/>\r\n  </clipPath>\r\n </defs>\r\n</svg>\r\n",
      "image/png": "[encoded data removed]"
     },
     "metadata": {
      "needs_background": "light"
     }
    }
   ],
   "source": [
    "plot_confusion_matrix(clf, tf, data['rating'])"
   ]
  },
  {
   "cell_type": "code",
   "execution_count": 68,
   "metadata": {},
   "outputs": [
    {
     "output_type": "execute_result",
     "data": {
      "text/plain": [
       "                                                      slug  category  \\\n",
       "0                               backstage at tilles center      arts   \n",
       "1                               backstage at tilles center      arts   \n",
       "2                               backstage at tilles center     music   \n",
       "3                               backstage at tilles center      arts   \n",
       "4                               backstage at tilles center      arts   \n",
       "...                                                    ...       ...   \n",
       "1425160                     what if world stories for kids      kids   \n",
       "1425161  inbox besties w kate doster email marketing po...  business   \n",
       "1425162                                         the trypod    comedy   \n",
       "1425163                                         the trypod    comedy   \n",
       "1425164     root evil true story hodel family black dahlia   society   \n",
       "\n",
       "                                                   content  rating  \\\n",
       "0        [thanks, providing, insights, really, enjoy, v...       5   \n",
       "1        [thanks, providing, insights, really, enjoy, v...       5   \n",
       "2        [thanks, providing, insights, really, enjoy, v...       5   \n",
       "3        [super, excited, see, podcast, grow, many, fun...       5   \n",
       "4        [super, excited, see, podcast, grow, many, fun...       5   \n",
       "...                                                    ...     ...   \n",
       "1425160  [made, guys, listen, podcast, fun, spot, diffe...       5   \n",
       "1425161  [discovered, kate, doster, hype, real, heard, ...       5   \n",
       "1425162  [podcast, well, sit, us, podcast, turned, 30, ...       1   \n",
       "1425163  [really, crappy, ep, 2, 4, guess, winners, wou...       1   \n",
       "1425164  [well, presented, story, sad, happened, hodel,...       5   \n",
       "\n",
       "                                                      lemm  predict  \n",
       "0        thanks providing insight really enjoy variety ...        5  \n",
       "1        thanks providing insight really enjoy variety ...        5  \n",
       "2        thanks providing insight really enjoy variety ...        5  \n",
       "3        super excited see podcast grow many fun topic ...        5  \n",
       "4        super excited see podcast grow many fun topic ...        5  \n",
       "...                                                    ...      ...  \n",
       "1425160  made guy listen podcast fun spot difference nu...        5  \n",
       "1425161  discovered kate doster hype real heard person ...        5  \n",
       "1425162  podcast well sit u podcast turned 30 minute ac...        1  \n",
       "1425163  really crappy ep 2 4 guess winner would really...        4  \n",
       "1425164  well presented story sad happened hodel family...        5  \n",
       "\n",
       "[1422197 rows x 6 columns]"
      ],
      "text/html": "<div>\n<style scoped>\n    .dataframe tbody tr th:only-of-type {\n        vertical-align: middle;\n    }\n\n    .dataframe tbody tr th {\n        vertical-align: top;\n    }\n\n    .dataframe thead th {\n        text-align: right;\n    }\n</style>\n<table border=\"1\" class=\"dataframe\">\n  <thead>\n    <tr style=\"text-align: right;\">\n      <th></th>\n      <th>slug</th>\n      <th>category</th>\n      <th>content</th>\n      <th>rating</th>\n      <th>lemm</th>\n      <th>predict</th>\n    </tr>\n  </thead>\n  <tbody>\n    <tr>\n      <th>0</th>\n      <td>backstage at tilles center</td>\n      <td>arts</td>\n      <td>[thanks, providing, insights, really, enjoy, v...</td>\n      <td>5</td>\n      <td>thanks providing insight really enjoy variety ...</td>\n      <td>5</td>\n    </tr>\n    <tr>\n      <th>1</th>\n      <td>backstage at tilles center</td>\n      <td>arts</td>\n      <td>[thanks, providing, insights, really, enjoy, v...</td>\n      <td>5</td>\n      <td>thanks providing insight really enjoy variety ...</td>\n      <td>5</td>\n    </tr>\n    <tr>\n      <th>2</th>\n      <td>backstage at tilles center</td>\n      <td>music</td>\n      <td>[thanks, providing, insights, really, enjoy, v...</td>\n      <td>5</td>\n      <td>thanks providing insight really enjoy variety ...</td>\n      <td>5</td>\n    </tr>\n    <tr>\n      <th>3</th>\n      <td>backstage at tilles center</td>\n      <td>arts</td>\n      <td>[super, excited, see, podcast, grow, many, fun...</td>\n      <td>5</td>\n      <td>super excited see podcast grow many fun topic ...</td>\n      <td>5</td>\n    </tr>\n    <tr>\n      <th>4</th>\n      <td>backstage at tilles center</td>\n      <td>arts</td>\n      <td>[super, excited, see, podcast, grow, many, fun...</td>\n      <td>5</td>\n      <td>super excited see podcast grow many fun topic ...</td>\n      <td>5</td>\n    </tr>\n    <tr>\n      <th>...</th>\n      <td>...</td>\n      <td>...</td>\n      <td>...</td>\n      <td>...</td>\n      <td>...</td>\n      <td>...</td>\n    </tr>\n    <tr>\n      <th>1425160</th>\n      <td>what if world stories for kids</td>\n      <td>kids</td>\n      <td>[made, guys, listen, podcast, fun, spot, diffe...</td>\n      <td>5</td>\n      <td>made guy listen podcast fun spot difference nu...</td>\n      <td>5</td>\n    </tr>\n    <tr>\n      <th>1425161</th>\n      <td>inbox besties w kate doster email marketing po...</td>\n      <td>business</td>\n      <td>[discovered, kate, doster, hype, real, heard, ...</td>\n      <td>5</td>\n      <td>discovered kate doster hype real heard person ...</td>\n      <td>5</td>\n    </tr>\n    <tr>\n      <th>1425162</th>\n      <td>the trypod</td>\n      <td>comedy</td>\n      <td>[podcast, well, sit, us, podcast, turned, 30, ...</td>\n      <td>1</td>\n      <td>podcast well sit u podcast turned 30 minute ac...</td>\n      <td>1</td>\n    </tr>\n    <tr>\n      <th>1425163</th>\n      <td>the trypod</td>\n      <td>comedy</td>\n      <td>[really, crappy, ep, 2, 4, guess, winners, wou...</td>\n      <td>1</td>\n      <td>really crappy ep 2 4 guess winner would really...</td>\n      <td>4</td>\n    </tr>\n    <tr>\n      <th>1425164</th>\n      <td>root evil true story hodel family black dahlia</td>\n      <td>society</td>\n      <td>[well, presented, story, sad, happened, hodel,...</td>\n      <td>5</td>\n      <td>well presented story sad happened hodel family...</td>\n      <td>5</td>\n    </tr>\n  </tbody>\n</table>\n<p>1422197 rows × 6 columns</p>\n</div>"
     },
     "metadata": {},
     "execution_count": 68
    }
   ],
   "source": [
    "data"
   ]
  },
  {
   "cell_type": "code",
   "execution_count": 63,
   "metadata": {},
   "outputs": [
    {
     "output_type": "execute_result",
     "data": {
      "text/plain": [
       "1422197"
      ]
     },
     "metadata": {},
     "execution_count": 63
    }
   ],
   "source": [
    "len(y_predicted_counts)"
   ]
  },
  {
   "cell_type": "code",
   "execution_count": 55,
   "metadata": {},
   "outputs": [
    {
     "output_type": "execute_result",
     "data": {
      "text/plain": [
       "True"
      ]
     },
     "metadata": {},
     "execution_count": 55
    }
   ],
   "source": [
    "1 == 1.0"
   ]
  },
  {
   "cell_type": "code",
   "execution_count": 71,
   "metadata": {},
   "outputs": [
    {
     "output_type": "execute_result",
     "data": {
      "text/plain": [
       "                            slug   category  \\\n",
       "12               ted talks daily       arts   \n",
       "13               ted talks daily       arts   \n",
       "14               ted talks daily  education   \n",
       "18               ted talks daily       arts   \n",
       "19               ted talks daily       arts   \n",
       "...                          ...        ...   \n",
       "1425128  stolen lives true crime    society   \n",
       "1425134           sleep whispers    society   \n",
       "1425135           sleep whispers    society   \n",
       "1425155            conversations    society   \n",
       "1425163               the trypod     comedy   \n",
       "\n",
       "                                                   content  rating  \\\n",
       "12                                   [love, podcast, good]       5   \n",
       "13                                   [love, podcast, good]       5   \n",
       "14                                   [love, podcast, good]       5   \n",
       "18       [much, bs, trying, convince, racist, sexist, c...       3   \n",
       "19       [much, bs, trying, convince, racist, sexist, c...       3   \n",
       "...                                                    ...     ...   \n",
       "1425128  [stories, sad, children, need, protected, keep...       5   \n",
       "1425134  [one, top, asmr, sleep, whisper, podcasts, get...       5   \n",
       "1425135  [one, top, asmr, sleep, whisper, podcasts, get...       5   \n",
       "1425155  [richard, engaged, engaging, sarah, k, however...       5   \n",
       "1425163  [really, crappy, ep, 2, 4, guess, winners, wou...       1   \n",
       "\n",
       "                                                      lemm  predict  \n",
       "12                                       love podcast good        4  \n",
       "13                                       love podcast good        4  \n",
       "14                                       love podcast good        4  \n",
       "18       much b trying convince racist sexist country m...        1  \n",
       "19       much b trying convince racist sexist country m...        1  \n",
       "...                                                    ...      ...  \n",
       "1425128  story sad child need protected keep good work ...        3  \n",
       "1425134  one top asmr sleep whisper podcasts get excite...        1  \n",
       "1425135  one top asmr sleep whisper podcasts get excite...        1  \n",
       "1425155  richard engaged engaging sarah k however like ...        3  \n",
       "1425163  really crappy ep 2 4 guess winner would really...        4  \n",
       "\n",
       "[249080 rows x 6 columns]"
      ],
      "text/html": "<div>\n<style scoped>\n    .dataframe tbody tr th:only-of-type {\n        vertical-align: middle;\n    }\n\n    .dataframe tbody tr th {\n        vertical-align: top;\n    }\n\n    .dataframe thead th {\n        text-align: right;\n    }\n</style>\n<table border=\"1\" class=\"dataframe\">\n  <thead>\n    <tr style=\"text-align: right;\">\n      <th></th>\n      <th>slug</th>\n      <th>category</th>\n      <th>content</th>\n      <th>rating</th>\n      <th>lemm</th>\n      <th>predict</th>\n    </tr>\n  </thead>\n  <tbody>\n    <tr>\n      <th>12</th>\n      <td>ted talks daily</td>\n      <td>arts</td>\n      <td>[love, podcast, good]</td>\n      <td>5</td>\n      <td>love podcast good</td>\n      <td>4</td>\n    </tr>\n    <tr>\n      <th>13</th>\n      <td>ted talks daily</td>\n      <td>arts</td>\n      <td>[love, podcast, good]</td>\n      <td>5</td>\n      <td>love podcast good</td>\n      <td>4</td>\n    </tr>\n    <tr>\n      <th>14</th>\n      <td>ted talks daily</td>\n      <td>education</td>\n      <td>[love, podcast, good]</td>\n      <td>5</td>\n      <td>love podcast good</td>\n      <td>4</td>\n    </tr>\n    <tr>\n      <th>18</th>\n      <td>ted talks daily</td>\n      <td>arts</td>\n      <td>[much, bs, trying, convince, racist, sexist, c...</td>\n      <td>3</td>\n      <td>much b trying convince racist sexist country m...</td>\n      <td>1</td>\n    </tr>\n    <tr>\n      <th>19</th>\n      <td>ted talks daily</td>\n      <td>arts</td>\n      <td>[much, bs, trying, convince, racist, sexist, c...</td>\n      <td>3</td>\n      <td>much b trying convince racist sexist country m...</td>\n      <td>1</td>\n    </tr>\n    <tr>\n      <th>...</th>\n      <td>...</td>\n      <td>...</td>\n      <td>...</td>\n      <td>...</td>\n      <td>...</td>\n      <td>...</td>\n    </tr>\n    <tr>\n      <th>1425128</th>\n      <td>stolen lives true crime</td>\n      <td>society</td>\n      <td>[stories, sad, children, need, protected, keep...</td>\n      <td>5</td>\n      <td>story sad child need protected keep good work ...</td>\n      <td>3</td>\n    </tr>\n    <tr>\n      <th>1425134</th>\n      <td>sleep whispers</td>\n      <td>society</td>\n      <td>[one, top, asmr, sleep, whisper, podcasts, get...</td>\n      <td>5</td>\n      <td>one top asmr sleep whisper podcasts get excite...</td>\n      <td>1</td>\n    </tr>\n    <tr>\n      <th>1425135</th>\n      <td>sleep whispers</td>\n      <td>society</td>\n      <td>[one, top, asmr, sleep, whisper, podcasts, get...</td>\n      <td>5</td>\n      <td>one top asmr sleep whisper podcasts get excite...</td>\n      <td>1</td>\n    </tr>\n    <tr>\n      <th>1425155</th>\n      <td>conversations</td>\n      <td>society</td>\n      <td>[richard, engaged, engaging, sarah, k, however...</td>\n      <td>5</td>\n      <td>richard engaged engaging sarah k however like ...</td>\n      <td>3</td>\n    </tr>\n    <tr>\n      <th>1425163</th>\n      <td>the trypod</td>\n      <td>comedy</td>\n      <td>[really, crappy, ep, 2, 4, guess, winners, wou...</td>\n      <td>1</td>\n      <td>really crappy ep 2 4 guess winner would really...</td>\n      <td>4</td>\n    </tr>\n  </tbody>\n</table>\n<p>249080 rows × 6 columns</p>\n</div>"
     },
     "metadata": {},
     "execution_count": 71
    }
   ],
   "source": [
    "filtered = data[data['rating'] != data['predict']]\n",
    "filtered"
   ]
  },
  {
   "cell_type": "code",
   "execution_count": 73,
   "metadata": {},
   "outputs": [
    {
     "output_type": "execute_result",
     "data": {
      "text/plain": [
       "5    218153\n",
       "1     10953\n",
       "4      9707\n",
       "3      5702\n",
       "2      4565\n",
       "Name: rating, dtype: int64"
      ]
     },
     "metadata": {},
     "execution_count": 73
    }
   ],
   "source": [
    "filtered['rating'].value_counts()"
   ]
  },
  {
   "cell_type": "code",
   "execution_count": 75,
   "metadata": {},
   "outputs": [
    {
     "output_type": "execute_result",
     "data": {
      "text/plain": [
       "array([0.17234942, 0.18139812, 0.23316759, 0.19658002, 0.17959007])"
      ]
     },
     "metadata": {},
     "execution_count": 75
    }
   ],
   "source": [
    "# % of total ratings that were misclassified\n",
    "\n",
    "np.array(filtered['rating'].value_counts()) / np.array(data['rating'].value_counts())"
   ]
  },
  {
   "cell_type": "code",
   "execution_count": 78,
   "metadata": {},
   "outputs": [
    {
     "output_type": "stream",
     "name": "stdout",
     "text": [
      "{218153: 1265760, 10953: 60381, 9707: 41631, 5702: 29006, 4565: 25419}\n"
     ]
    }
   ],
   "source": [
    "compare = dict(zip(np.array(filtered['rating'].value_counts()), np.array(data['rating'].value_counts())))\n",
    "print(compare)"
   ]
  },
  {
   "cell_type": "code",
   "execution_count": 81,
   "metadata": {},
   "outputs": [
    {
     "output_type": "execute_result",
     "data": {
      "text/plain": [
       "1.5709932551790589"
      ]
     },
     "metadata": {},
     "execution_count": 81
    }
   ],
   "source": [
    "(np.array(filtered['rating']) - np.array(filtered['predict'])).mean()"
   ]
  },
  {
   "cell_type": "code",
   "execution_count": null,
   "metadata": {},
   "outputs": [],
   "source": []
  }
 ]
}